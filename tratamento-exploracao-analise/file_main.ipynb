{
 "cells": [
  {
   "cell_type": "markdown",
   "metadata": {},
   "source": [
    "# Análise de Dados da COVID 19 no estado de São Paulo"
   ]
  },
  {
   "cell_type": "markdown",
   "metadata": {},
   "source": [
    "Este projeto analisa os dados dos casos de covid 19 no estado de São Paulo do período de fevereiro de 2020 à setembro de 2021"
   ]
  },
  {
   "cell_type": "markdown",
   "metadata": {},
   "source": [
    "Os dados esão disponíveis nos sites:\n",
    "\n",
    "- https://www.seade.gov.br/coronavirus/#\n",
    "- https://github.com/seade-R/dados-covid-sp\n",
    "- https://www.seade.gov.br"
   ]
  },
  {
   "cell_type": "markdown",
   "metadata": {},
   "source": [
    "### Importação dos dados"
   ]
  },
  {
   "cell_type": "code",
   "execution_count": null,
   "metadata": {},
   "outputs": [],
   "source": [
    "import numpy as np\n",
    "import pandas as pd"
   ]
  },
  {
   "cell_type": "code",
   "execution_count": null,
   "metadata": {},
   "outputs": [],
   "source": [
    "# A variável \"covid_sp\" será uma tabela de dados\n",
    "covid_sp = pd.read_csv(\"../dados_covid_sp.csv\", sep=\";\", encoding=\"utf-8\")"
   ]
  },
  {
   "cell_type": "code",
   "execution_count": null,
   "metadata": {},
   "outputs": [],
   "source": [
    "# Irá ler as primeiras linhas do arquivo, mas pode definir um número específico de linhas\n",
    "# covid_sp.head(25)\n",
    "covid_sp.head()"
   ]
  },
  {
   "cell_type": "code",
   "execution_count": null,
   "metadata": {},
   "outputs": [],
   "source": [
    "# Mostra a quantidade de registros (linhas(374034), colunas(26))\n",
    "covid_sp.shape"
   ]
  },
  {
   "cell_type": "markdown",
   "metadata": {},
   "source": [
    "O mesmo vale para arquivos de excel (.xlsx), é a mesma lógica dos arquivos .csv"
   ]
  },
  {
   "cell_type": "markdown",
   "metadata": {},
   "source": [
    "### Organização dos dados"
   ]
  },
  {
   "cell_type": "markdown",
   "metadata": {},
   "source": [
    "#### Renomeando variáveis (colunas)"
   ]
  },
  {
   "cell_type": "code",
   "execution_count": null,
   "metadata": {},
   "outputs": [],
   "source": [
    "# Vai renomear colunas selecionadas através de um dicionário\n",
    "covid_sp = covid_sp.rename(columns={\"nome_munic\": \"municipio\", \"datahora\": \"data\", \"map_leg\": \"rotulo_mapa\", \"map_leg_s\": \"codigo_mapa\"})"
   ]
  },
  {
   "cell_type": "code",
   "execution_count": null,
   "metadata": {},
   "outputs": [],
   "source": [
    "covid_sp.head(2)"
   ]
  },
  {
   "cell_type": "markdown",
   "metadata": {},
   "source": [
    "#### Excluindo variáveis (colunas)"
   ]
  },
  {
   "cell_type": "code",
   "execution_count": null,
   "metadata": {},
   "outputs": [],
   "source": [
    "# Vai dropar as colunas selecionadas através de uma lista\n",
    "covid_sp_alterado = covid_sp.drop(columns=[\"dia\", \"mes\", \"data\"])"
   ]
  },
  {
   "cell_type": "code",
   "execution_count": null,
   "metadata": {},
   "outputs": [],
   "source": [
    "covid_sp_alterado.head(3)"
   ]
  },
  {
   "cell_type": "code",
   "execution_count": null,
   "metadata": {},
   "outputs": [],
   "source": [
    "# Excluindo por número, aonde dentro dos colchetes está o índice da coluna a ser excluída, axis=1 refere-se à colunas, axis=0 refere-se à linhas\n",
    "covid_sp_alterado = covid_sp_alterado.drop(covid_sp_alterado.columns[[2]], axis=1)"
   ]
  },
  {
   "cell_type": "code",
   "execution_count": null,
   "metadata": {},
   "outputs": [],
   "source": [
    "covid_sp_alterado.head(1)"
   ]
  },
  {
   "cell_type": "code",
   "execution_count": null,
   "metadata": {},
   "outputs": [],
   "source": [
    "covid_sp_alterado = covid_sp"
   ]
  },
  {
   "cell_type": "markdown",
   "metadata": {},
   "source": [
    "#### Criando e alterando valores das colunas (variáveis)"
   ]
  },
  {
   "cell_type": "code",
   "execution_count": null,
   "metadata": {},
   "outputs": [],
   "source": [
    "# Alterando valores na coluna\n",
    "\n",
    "covid_sp_alterado[\"area\"] = covid_sp_alterado[\"area\"] / 100\n",
    "# ou\n",
    "# covid_sp_alterado[\"area\"] = covid_sp_alterado.area / 100"
   ]
  },
  {
   "cell_type": "code",
   "execution_count": null,
   "metadata": {},
   "outputs": [],
   "source": [
    "# Criando uma coluna com a densidade demográfica (hab/km2)\n",
    "\n",
    "covid_sp_alterado[\"densidade_demo\"] = covid_sp_alterado[\"pop\"] / covid_sp_alterado[\"area\"]"
   ]
  },
  {
   "cell_type": "code",
   "execution_count": null,
   "metadata": {},
   "outputs": [],
   "source": [
    "covid_sp_alterado.shape"
   ]
  },
  {
   "cell_type": "code",
   "execution_count": null,
   "metadata": {},
   "outputs": [],
   "source": [
    "# Criando uma coluna com índices\n",
    "lista = list(range(1, 374035))\n",
    "lista"
   ]
  },
  {
   "cell_type": "code",
   "execution_count": 30,
   "metadata": {},
   "outputs": [
    {
     "data": {
      "text/html": [
       "<div>\n",
       "<style scoped>\n",
       "    .dataframe tbody tr th:only-of-type {\n",
       "        vertical-align: middle;\n",
       "    }\n",
       "\n",
       "    .dataframe tbody tr th {\n",
       "        vertical-align: top;\n",
       "    }\n",
       "\n",
       "    .dataframe thead th {\n",
       "        text-align: right;\n",
       "    }\n",
       "</style>\n",
       "<table border=\"1\" class=\"dataframe\">\n",
       "  <thead>\n",
       "    <tr style=\"text-align: right;\">\n",
       "      <th></th>\n",
       "      <th>indice</th>\n",
       "    </tr>\n",
       "  </thead>\n",
       "  <tbody>\n",
       "    <tr>\n",
       "      <th>0</th>\n",
       "      <td>1</td>\n",
       "    </tr>\n",
       "    <tr>\n",
       "      <th>1</th>\n",
       "      <td>2</td>\n",
       "    </tr>\n",
       "    <tr>\n",
       "      <th>2</th>\n",
       "      <td>3</td>\n",
       "    </tr>\n",
       "    <tr>\n",
       "      <th>3</th>\n",
       "      <td>4</td>\n",
       "    </tr>\n",
       "    <tr>\n",
       "      <th>4</th>\n",
       "      <td>5</td>\n",
       "    </tr>\n",
       "    <tr>\n",
       "      <th>...</th>\n",
       "      <td>...</td>\n",
       "    </tr>\n",
       "    <tr>\n",
       "      <th>374029</th>\n",
       "      <td>374030</td>\n",
       "    </tr>\n",
       "    <tr>\n",
       "      <th>374030</th>\n",
       "      <td>374031</td>\n",
       "    </tr>\n",
       "    <tr>\n",
       "      <th>374031</th>\n",
       "      <td>374032</td>\n",
       "    </tr>\n",
       "    <tr>\n",
       "      <th>374032</th>\n",
       "      <td>374033</td>\n",
       "    </tr>\n",
       "    <tr>\n",
       "      <th>374033</th>\n",
       "      <td>374034</td>\n",
       "    </tr>\n",
       "  </tbody>\n",
       "</table>\n",
       "<p>374034 rows × 1 columns</p>\n",
       "</div>"
      ],
      "text/plain": [
       "        indice\n",
       "0            1\n",
       "1            2\n",
       "2            3\n",
       "3            4\n",
       "4            5\n",
       "...        ...\n",
       "374029  374030\n",
       "374030  374031\n",
       "374031  374032\n",
       "374032  374033\n",
       "374033  374034\n",
       "\n",
       "[374034 rows x 1 columns]"
      ]
     },
     "execution_count": 30,
     "metadata": {},
     "output_type": "execute_result"
    }
   ],
   "source": [
    "df = pd.DataFrame(lista, columns=[\"indice\"])\n",
    "df"
   ]
  },
  {
   "cell_type": "code",
   "execution_count": 31,
   "metadata": {},
   "outputs": [
    {
     "data": {
      "text/html": [
       "<div>\n",
       "<style scoped>\n",
       "    .dataframe tbody tr th:only-of-type {\n",
       "        vertical-align: middle;\n",
       "    }\n",
       "\n",
       "    .dataframe tbody tr th {\n",
       "        vertical-align: top;\n",
       "    }\n",
       "\n",
       "    .dataframe thead th {\n",
       "        text-align: right;\n",
       "    }\n",
       "</style>\n",
       "<table border=\"1\" class=\"dataframe\">\n",
       "  <thead>\n",
       "    <tr style=\"text-align: right;\">\n",
       "      <th></th>\n",
       "      <th>indice</th>\n",
       "      <th>nome_munic</th>\n",
       "      <th>codigo_ibge</th>\n",
       "      <th>dia</th>\n",
       "      <th>mes</th>\n",
       "      <th>datahora</th>\n",
       "      <th>casos</th>\n",
       "      <th>casos_novos</th>\n",
       "      <th>casos_pc</th>\n",
       "      <th>casos_mm7d</th>\n",
       "      <th>...</th>\n",
       "      <th>cod_drs</th>\n",
       "      <th>pop</th>\n",
       "      <th>pop_60</th>\n",
       "      <th>area</th>\n",
       "      <th>map_leg</th>\n",
       "      <th>map_leg_s</th>\n",
       "      <th>latitude</th>\n",
       "      <th>longitude</th>\n",
       "      <th>semana_epidem</th>\n",
       "      <th>densidade_demo</th>\n",
       "    </tr>\n",
       "  </thead>\n",
       "  <tbody>\n",
       "    <tr>\n",
       "      <th>0</th>\n",
       "      <td>1</td>\n",
       "      <td>Adamantina</td>\n",
       "      <td>3500105</td>\n",
       "      <td>25</td>\n",
       "      <td>2</td>\n",
       "      <td>2020-02-25</td>\n",
       "      <td>0</td>\n",
       "      <td>0</td>\n",
       "      <td>0,00000000000000e+00</td>\n",
       "      <td>0,000000000000000</td>\n",
       "      <td>...</td>\n",
       "      <td>5</td>\n",
       "      <td>33894</td>\n",
       "      <td>7398</td>\n",
       "      <td>411.99</td>\n",
       "      <td>0</td>\n",
       "      <td>8.0</td>\n",
       "      <td>-21,6820</td>\n",
       "      <td>-51,0737</td>\n",
       "      <td>9</td>\n",
       "      <td>82.268987</td>\n",
       "    </tr>\n",
       "    <tr>\n",
       "      <th>1</th>\n",
       "      <td>2</td>\n",
       "      <td>Adolfo</td>\n",
       "      <td>3500204</td>\n",
       "      <td>25</td>\n",
       "      <td>2</td>\n",
       "      <td>2020-02-25</td>\n",
       "      <td>0</td>\n",
       "      <td>0</td>\n",
       "      <td>0,00000000000000e+00</td>\n",
       "      <td>0,000000000000000</td>\n",
       "      <td>...</td>\n",
       "      <td>15</td>\n",
       "      <td>3447</td>\n",
       "      <td>761</td>\n",
       "      <td>211.06</td>\n",
       "      <td>0</td>\n",
       "      <td>8.0</td>\n",
       "      <td>-21,2325</td>\n",
       "      <td>-49,6451</td>\n",
       "      <td>9</td>\n",
       "      <td>16.331849</td>\n",
       "    </tr>\n",
       "  </tbody>\n",
       "</table>\n",
       "<p>2 rows × 28 columns</p>\n",
       "</div>"
      ],
      "text/plain": [
       "   indice  nome_munic  codigo_ibge  dia  mes    datahora  casos  casos_novos  \\\n",
       "0       1  Adamantina      3500105   25    2  2020-02-25      0            0   \n",
       "1       2      Adolfo      3500204   25    2  2020-02-25      0            0   \n",
       "\n",
       "               casos_pc         casos_mm7d  ...  cod_drs    pop pop_60  \\\n",
       "0  0,00000000000000e+00  0,000000000000000  ...        5  33894   7398   \n",
       "1  0,00000000000000e+00  0,000000000000000  ...       15   3447    761   \n",
       "\n",
       "     area map_leg map_leg_s  latitude longitude  semana_epidem  densidade_demo  \n",
       "0  411.99       0       8.0  -21,6820  -51,0737              9       82.268987  \n",
       "1  211.06       0       8.0  -21,2325  -49,6451              9       16.331849  \n",
       "\n",
       "[2 rows x 28 columns]"
      ]
     },
     "execution_count": 31,
     "metadata": {},
     "output_type": "execute_result"
    }
   ],
   "source": [
    "covid_sp_alterado.head(2)"
   ]
  },
  {
   "cell_type": "code",
   "execution_count": null,
   "metadata": {},
   "outputs": [],
   "source": [
    "# Juntando dois DataFrames\n",
    "covid_sp_alterado = pd.concat([covid_sp_alterado, df], axis=1)\n",
    "covid_sp_alterado.head()"
   ]
  },
  {
   "cell_type": "code",
   "execution_count": null,
   "metadata": {},
   "outputs": [],
   "source": [
    "covid_sp_alterado = covid_sp_alterado.reindex(columns=[\"indice\"] + list(covid_sp_alterado.columns[:-1]))"
   ]
  },
  {
   "cell_type": "code",
   "execution_count": null,
   "metadata": {},
   "outputs": [],
   "source": [
    "covid_sp_alterado.head(5)"
   ]
  },
  {
   "cell_type": "markdown",
   "metadata": {},
   "source": [
    "#### Contagem de Registros das Variáveis (Colunas)"
   ]
  },
  {
   "cell_type": "code",
   "execution_count": null,
   "metadata": {},
   "outputs": [],
   "source": [
    "# Por quantidade:\n",
    "covid_sp_alterado[\"semana_epidem\"].value_counts()\n",
    "\n",
    "# Por ordem do index => .sort_index()"
   ]
  },
  {
   "cell_type": "code",
   "execution_count": null,
   "metadata": {},
   "outputs": [],
   "source": [
    "# Dessa forma trás os valores dentro de um dicionário\n",
    "from collections import Counter\n",
    "Counter(covid_sp_alterado.semana_epidem)"
   ]
  },
  {
   "cell_type": "code",
   "execution_count": null,
   "metadata": {},
   "outputs": [],
   "source": [
    "# Realiza a query aonde \"obitos_novos\" for maior que 50, trazendo junto o nome do município e os valores\n",
    "covid_sp_alterado.query(\"obitos_novos > 50\")[\"nome_munic\"].value_counts()"
   ]
  },
  {
   "cell_type": "markdown",
   "metadata": {},
   "source": [
    "#### Selecionar Variáveis (Colunas) por Índices"
   ]
  },
  {
   "cell_type": "code",
   "execution_count": null,
   "metadata": {},
   "outputs": [],
   "source": [
    "# \"iloc\"= localização do índice\n",
    "# Separados pela vírgula, ao lado esquerdo as linhas, ao lado direito as colunas\n",
    "x = covid_sp_alterado.iloc[:,5:13]\n",
    "x"
   ]
  },
  {
   "cell_type": "code",
   "execution_count": null,
   "metadata": {},
   "outputs": [],
   "source": [
    "y = covid_sp_alterado.iloc[0:4, 2].values"
   ]
  },
  {
   "cell_type": "code",
   "execution_count": null,
   "metadata": {},
   "outputs": [],
   "source": [
    "y"
   ]
  },
  {
   "cell_type": "code",
   "execution_count": null,
   "metadata": {},
   "outputs": [],
   "source": []
  }
 ],
 "metadata": {
  "kernelspec": {
   "display_name": "base",
   "language": "python",
   "name": "python3"
  },
  "language_info": {
   "codemirror_mode": {
    "name": "ipython",
    "version": 3
   },
   "file_extension": ".py",
   "mimetype": "text/x-python",
   "name": "python",
   "nbconvert_exporter": "python",
   "pygments_lexer": "ipython3",
   "version": "3.11.4"
  },
  "orig_nbformat": 4
 },
 "nbformat": 4,
 "nbformat_minor": 2
}
