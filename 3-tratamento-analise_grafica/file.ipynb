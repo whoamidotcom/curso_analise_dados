{
 "cells": [
  {
   "cell_type": "markdown",
   "metadata": {},
   "source": [
    "# Projeto Análise de Dados sobre a Síndrome Respiratória Aguda Grave (SRAG)"
   ]
  },
  {
   "cell_type": "markdown",
   "metadata": {},
   "source": [
    "Este projeto analisa os dados dos casos de síndrome respiratória aguda no estado de São Paulo do período de fevereiro de 2020 à setembro de 2021"
   ]
  },
  {
   "cell_type": "markdown",
   "metadata": {},
   "source": [
    "Os dados esão disponíveis nos sites:\n",
    "\n",
    "- https://www.seade.gov.br/coronavirus/#\n",
    "- https://github.com/seade-R/dados-covid-sp\n",
    "- https://www.seade.gov.br"
   ]
  },
  {
   "cell_type": "markdown",
   "metadata": {},
   "source": [
    "### Importação dos dados"
   ]
  },
  {
   "cell_type": "code",
   "execution_count": 36,
   "metadata": {},
   "outputs": [],
   "source": [
    "import pandas as pd\n",
    "import numpy as np"
   ]
  },
  {
   "cell_type": "code",
   "execution_count": 37,
   "metadata": {},
   "outputs": [
    {
     "name": "stderr",
     "output_type": "stream",
     "text": [
      "C:\\Users\\vitor\\AppData\\Local\\Temp\\ipykernel_8532\\301896852.py:1: DtypeWarning: Columns (15,55,86,92,94,106,108,115,117) have mixed types. Specify dtype option on import or set low_memory=False.\n",
      "  srag_sp = pd.read_csv(\"../SRAG_2020.csv\", sep=\";\", encoding=\"utf-8\")\n"
     ]
    }
   ],
   "source": [
    "srag_sp = pd.read_csv(\"../SRAG_2020.csv\", sep=\";\", encoding=\"utf-8\")"
   ]
  },
  {
   "cell_type": "code",
   "execution_count": 38,
   "metadata": {},
   "outputs": [
    {
     "data": {
      "text/html": [
       "<div>\n",
       "<style scoped>\n",
       "    .dataframe tbody tr th:only-of-type {\n",
       "        vertical-align: middle;\n",
       "    }\n",
       "\n",
       "    .dataframe tbody tr th {\n",
       "        vertical-align: top;\n",
       "    }\n",
       "\n",
       "    .dataframe thead th {\n",
       "        text-align: right;\n",
       "    }\n",
       "</style>\n",
       "<table border=\"1\" class=\"dataframe\">\n",
       "  <thead>\n",
       "    <tr style=\"text-align: right;\">\n",
       "      <th></th>\n",
       "      <th>DT_NOTIFIC</th>\n",
       "      <th>CS_SEXO</th>\n",
       "      <th>NU_IDADE_N</th>\n",
       "      <th>TP_IDADE</th>\n",
       "      <th>COD_IDADE</th>\n",
       "      <th>ID_PAIS</th>\n",
       "      <th>CO_PAIS</th>\n",
       "      <th>SG_UF</th>\n",
       "      <th>ID_RG_RESI</th>\n",
       "      <th>CO_RG_RESI</th>\n",
       "      <th>...</th>\n",
       "      <th>SEM_NOT</th>\n",
       "      <th>DT_SIN_PRI</th>\n",
       "      <th>SEM_PRI</th>\n",
       "      <th>SG_UF_NOT</th>\n",
       "      <th>ID_REGIONA</th>\n",
       "      <th>CO_REGIONA</th>\n",
       "      <th>ID_MUNICIP</th>\n",
       "      <th>CO_MUN_NOT</th>\n",
       "      <th>ID_UNIDADE</th>\n",
       "      <th>CO_UNI_NOT</th>\n",
       "    </tr>\n",
       "  </thead>\n",
       "  <tbody>\n",
       "    <tr>\n",
       "      <th>0</th>\n",
       "      <td>12/30/2019</td>\n",
       "      <td>F</td>\n",
       "      <td>52</td>\n",
       "      <td>3</td>\n",
       "      <td>3052</td>\n",
       "      <td>BRASIL</td>\n",
       "      <td>1</td>\n",
       "      <td>SP</td>\n",
       "      <td>GVE XXIX SAO JOSE DO RIO PRETO</td>\n",
       "      <td>1354.0</td>\n",
       "      <td>...</td>\n",
       "      <td>1</td>\n",
       "      <td>12/29/2019</td>\n",
       "      <td>1</td>\n",
       "      <td>SP</td>\n",
       "      <td>GVE XXIX SAO JOSE DO RIO PRETO</td>\n",
       "      <td>1354.0</td>\n",
       "      <td>CATANDUVA</td>\n",
       "      <td>351110</td>\n",
       "      <td>HOSP ESCOLA EMILIO CARLOS CATANDUVA</td>\n",
       "      <td>2089335</td>\n",
       "    </tr>\n",
       "  </tbody>\n",
       "</table>\n",
       "<p>1 rows × 133 columns</p>\n",
       "</div>"
      ],
      "text/plain": [
       "   DT_NOTIFIC CS_SEXO  NU_IDADE_N  TP_IDADE  COD_IDADE ID_PAIS  CO_PAIS SG_UF  \\\n",
       "0  12/30/2019       F          52         3       3052  BRASIL        1    SP   \n",
       "\n",
       "                       ID_RG_RESI  CO_RG_RESI  ... SEM_NOT  DT_SIN_PRI  \\\n",
       "0  GVE XXIX SAO JOSE DO RIO PRETO      1354.0  ...       1  12/29/2019   \n",
       "\n",
       "   SEM_PRI  SG_UF_NOT                      ID_REGIONA CO_REGIONA  ID_MUNICIP  \\\n",
       "0        1         SP  GVE XXIX SAO JOSE DO RIO PRETO     1354.0   CATANDUVA   \n",
       "\n",
       "   CO_MUN_NOT                           ID_UNIDADE  CO_UNI_NOT  \n",
       "0      351110  HOSP ESCOLA EMILIO CARLOS CATANDUVA     2089335  \n",
       "\n",
       "[1 rows x 133 columns]"
      ]
     },
     "execution_count": 38,
     "metadata": {},
     "output_type": "execute_result"
    }
   ],
   "source": [
    "srag_sp.head(1)"
   ]
  },
  {
   "cell_type": "code",
   "execution_count": 39,
   "metadata": {},
   "outputs": [
    {
     "data": {
      "text/plain": [
       "(106651, 133)"
      ]
     },
     "execution_count": 39,
     "metadata": {},
     "output_type": "execute_result"
    }
   ],
   "source": [
    "# Na tabela existem 106651 linhas e 133 colunas\n",
    "srag_sp.shape"
   ]
  },
  {
   "cell_type": "markdown",
   "metadata": {},
   "source": [
    "### Tratamento dos dados"
   ]
  },
  {
   "cell_type": "markdown",
   "metadata": {},
   "source": [
    "##### Excluindo variáveis"
   ]
  },
  {
   "cell_type": "code",
   "execution_count": 46,
   "metadata": {},
   "outputs": [],
   "source": [
    "# Definido uma lista com um range entre 50 e 132\n",
    "lista = list(range(50, 133))\n"
   ]
  },
  {
   "cell_type": "code",
   "execution_count": 47,
   "metadata": {},
   "outputs": [],
   "source": [
    "# Com o tamanho da lista definido vamos retirar com \"drop\" as colunas da tabela dentro desse range\n",
    "srag_mod = srag_sp.drop(srag_sp.columns[lista], axis=1)"
   ]
  },
  {
   "cell_type": "code",
   "execution_count": 84,
   "metadata": {},
   "outputs": [
    {
     "data": {
      "text/html": [
       "<div>\n",
       "<style scoped>\n",
       "    .dataframe tbody tr th:only-of-type {\n",
       "        vertical-align: middle;\n",
       "    }\n",
       "\n",
       "    .dataframe tbody tr th {\n",
       "        vertical-align: top;\n",
       "    }\n",
       "\n",
       "    .dataframe thead th {\n",
       "        text-align: right;\n",
       "    }\n",
       "</style>\n",
       "<table border=\"1\" class=\"dataframe\">\n",
       "  <thead>\n",
       "    <tr style=\"text-align: right;\">\n",
       "      <th></th>\n",
       "      <th>data</th>\n",
       "      <th>sexo</th>\n",
       "      <th>NU_IDADE_N</th>\n",
       "      <th>TP_IDADE</th>\n",
       "      <th>ID_MN_RESI</th>\n",
       "      <th>CS_ZONA</th>\n",
       "      <th>CS_GESTANT</th>\n",
       "      <th>raca</th>\n",
       "      <th>CS_ETINIA</th>\n",
       "      <th>CS_ESCOL_N</th>\n",
       "      <th>...</th>\n",
       "      <th>RENAL</th>\n",
       "      <th>OBESIDADE</th>\n",
       "      <th>OBES_IMC</th>\n",
       "      <th>OUT_MORBI</th>\n",
       "      <th>MORB_DESC</th>\n",
       "      <th>VACINA</th>\n",
       "      <th>DT_UT_DOSE</th>\n",
       "      <th>MAE_VAC</th>\n",
       "      <th>DT_VAC_MAE</th>\n",
       "      <th>M_AMAMENTA</th>\n",
       "    </tr>\n",
       "  </thead>\n",
       "  <tbody>\n",
       "    <tr>\n",
       "      <th>0</th>\n",
       "      <td>2019-12-30</td>\n",
       "      <td>F</td>\n",
       "      <td>52</td>\n",
       "      <td>3</td>\n",
       "      <td>CATANDUVA</td>\n",
       "      <td>urbana</td>\n",
       "      <td>9</td>\n",
       "      <td>ignorado</td>\n",
       "      <td>NaN</td>\n",
       "      <td>NaN</td>\n",
       "      <td>...</td>\n",
       "      <td>2.0</td>\n",
       "      <td>NaN</td>\n",
       "      <td>NaN</td>\n",
       "      <td>2.0</td>\n",
       "      <td>NaN</td>\n",
       "      <td>1.0</td>\n",
       "      <td>5/10/2019</td>\n",
       "      <td>NaN</td>\n",
       "      <td>None</td>\n",
       "      <td>NaN</td>\n",
       "    </tr>\n",
       "    <tr>\n",
       "      <th>1</th>\n",
       "      <td>2020-01-02</td>\n",
       "      <td>M</td>\n",
       "      <td>7</td>\n",
       "      <td>2</td>\n",
       "      <td>SAO PAULO</td>\n",
       "      <td>urbana</td>\n",
       "      <td>6</td>\n",
       "      <td>ignorado</td>\n",
       "      <td>NaN</td>\n",
       "      <td>5.0</td>\n",
       "      <td>...</td>\n",
       "      <td>NaN</td>\n",
       "      <td>NaN</td>\n",
       "      <td>NaN</td>\n",
       "      <td>NaN</td>\n",
       "      <td>NaN</td>\n",
       "      <td>2.0</td>\n",
       "      <td>None</td>\n",
       "      <td>NaN</td>\n",
       "      <td>None</td>\n",
       "      <td>NaN</td>\n",
       "    </tr>\n",
       "    <tr>\n",
       "      <th>2</th>\n",
       "      <td>2019-12-29</td>\n",
       "      <td>F</td>\n",
       "      <td>22</td>\n",
       "      <td>3</td>\n",
       "      <td>CAMPINAS</td>\n",
       "      <td>urbana</td>\n",
       "      <td>1</td>\n",
       "      <td>ignorado</td>\n",
       "      <td>NaN</td>\n",
       "      <td>9.0</td>\n",
       "      <td>...</td>\n",
       "      <td>2.0</td>\n",
       "      <td>2.0</td>\n",
       "      <td>NaN</td>\n",
       "      <td>2.0</td>\n",
       "      <td>NaN</td>\n",
       "      <td>1.0</td>\n",
       "      <td>8/17/2019</td>\n",
       "      <td>NaN</td>\n",
       "      <td>None</td>\n",
       "      <td>NaN</td>\n",
       "    </tr>\n",
       "    <tr>\n",
       "      <th>3</th>\n",
       "      <td>2019-12-31</td>\n",
       "      <td>M</td>\n",
       "      <td>75</td>\n",
       "      <td>3</td>\n",
       "      <td>SAO BERNARDO DO CAMPO</td>\n",
       "      <td>urbana</td>\n",
       "      <td>6</td>\n",
       "      <td>ignorado</td>\n",
       "      <td>NaN</td>\n",
       "      <td>NaN</td>\n",
       "      <td>...</td>\n",
       "      <td>2.0</td>\n",
       "      <td>2.0</td>\n",
       "      <td>NaN</td>\n",
       "      <td>2.0</td>\n",
       "      <td>NaN</td>\n",
       "      <td>9.0</td>\n",
       "      <td>None</td>\n",
       "      <td>NaN</td>\n",
       "      <td>None</td>\n",
       "      <td>NaN</td>\n",
       "    </tr>\n",
       "    <tr>\n",
       "      <th>4</th>\n",
       "      <td>2020-01-02</td>\n",
       "      <td>F</td>\n",
       "      <td>1</td>\n",
       "      <td>3</td>\n",
       "      <td>CANDIDO MOTA</td>\n",
       "      <td>urbana</td>\n",
       "      <td>6</td>\n",
       "      <td>branca</td>\n",
       "      <td>NaN</td>\n",
       "      <td>5.0</td>\n",
       "      <td>...</td>\n",
       "      <td>NaN</td>\n",
       "      <td>NaN</td>\n",
       "      <td>NaN</td>\n",
       "      <td>NaN</td>\n",
       "      <td>NaN</td>\n",
       "      <td>2.0</td>\n",
       "      <td>None</td>\n",
       "      <td>NaN</td>\n",
       "      <td>None</td>\n",
       "      <td>NaN</td>\n",
       "    </tr>\n",
       "    <tr>\n",
       "      <th>5</th>\n",
       "      <td>2020-01-02</td>\n",
       "      <td>F</td>\n",
       "      <td>30</td>\n",
       "      <td>3</td>\n",
       "      <td>SAO JOSE DO RIO PRETO</td>\n",
       "      <td>urbana</td>\n",
       "      <td>5</td>\n",
       "      <td>branca</td>\n",
       "      <td>NaN</td>\n",
       "      <td>3.0</td>\n",
       "      <td>...</td>\n",
       "      <td>2.0</td>\n",
       "      <td>2.0</td>\n",
       "      <td>NaN</td>\n",
       "      <td>1.0</td>\n",
       "      <td>NaN</td>\n",
       "      <td>1.0</td>\n",
       "      <td>2/1/2019</td>\n",
       "      <td>NaN</td>\n",
       "      <td>None</td>\n",
       "      <td>NaN</td>\n",
       "    </tr>\n",
       "    <tr>\n",
       "      <th>6</th>\n",
       "      <td>2020-01-02</td>\n",
       "      <td>F</td>\n",
       "      <td>45</td>\n",
       "      <td>3</td>\n",
       "      <td>SAO PAULO</td>\n",
       "      <td>urbana</td>\n",
       "      <td>9</td>\n",
       "      <td>ignorado</td>\n",
       "      <td>NaN</td>\n",
       "      <td>9.0</td>\n",
       "      <td>...</td>\n",
       "      <td>NaN</td>\n",
       "      <td>NaN</td>\n",
       "      <td>NaN</td>\n",
       "      <td>NaN</td>\n",
       "      <td>NaN</td>\n",
       "      <td>9.0</td>\n",
       "      <td>None</td>\n",
       "      <td>NaN</td>\n",
       "      <td>None</td>\n",
       "      <td>NaN</td>\n",
       "    </tr>\n",
       "    <tr>\n",
       "      <th>7</th>\n",
       "      <td>2020-01-03</td>\n",
       "      <td>M</td>\n",
       "      <td>20</td>\n",
       "      <td>3</td>\n",
       "      <td>NOVA GRANADA</td>\n",
       "      <td>urbana</td>\n",
       "      <td>6</td>\n",
       "      <td>branca</td>\n",
       "      <td>NaN</td>\n",
       "      <td>1.0</td>\n",
       "      <td>...</td>\n",
       "      <td>2.0</td>\n",
       "      <td>2.0</td>\n",
       "      <td>NaN</td>\n",
       "      <td>1.0</td>\n",
       "      <td>DOENCA PULMONAR INTERS DIFUSA</td>\n",
       "      <td>2.0</td>\n",
       "      <td>None</td>\n",
       "      <td>NaN</td>\n",
       "      <td>None</td>\n",
       "      <td>NaN</td>\n",
       "    </tr>\n",
       "    <tr>\n",
       "      <th>8</th>\n",
       "      <td>2020-01-02</td>\n",
       "      <td>M</td>\n",
       "      <td>7</td>\n",
       "      <td>3</td>\n",
       "      <td>SAO PAULO</td>\n",
       "      <td>urbana</td>\n",
       "      <td>6</td>\n",
       "      <td>parda</td>\n",
       "      <td>NaN</td>\n",
       "      <td>1.0</td>\n",
       "      <td>...</td>\n",
       "      <td>2.0</td>\n",
       "      <td>2.0</td>\n",
       "      <td>NaN</td>\n",
       "      <td>1.0</td>\n",
       "      <td>BRONQUITE</td>\n",
       "      <td>2.0</td>\n",
       "      <td>None</td>\n",
       "      <td>NaN</td>\n",
       "      <td>None</td>\n",
       "      <td>NaN</td>\n",
       "    </tr>\n",
       "    <tr>\n",
       "      <th>9</th>\n",
       "      <td>2020-01-02</td>\n",
       "      <td>M</td>\n",
       "      <td>88</td>\n",
       "      <td>3</td>\n",
       "      <td>TAQUARITINGA</td>\n",
       "      <td>urbana</td>\n",
       "      <td>6</td>\n",
       "      <td>branca</td>\n",
       "      <td>NaN</td>\n",
       "      <td>0.0</td>\n",
       "      <td>...</td>\n",
       "      <td>NaN</td>\n",
       "      <td>NaN</td>\n",
       "      <td>NaN</td>\n",
       "      <td>NaN</td>\n",
       "      <td>NaN</td>\n",
       "      <td>9.0</td>\n",
       "      <td>None</td>\n",
       "      <td>NaN</td>\n",
       "      <td>None</td>\n",
       "      <td>NaN</td>\n",
       "    </tr>\n",
       "  </tbody>\n",
       "</table>\n",
       "<p>10 rows × 43 columns</p>\n",
       "</div>"
      ],
      "text/plain": [
       "        data sexo  NU_IDADE_N  TP_IDADE             ID_MN_RESI CS_ZONA  \\\n",
       "0 2019-12-30    F          52         3              CATANDUVA  urbana   \n",
       "1 2020-01-02    M           7         2              SAO PAULO  urbana   \n",
       "2 2019-12-29    F          22         3               CAMPINAS  urbana   \n",
       "3 2019-12-31    M          75         3  SAO BERNARDO DO CAMPO  urbana   \n",
       "4 2020-01-02    F           1         3           CANDIDO MOTA  urbana   \n",
       "5 2020-01-02    F          30         3  SAO JOSE DO RIO PRETO  urbana   \n",
       "6 2020-01-02    F          45         3              SAO PAULO  urbana   \n",
       "7 2020-01-03    M          20         3           NOVA GRANADA  urbana   \n",
       "8 2020-01-02    M           7         3              SAO PAULO  urbana   \n",
       "9 2020-01-02    M          88         3           TAQUARITINGA  urbana   \n",
       "\n",
       "   CS_GESTANT      raca CS_ETINIA  CS_ESCOL_N  ...  RENAL  OBESIDADE  \\\n",
       "0           9  ignorado       NaN         NaN  ...    2.0        NaN   \n",
       "1           6  ignorado       NaN         5.0  ...    NaN        NaN   \n",
       "2           1  ignorado       NaN         9.0  ...    2.0        2.0   \n",
       "3           6  ignorado       NaN         NaN  ...    2.0        2.0   \n",
       "4           6    branca       NaN         5.0  ...    NaN        NaN   \n",
       "5           5    branca       NaN         3.0  ...    2.0        2.0   \n",
       "6           9  ignorado       NaN         9.0  ...    NaN        NaN   \n",
       "7           6    branca       NaN         1.0  ...    2.0        2.0   \n",
       "8           6     parda       NaN         1.0  ...    2.0        2.0   \n",
       "9           6    branca       NaN         0.0  ...    NaN        NaN   \n",
       "\n",
       "   OBES_IMC  OUT_MORBI                      MORB_DESC  VACINA  DT_UT_DOSE  \\\n",
       "0       NaN        2.0                            NaN     1.0   5/10/2019   \n",
       "1       NaN        NaN                            NaN     2.0        None   \n",
       "2       NaN        2.0                            NaN     1.0   8/17/2019   \n",
       "3       NaN        2.0                            NaN     9.0        None   \n",
       "4       NaN        NaN                            NaN     2.0        None   \n",
       "5       NaN        1.0                            NaN     1.0    2/1/2019   \n",
       "6       NaN        NaN                            NaN     9.0        None   \n",
       "7       NaN        1.0  DOENCA PULMONAR INTERS DIFUSA     2.0        None   \n",
       "8       NaN        1.0                      BRONQUITE     2.0        None   \n",
       "9       NaN        NaN                            NaN     9.0        None   \n",
       "\n",
       "   MAE_VAC  DT_VAC_MAE  M_AMAMENTA  \n",
       "0      NaN        None         NaN  \n",
       "1      NaN        None         NaN  \n",
       "2      NaN        None         NaN  \n",
       "3      NaN        None         NaN  \n",
       "4      NaN        None         NaN  \n",
       "5      NaN        None         NaN  \n",
       "6      NaN        None         NaN  \n",
       "7      NaN        None         NaN  \n",
       "8      NaN        None         NaN  \n",
       "9      NaN        None         NaN  \n",
       "\n",
       "[10 rows x 43 columns]"
      ]
     },
     "execution_count": 84,
     "metadata": {},
     "output_type": "execute_result"
    }
   ],
   "source": [
    "srag_mod.head(10)"
   ]
  },
  {
   "cell_type": "code",
   "execution_count": 49,
   "metadata": {},
   "outputs": [
    {
     "data": {
      "text/plain": [
       "(106651, 50)"
      ]
     },
     "execution_count": 49,
     "metadata": {},
     "output_type": "execute_result"
    }
   ],
   "source": [
    "srag_mod.shape"
   ]
  },
  {
   "cell_type": "code",
   "execution_count": 50,
   "metadata": {},
   "outputs": [],
   "source": [
    "srag_mod = srag_mod.drop(columns=[\"CO_PAIS\", \"ID_PAIS\", \"COD_IDADE\", \"SG_UF\", \"ID_RG_RESI\", \"CO_RG_RESI\", \"CO_MUN_RES\"], inplace=False)"
   ]
  },
  {
   "cell_type": "markdown",
   "metadata": {},
   "source": [
    "##### Renomeando Variáveis"
   ]
  },
  {
   "cell_type": "code",
   "execution_count": 87,
   "metadata": {},
   "outputs": [],
   "source": [
    "srag_mod = srag_mod.rename(columns={\"DT_NOTIFIC\": \"data\", \"CS_SEXO\": \"sexo\", \"NU_IDADE\": \"idade\", \"CS_RACA\": \"raca\"})"
   ]
  },
  {
   "cell_type": "code",
   "execution_count": 53,
   "metadata": {},
   "outputs": [
    {
     "data": {
      "text/html": [
       "<div>\n",
       "<style scoped>\n",
       "    .dataframe tbody tr th:only-of-type {\n",
       "        vertical-align: middle;\n",
       "    }\n",
       "\n",
       "    .dataframe tbody tr th {\n",
       "        vertical-align: top;\n",
       "    }\n",
       "\n",
       "    .dataframe thead th {\n",
       "        text-align: right;\n",
       "    }\n",
       "</style>\n",
       "<table border=\"1\" class=\"dataframe\">\n",
       "  <thead>\n",
       "    <tr style=\"text-align: right;\">\n",
       "      <th></th>\n",
       "      <th>data</th>\n",
       "      <th>sexo</th>\n",
       "      <th>NU_IDADE_N</th>\n",
       "      <th>TP_IDADE</th>\n",
       "      <th>ID_MN_RESI</th>\n",
       "      <th>CS_ZONA</th>\n",
       "      <th>CS_GESTANT</th>\n",
       "      <th>raca</th>\n",
       "      <th>CS_ETINIA</th>\n",
       "      <th>CS_ESCOL_N</th>\n",
       "      <th>...</th>\n",
       "      <th>RENAL</th>\n",
       "      <th>OBESIDADE</th>\n",
       "      <th>OBES_IMC</th>\n",
       "      <th>OUT_MORBI</th>\n",
       "      <th>MORB_DESC</th>\n",
       "      <th>VACINA</th>\n",
       "      <th>DT_UT_DOSE</th>\n",
       "      <th>MAE_VAC</th>\n",
       "      <th>DT_VAC_MAE</th>\n",
       "      <th>M_AMAMENTA</th>\n",
       "    </tr>\n",
       "  </thead>\n",
       "  <tbody>\n",
       "    <tr>\n",
       "      <th>0</th>\n",
       "      <td>12/30/2019</td>\n",
       "      <td>F</td>\n",
       "      <td>52</td>\n",
       "      <td>3</td>\n",
       "      <td>CATANDUVA</td>\n",
       "      <td>1.0</td>\n",
       "      <td>9</td>\n",
       "      <td>NaN</td>\n",
       "      <td>NaN</td>\n",
       "      <td>NaN</td>\n",
       "      <td>...</td>\n",
       "      <td>2.0</td>\n",
       "      <td>NaN</td>\n",
       "      <td>NaN</td>\n",
       "      <td>2.0</td>\n",
       "      <td>NaN</td>\n",
       "      <td>1.0</td>\n",
       "      <td>5/10/2019</td>\n",
       "      <td>NaN</td>\n",
       "      <td>None</td>\n",
       "      <td>NaN</td>\n",
       "    </tr>\n",
       "    <tr>\n",
       "      <th>1</th>\n",
       "      <td>1/2/2020</td>\n",
       "      <td>M</td>\n",
       "      <td>7</td>\n",
       "      <td>2</td>\n",
       "      <td>SAO PAULO</td>\n",
       "      <td>1.0</td>\n",
       "      <td>6</td>\n",
       "      <td>NaN</td>\n",
       "      <td>NaN</td>\n",
       "      <td>5.0</td>\n",
       "      <td>...</td>\n",
       "      <td>NaN</td>\n",
       "      <td>NaN</td>\n",
       "      <td>NaN</td>\n",
       "      <td>NaN</td>\n",
       "      <td>NaN</td>\n",
       "      <td>2.0</td>\n",
       "      <td>None</td>\n",
       "      <td>NaN</td>\n",
       "      <td>None</td>\n",
       "      <td>NaN</td>\n",
       "    </tr>\n",
       "    <tr>\n",
       "      <th>2</th>\n",
       "      <td>12/29/2019</td>\n",
       "      <td>F</td>\n",
       "      <td>22</td>\n",
       "      <td>3</td>\n",
       "      <td>CAMPINAS</td>\n",
       "      <td>1.0</td>\n",
       "      <td>1</td>\n",
       "      <td>9.0</td>\n",
       "      <td>NaN</td>\n",
       "      <td>9.0</td>\n",
       "      <td>...</td>\n",
       "      <td>2.0</td>\n",
       "      <td>2.0</td>\n",
       "      <td>NaN</td>\n",
       "      <td>2.0</td>\n",
       "      <td>NaN</td>\n",
       "      <td>1.0</td>\n",
       "      <td>8/17/2019</td>\n",
       "      <td>NaN</td>\n",
       "      <td>None</td>\n",
       "      <td>NaN</td>\n",
       "    </tr>\n",
       "  </tbody>\n",
       "</table>\n",
       "<p>3 rows × 43 columns</p>\n",
       "</div>"
      ],
      "text/plain": [
       "         data sexo  NU_IDADE_N  TP_IDADE ID_MN_RESI  CS_ZONA  CS_GESTANT  \\\n",
       "0  12/30/2019    F          52         3  CATANDUVA      1.0           9   \n",
       "1    1/2/2020    M           7         2  SAO PAULO      1.0           6   \n",
       "2  12/29/2019    F          22         3   CAMPINAS      1.0           1   \n",
       "\n",
       "   raca CS_ETINIA  CS_ESCOL_N  ...  RENAL  OBESIDADE  OBES_IMC  OUT_MORBI  \\\n",
       "0   NaN       NaN         NaN  ...    2.0        NaN       NaN        2.0   \n",
       "1   NaN       NaN         5.0  ...    NaN        NaN       NaN        NaN   \n",
       "2   9.0       NaN         9.0  ...    2.0        2.0       NaN        2.0   \n",
       "\n",
       "   MORB_DESC  VACINA  DT_UT_DOSE  MAE_VAC  DT_VAC_MAE  M_AMAMENTA  \n",
       "0        NaN     1.0   5/10/2019      NaN        None         NaN  \n",
       "1        NaN     2.0        None      NaN        None         NaN  \n",
       "2        NaN     1.0   8/17/2019      NaN        None         NaN  \n",
       "\n",
       "[3 rows x 43 columns]"
      ]
     },
     "execution_count": 53,
     "metadata": {},
     "output_type": "execute_result"
    }
   ],
   "source": [
    "srag_mod.head(3)"
   ]
  },
  {
   "cell_type": "markdown",
   "metadata": {},
   "source": [
    "##### Analisando os tipos de variáveis"
   ]
  },
  {
   "cell_type": "code",
   "execution_count": 54,
   "metadata": {},
   "outputs": [
    {
     "data": {
      "text/plain": [
       "data           object\n",
       "sexo           object\n",
       "NU_IDADE_N      int64\n",
       "TP_IDADE        int64\n",
       "ID_MN_RESI     object\n",
       "CS_ZONA       float64\n",
       "CS_GESTANT      int64\n",
       "raca          float64\n",
       "CS_ETINIA      object\n",
       "CS_ESCOL_N    float64\n",
       "SURTO_SG      float64\n",
       "NOSOCOMIAL    float64\n",
       "AVE_SUINO     float64\n",
       "FEBRE         float64\n",
       "TOSSE         float64\n",
       "GARGANTA      float64\n",
       "DISPNEIA      float64\n",
       "DESC_RESP     float64\n",
       "SATURACAO     float64\n",
       "DIARREIA      float64\n",
       "VOMITO        float64\n",
       "OUTRO_SIN     float64\n",
       "OUTRO_DES      object\n",
       "PUERPERA      float64\n",
       "CARDIOPATI    float64\n",
       "HEMATOLOGI    float64\n",
       "SIND_DOWN     float64\n",
       "HEPATICA      float64\n",
       "ASMA          float64\n",
       "DIABETES      float64\n",
       "NEUROLOGIC    float64\n",
       "PNEUMOPATI    float64\n",
       "IMUNODEPRE    float64\n",
       "RENAL         float64\n",
       "OBESIDADE     float64\n",
       "OBES_IMC      float64\n",
       "OUT_MORBI     float64\n",
       "MORB_DESC      object\n",
       "VACINA        float64\n",
       "DT_UT_DOSE     object\n",
       "MAE_VAC       float64\n",
       "DT_VAC_MAE     object\n",
       "M_AMAMENTA    float64\n",
       "dtype: object"
      ]
     },
     "execution_count": 54,
     "metadata": {},
     "output_type": "execute_result"
    }
   ],
   "source": [
    "srag_mod.dtypes"
   ]
  },
  {
   "cell_type": "code",
   "execution_count": 55,
   "metadata": {},
   "outputs": [],
   "source": [
    "srag_mod[\"data\"] = srag_mod[\"data\"].astype(\"datetime64[D]\")"
   ]
  },
  {
   "cell_type": "code",
   "execution_count": 56,
   "metadata": {},
   "outputs": [
    {
     "data": {
      "text/plain": [
       "data          datetime64[ns]\n",
       "sexo                  object\n",
       "NU_IDADE_N             int64\n",
       "TP_IDADE               int64\n",
       "ID_MN_RESI            object\n",
       "CS_ZONA              float64\n",
       "CS_GESTANT             int64\n",
       "raca                 float64\n",
       "CS_ETINIA             object\n",
       "CS_ESCOL_N           float64\n",
       "SURTO_SG             float64\n",
       "NOSOCOMIAL           float64\n",
       "AVE_SUINO            float64\n",
       "FEBRE                float64\n",
       "TOSSE                float64\n",
       "GARGANTA             float64\n",
       "DISPNEIA             float64\n",
       "DESC_RESP            float64\n",
       "SATURACAO            float64\n",
       "DIARREIA             float64\n",
       "VOMITO               float64\n",
       "OUTRO_SIN            float64\n",
       "OUTRO_DES             object\n",
       "PUERPERA             float64\n",
       "CARDIOPATI           float64\n",
       "HEMATOLOGI           float64\n",
       "SIND_DOWN            float64\n",
       "HEPATICA             float64\n",
       "ASMA                 float64\n",
       "DIABETES             float64\n",
       "NEUROLOGIC           float64\n",
       "PNEUMOPATI           float64\n",
       "IMUNODEPRE           float64\n",
       "RENAL                float64\n",
       "OBESIDADE            float64\n",
       "OBES_IMC             float64\n",
       "OUT_MORBI            float64\n",
       "MORB_DESC             object\n",
       "VACINA               float64\n",
       "DT_UT_DOSE            object\n",
       "MAE_VAC              float64\n",
       "DT_VAC_MAE            object\n",
       "M_AMAMENTA           float64\n",
       "dtype: object"
      ]
     },
     "execution_count": 56,
     "metadata": {},
     "output_type": "execute_result"
    }
   ],
   "source": [
    "srag_mod.dtypes"
   ]
  },
  {
   "cell_type": "markdown",
   "metadata": {},
   "source": [
    "##### Analisando valores missing (NAAN)"
   ]
  },
  {
   "cell_type": "code",
   "execution_count": 57,
   "metadata": {},
   "outputs": [
    {
     "data": {
      "text/plain": [
       "data               0\n",
       "sexo               0\n",
       "NU_IDADE_N         0\n",
       "TP_IDADE           0\n",
       "ID_MN_RESI        11\n",
       "CS_ZONA        13868\n",
       "CS_GESTANT         0\n",
       "raca           20150\n",
       "CS_ETINIA     106635\n",
       "CS_ESCOL_N     31001\n",
       "SURTO_SG       16455\n",
       "NOSOCOMIAL     21210\n",
       "AVE_SUINO      17930\n",
       "FEBRE           9112\n",
       "TOSSE           7665\n",
       "GARGANTA       21588\n",
       "DISPNEIA       10051\n",
       "DESC_RESP      14583\n",
       "SATURACAO      14773\n",
       "DIARREIA       24712\n",
       "VOMITO         25970\n",
       "OUTRO_SIN      27766\n",
       "OUTRO_DES      75238\n",
       "PUERPERA       67470\n",
       "CARDIOPATI     53172\n",
       "HEMATOLOGI     66906\n",
       "SIND_DOWN      67257\n",
       "HEPATICA       67122\n",
       "ASMA           65900\n",
       "DIABETES       57821\n",
       "NEUROLOGIC     65207\n",
       "PNEUMOPATI     65296\n",
       "IMUNODEPRE     66160\n",
       "RENAL          66000\n",
       "OBESIDADE      66436\n",
       "OBES_IMC      103274\n",
       "OUT_MORBI      59147\n",
       "MORB_DESC      79484\n",
       "VACINA         18262\n",
       "DT_UT_DOSE         0\n",
       "MAE_VAC       105603\n",
       "DT_VAC_MAE         0\n",
       "M_AMAMENTA    105840\n",
       "dtype: int64"
      ]
     },
     "execution_count": 57,
     "metadata": {},
     "output_type": "execute_result"
    }
   ],
   "source": [
    "srag_mod.isnull().sum()"
   ]
  },
  {
   "cell_type": "markdown",
   "metadata": {},
   "source": [
    "##### Contagem das classificações de raças"
   ]
  },
  {
   "cell_type": "code",
   "execution_count": 58,
   "metadata": {},
   "outputs": [
    {
     "data": {
      "text/plain": [
       "1.0    45667\n",
       "2.0     5518\n",
       "3.0     1165\n",
       "4.0    19775\n",
       "5.0       86\n",
       "9.0    14290\n",
       "Name: raca, dtype: int64"
      ]
     },
     "execution_count": 58,
     "metadata": {},
     "output_type": "execute_result"
    }
   ],
   "source": [
    "srag_mod.raca.value_counts().sort_index()"
   ]
  },
  {
   "cell_type": "code",
   "execution_count": 59,
   "metadata": {},
   "outputs": [],
   "source": [
    "# Preenchendo valores missing com número 9 (ignorado)\n",
    "srag_mod.raca.fillna(9, inplace=True)"
   ]
  },
  {
   "cell_type": "code",
   "execution_count": 60,
   "metadata": {},
   "outputs": [
    {
     "data": {
      "text/plain": [
       "1.0    45667\n",
       "2.0     5518\n",
       "3.0     1165\n",
       "4.0    19775\n",
       "5.0       86\n",
       "9.0    34440\n",
       "Name: raca, dtype: int64"
      ]
     },
     "execution_count": 60,
     "metadata": {},
     "output_type": "execute_result"
    }
   ],
   "source": [
    "srag_mod.raca.value_counts().sort_index()"
   ]
  },
  {
   "cell_type": "markdown",
   "metadata": {},
   "source": [
    "##### Contagem das classificações de CS_ZONA"
   ]
  },
  {
   "cell_type": "code",
   "execution_count": 61,
   "metadata": {},
   "outputs": [
    {
     "data": {
      "text/plain": [
       "1.0    91232\n",
       "2.0     1362\n",
       "3.0      189\n",
       "Name: CS_ZONA, dtype: int64"
      ]
     },
     "execution_count": 61,
     "metadata": {},
     "output_type": "execute_result"
    }
   ],
   "source": [
    "srag_mod.CS_ZONA.value_counts().sort_index()"
   ]
  },
  {
   "cell_type": "code",
   "execution_count": 62,
   "metadata": {},
   "outputs": [
    {
     "data": {
      "text/plain": [
       "1.0    91232\n",
       "2.0     1362\n",
       "3.0      189\n",
       "Name: CS_ZONA, dtype: int64"
      ]
     },
     "execution_count": 62,
     "metadata": {},
     "output_type": "execute_result"
    }
   ],
   "source": [
    "# Preenchendo valores missing com o número 9 (ignorado)\n",
    "srag_mod.CS_ZONA.value_counts().sort_index()"
   ]
  },
  {
   "cell_type": "markdown",
   "metadata": {},
   "source": [
    "##### Substituindo as classificações numéricas por palavras"
   ]
  },
  {
   "cell_type": "code",
   "execution_count": 63,
   "metadata": {},
   "outputs": [],
   "source": [
    "srag_mod.raca = srag_mod.raca.replace({\n",
    "    1: \"branca\",\n",
    "    2: \"preta\",\n",
    "    3: \"amarela\",\n",
    "    4: \"parda\",\n",
    "    5: \"indígena\",\n",
    "    9: \"ignorado\"\n",
    "})"
   ]
  },
  {
   "cell_type": "code",
   "execution_count": 64,
   "metadata": {},
   "outputs": [
    {
     "data": {
      "text/plain": [
       "amarela      1165\n",
       "branca      45667\n",
       "ignorado    34440\n",
       "indígena       86\n",
       "parda       19775\n",
       "preta        5518\n",
       "Name: raca, dtype: int64"
      ]
     },
     "execution_count": 64,
     "metadata": {},
     "output_type": "execute_result"
    }
   ],
   "source": [
    "srag_mod.raca.value_counts().sort_index()"
   ]
  },
  {
   "cell_type": "code",
   "execution_count": 65,
   "metadata": {},
   "outputs": [],
   "source": [
    "srag_mod.CS_ZONA = srag_mod.CS_ZONA.replace({\n",
    "    1: \"urbana\",\n",
    "    2: \"rural\",\n",
    "    3: \"periurbana\",\n",
    "    9: \"ignorado\"\n",
    "})"
   ]
  },
  {
   "cell_type": "code",
   "execution_count": 66,
   "metadata": {},
   "outputs": [
    {
     "data": {
      "text/plain": [
       "periurbana      189\n",
       "rural          1362\n",
       "urbana        91232\n",
       "Name: CS_ZONA, dtype: int64"
      ]
     },
     "execution_count": 66,
     "metadata": {},
     "output_type": "execute_result"
    }
   ],
   "source": [
    "srag_mod.CS_ZONA.value_counts().sort_index()"
   ]
  },
  {
   "cell_type": "markdown",
   "metadata": {},
   "source": [
    "### Gráfico de barras"
   ]
  },
  {
   "cell_type": "markdown",
   "metadata": {},
   "source": [
    "#### Matplotlib"
   ]
  },
  {
   "cell_type": "code",
   "execution_count": 67,
   "metadata": {},
   "outputs": [],
   "source": [
    "import matplotlib.pyplot as plt"
   ]
  },
  {
   "cell_type": "code",
   "execution_count": 70,
   "metadata": {},
   "outputs": [
    {
     "data": {
      "text/plain": [
       "M    57629\n",
       "F    49002\n",
       "I       20\n",
       "Name: sexo, dtype: int64"
      ]
     },
     "execution_count": 70,
     "metadata": {},
     "output_type": "execute_result"
    }
   ],
   "source": [
    "grafico_barras = srag_mod.sexo.value_counts()\n",
    "grafico_barras"
   ]
  },
  {
   "cell_type": "code",
   "execution_count": 71,
   "metadata": {},
   "outputs": [
    {
     "data": {
      "text/plain": [
       "Index(['M', 'F', 'I'], dtype='object')"
      ]
     },
     "execution_count": 71,
     "metadata": {},
     "output_type": "execute_result"
    }
   ],
   "source": [
    "grafico_barras.index"
   ]
  },
  {
   "cell_type": "markdown",
   "metadata": {},
   "source": [
    "##### Gráfico vertical"
   ]
  },
  {
   "cell_type": "code",
   "execution_count": 74,
   "metadata": {},
   "outputs": [
    {
     "data": {
      "image/png": "[encoded data removed]",
      "text/plain": [
       "<Figure size 640x480 with 1 Axes>"
      ]
     },
     "metadata": {},
     "output_type": "display_data"
    }
   ],
   "source": [
    "plt.bar(grafico_barras.index, grafico_barras, color=\"blue\")\n",
    "plt.title(\"Análise da distribuição por sexo\")\n",
    "plt.ylabel(\"Quantidade\")\n",
    "plt.xlabel(\"Sexo\")\n",
    "plt.show()"
   ]
  },
  {
   "cell_type": "markdown",
   "metadata": {},
   "source": [
    "##### Gráfico horizontal"
   ]
  },
  {
   "cell_type": "code",
   "execution_count": 75,
   "metadata": {},
   "outputs": [
    {
     "data": {
      "image/png": "[encoded data removed]",
      "text/plain": [
       "<Figure size 640x480 with 1 Axes>"
      ]
     },
     "metadata": {},
     "output_type": "display_data"
    }
   ],
   "source": [
    "plt.barh(grafico_barras.index, grafico_barras, color=\"blue\")\n",
    "plt.title(\"Análise da distribuição por sexo\")\n",
    "plt.ylabel(\"Quantidade\")\n",
    "plt.xlabel(\"Sexo\")\n",
    "plt.show()"
   ]
  },
  {
   "cell_type": "markdown",
   "metadata": {},
   "source": [
    "#### Seaborn"
   ]
  },
  {
   "cell_type": "code",
   "execution_count": 77,
   "metadata": {},
   "outputs": [],
   "source": [
    "import seaborn as sns"
   ]
  },
  {
   "cell_type": "code",
   "execution_count": 80,
   "metadata": {},
   "outputs": [
    {
     "data": {
      "text/plain": [
       "<Axes: xlabel='sexo', ylabel='count'>"
      ]
     },
     "execution_count": 80,
     "metadata": {},
     "output_type": "execute_result"
    },
    {
     "data": {
      "image/png": "[encoded data removed]",
      "text/plain": [
       "<Figure size 640x480 with 1 Axes>"
      ]
     },
     "metadata": {},
     "output_type": "display_data"
    }
   ],
   "source": [
    "# Passar em \"x\" o valor do eixo X (nesse caso sexo), e passar em \"data\" a base de dados\n",
    "sns.countplot(x=\"sexo\", data=srag_mod)"
   ]
  },
  {
   "cell_type": "code",
   "execution_count": 81,
   "metadata": {},
   "outputs": [
    {
     "data": {
      "text/plain": [
       "Text(0, 0.5, 'Quantidade')"
      ]
     },
     "execution_count": 81,
     "metadata": {},
     "output_type": "execute_result"
    },
    {
     "data": {
      "image/png": "[encoded data removed]",
      "text/plain": [
       "<Figure size 800x600 with 1 Axes>"
      ]
     },
     "metadata": {},
     "output_type": "display_data"
    }
   ],
   "source": [
    "fig, ax = plt.subplots(figsize=(8,6))\n",
    "sns.countplot(x=\"raca\", data=srag_mod)\n",
    "ax.set_title(\"Análise de Distribuição por raça\", fontdict={\"fontsize\": 20})\n",
    "ax.set_xlabel(\"Raça\", fontdict={\"fontsize\": 15})\n",
    "ax.set_ylabel(\"Quantidade\", fontdict={\"fontsize\": 15})"
   ]
  },
  {
   "cell_type": "code",
   "execution_count": 82,
   "metadata": {},
   "outputs": [],
   "source": [
    "import plotly.express as px"
   ]
  },
  {
   "cell_type": "markdown",
   "metadata": {},
   "source": [
    "Box Plot para idade em anos"
   ]
  },
  {
   "cell_type": "code",
   "execution_count": 83,
   "metadata": {},
   "outputs": [
    {
     "data": {
      "text/plain": [
       "1       299\n",
       "2      2316\n",
       "3    104036\n",
       "Name: TP_IDADE, dtype: int64"
      ]
     },
     "execution_count": 83,
     "metadata": {},
     "output_type": "execute_result"
    }
   ],
   "source": [
    "srag_mod.TP_IDADE.value_counts().sort_index()"
   ]
  },
  {
   "cell_type": "code",
   "execution_count": 91,
   "metadata": {},
   "outputs": [],
   "source": [
    "srag_mod = srag_mod.rename(columns={\"NU_IDADE_N\": \"idade\"})"
   ]
  },
  {
   "cell_type": "code",
   "execution_count": 90,
   "metadata": {},
   "outputs": [
    {
     "ename": "AttributeError",
     "evalue": "'DataFrame' object has no attribute 'idade'",
     "output_type": "error",
     "traceback": [
      "\u001b[1;31m---------------------------------------------------------------------------\u001b[0m",
      "\u001b[1;31mAttributeError\u001b[0m                            Traceback (most recent call last)",
      "\u001b[1;32m~\\AppData\\Local\\Temp\\ipykernel_8532\\2525377989.py\u001b[0m in \u001b[0;36m?\u001b[1;34m()\u001b[0m\n\u001b[1;32m----> 1\u001b[1;33m \u001b[0msrag_mod\u001b[0m\u001b[1;33m.\u001b[0m\u001b[0midade\u001b[0m\u001b[1;33m.\u001b[0m\u001b[0mvalue_counts\u001b[0m\u001b[1;33m(\u001b[0m\u001b[1;33m)\u001b[0m\u001b[1;33m.\u001b[0m\u001b[0msort_index\u001b[0m\u001b[1;33m(\u001b[0m\u001b[1;33m)\u001b[0m\u001b[1;33m\u001b[0m\u001b[1;33m\u001b[0m\u001b[0m\n\u001b[0m",
      "\u001b[1;32mc:\\Users\\vitor\\anaconda3\\Lib\\site-packages\\pandas\\core\\generic.py\u001b[0m in \u001b[0;36m?\u001b[1;34m(self, name)\u001b[0m\n\u001b[0;32m   5898\u001b[0m             \u001b[1;32mand\u001b[0m \u001b[0mname\u001b[0m \u001b[1;32mnot\u001b[0m \u001b[1;32min\u001b[0m \u001b[0mself\u001b[0m\u001b[1;33m.\u001b[0m\u001b[0m_accessors\u001b[0m\u001b[1;33m\u001b[0m\u001b[1;33m\u001b[0m\u001b[0m\n\u001b[0;32m   5899\u001b[0m             \u001b[1;32mand\u001b[0m \u001b[0mself\u001b[0m\u001b[1;33m.\u001b[0m\u001b[0m_info_axis\u001b[0m\u001b[1;33m.\u001b[0m\u001b[0m_can_hold_identifiers_and_holds_name\u001b[0m\u001b[1;33m(\u001b[0m\u001b[0mname\u001b[0m\u001b[1;33m)\u001b[0m\u001b[1;33m\u001b[0m\u001b[1;33m\u001b[0m\u001b[0m\n\u001b[0;32m   5900\u001b[0m         ):\n\u001b[0;32m   5901\u001b[0m             \u001b[1;32mreturn\u001b[0m \u001b[0mself\u001b[0m\u001b[1;33m[\u001b[0m\u001b[0mname\u001b[0m\u001b[1;33m]\u001b[0m\u001b[1;33m\u001b[0m\u001b[1;33m\u001b[0m\u001b[0m\n\u001b[1;32m-> 5902\u001b[1;33m         \u001b[1;32mreturn\u001b[0m \u001b[0mobject\u001b[0m\u001b[1;33m.\u001b[0m\u001b[0m__getattribute__\u001b[0m\u001b[1;33m(\u001b[0m\u001b[0mself\u001b[0m\u001b[1;33m,\u001b[0m \u001b[0mname\u001b[0m\u001b[1;33m)\u001b[0m\u001b[1;33m\u001b[0m\u001b[1;33m\u001b[0m\u001b[0m\n\u001b[0m",
      "\u001b[1;31mAttributeError\u001b[0m: 'DataFrame' object has no attribute 'idade'"
     ]
    }
   ],
   "source": [
    "srag_mod.dtypes"
   ]
  },
  {
   "cell_type": "code",
   "execution_count": null,
   "metadata": {},
   "outputs": [],
   "source": []
  }
 ],
 "metadata": {
  "kernelspec": {
   "display_name": "base",
   "language": "python",
   "name": "python3"
  },
  "language_info": {
   "codemirror_mode": {
    "name": "ipython",
    "version": 3
   },
   "file_extension": ".py",
   "mimetype": "text/x-python",
   "name": "python",
   "nbconvert_exporter": "python",
   "pygments_lexer": "ipython3",
   "version": "3.11.4"
  }
 },
 "nbformat": 4,
 "nbformat_minor": 2
}
