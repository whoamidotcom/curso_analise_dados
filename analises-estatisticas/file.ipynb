{
 "cells": [
  {
   "cell_type": "markdown",
   "metadata": {},
   "source": [
    "# Análise de Dados da COVID 19 no estado de São Paulo"
   ]
  },
  {
   "cell_type": "markdown",
   "metadata": {},
   "source": [
    "Este projeto analisa os dados dos casos de covid 19 no estado de São Paulo do período de fevereiro de 2020 à setembro de 2021"
   ]
  },
  {
   "cell_type": "markdown",
   "metadata": {},
   "source": [
    "Os dados esão disponíveis nos sites:\n",
    "\n",
    "- https://www.seade.gov.br/coronavirus/#\n",
    "- https://github.com/seade-R/dados-covid-sp\n",
    "- https://www.seade.gov.br"
   ]
  },
  {
   "cell_type": "code",
   "execution_count": 3,
   "metadata": {},
   "outputs": [],
   "source": [
    "import numpy as np\n",
    "import pandas as pd"
   ]
  },
  {
   "cell_type": "code",
   "execution_count": 4,
   "metadata": {},
   "outputs": [],
   "source": [
    "covid = pd.read_csv(\"../dados_covid_sp.csv\", sep=\";\", encoding=\"utf-8\")"
   ]
  },
  {
   "cell_type": "code",
   "execution_count": 5,
   "metadata": {},
   "outputs": [
    {
     "data": {
      "text/html": [
       "<div>\n",
       "<style scoped>\n",
       "    .dataframe tbody tr th:only-of-type {\n",
       "        vertical-align: middle;\n",
       "    }\n",
       "\n",
       "    .dataframe tbody tr th {\n",
       "        vertical-align: top;\n",
       "    }\n",
       "\n",
       "    .dataframe thead th {\n",
       "        text-align: right;\n",
       "    }\n",
       "</style>\n",
       "<table border=\"1\" class=\"dataframe\">\n",
       "  <thead>\n",
       "    <tr style=\"text-align: right;\">\n",
       "      <th></th>\n",
       "      <th>nome_munic</th>\n",
       "      <th>codigo_ibge</th>\n",
       "      <th>dia</th>\n",
       "      <th>mes</th>\n",
       "      <th>datahora</th>\n",
       "      <th>casos</th>\n",
       "      <th>casos_novos</th>\n",
       "      <th>casos_pc</th>\n",
       "      <th>casos_mm7d</th>\n",
       "      <th>obitos</th>\n",
       "      <th>...</th>\n",
       "      <th>nome_drs</th>\n",
       "      <th>cod_drs</th>\n",
       "      <th>pop</th>\n",
       "      <th>pop_60</th>\n",
       "      <th>area</th>\n",
       "      <th>map_leg</th>\n",
       "      <th>map_leg_s</th>\n",
       "      <th>latitude</th>\n",
       "      <th>longitude</th>\n",
       "      <th>semana_epidem</th>\n",
       "    </tr>\n",
       "  </thead>\n",
       "  <tbody>\n",
       "    <tr>\n",
       "      <th>0</th>\n",
       "      <td>Adamantina</td>\n",
       "      <td>3500105</td>\n",
       "      <td>25</td>\n",
       "      <td>2</td>\n",
       "      <td>2020-02-25</td>\n",
       "      <td>0</td>\n",
       "      <td>0</td>\n",
       "      <td>0,00000000000000e+00</td>\n",
       "      <td>0,000000000000000</td>\n",
       "      <td>0</td>\n",
       "      <td>...</td>\n",
       "      <td>Marília</td>\n",
       "      <td>5</td>\n",
       "      <td>33894</td>\n",
       "      <td>7398</td>\n",
       "      <td>41199</td>\n",
       "      <td>0</td>\n",
       "      <td>8.0</td>\n",
       "      <td>-21,6820</td>\n",
       "      <td>-51,0737</td>\n",
       "      <td>9</td>\n",
       "    </tr>\n",
       "    <tr>\n",
       "      <th>1</th>\n",
       "      <td>Adolfo</td>\n",
       "      <td>3500204</td>\n",
       "      <td>25</td>\n",
       "      <td>2</td>\n",
       "      <td>2020-02-25</td>\n",
       "      <td>0</td>\n",
       "      <td>0</td>\n",
       "      <td>0,00000000000000e+00</td>\n",
       "      <td>0,000000000000000</td>\n",
       "      <td>0</td>\n",
       "      <td>...</td>\n",
       "      <td>São José do Rio Preto</td>\n",
       "      <td>15</td>\n",
       "      <td>3447</td>\n",
       "      <td>761</td>\n",
       "      <td>21106</td>\n",
       "      <td>0</td>\n",
       "      <td>8.0</td>\n",
       "      <td>-21,2325</td>\n",
       "      <td>-49,6451</td>\n",
       "      <td>9</td>\n",
       "    </tr>\n",
       "    <tr>\n",
       "      <th>2</th>\n",
       "      <td>Aguaí</td>\n",
       "      <td>3500303</td>\n",
       "      <td>25</td>\n",
       "      <td>2</td>\n",
       "      <td>2020-02-25</td>\n",
       "      <td>0</td>\n",
       "      <td>0</td>\n",
       "      <td>0,00000000000000e+00</td>\n",
       "      <td>0,000000000000000</td>\n",
       "      <td>0</td>\n",
       "      <td>...</td>\n",
       "      <td>São João da Boa Vista</td>\n",
       "      <td>14</td>\n",
       "      <td>35608</td>\n",
       "      <td>5245</td>\n",
       "      <td>47455</td>\n",
       "      <td>0</td>\n",
       "      <td>8.0</td>\n",
       "      <td>-22,0572</td>\n",
       "      <td>-46,9735</td>\n",
       "      <td>9</td>\n",
       "    </tr>\n",
       "    <tr>\n",
       "      <th>3</th>\n",
       "      <td>Águas da Prata</td>\n",
       "      <td>3500402</td>\n",
       "      <td>25</td>\n",
       "      <td>2</td>\n",
       "      <td>2020-02-25</td>\n",
       "      <td>0</td>\n",
       "      <td>0</td>\n",
       "      <td>0,00000000000000e+00</td>\n",
       "      <td>0,000000000000000</td>\n",
       "      <td>0</td>\n",
       "      <td>...</td>\n",
       "      <td>São João da Boa Vista</td>\n",
       "      <td>14</td>\n",
       "      <td>7797</td>\n",
       "      <td>1729</td>\n",
       "      <td>14267</td>\n",
       "      <td>0</td>\n",
       "      <td>8.0</td>\n",
       "      <td>-21,9319</td>\n",
       "      <td>-46,7176</td>\n",
       "      <td>9</td>\n",
       "    </tr>\n",
       "    <tr>\n",
       "      <th>4</th>\n",
       "      <td>Águas de Lindóia</td>\n",
       "      <td>3500501</td>\n",
       "      <td>25</td>\n",
       "      <td>2</td>\n",
       "      <td>2020-02-25</td>\n",
       "      <td>0</td>\n",
       "      <td>0</td>\n",
       "      <td>0,00000000000000e+00</td>\n",
       "      <td>0,000000000000000</td>\n",
       "      <td>0</td>\n",
       "      <td>...</td>\n",
       "      <td>Campinas</td>\n",
       "      <td>3</td>\n",
       "      <td>18374</td>\n",
       "      <td>3275</td>\n",
       "      <td>6013</td>\n",
       "      <td>0</td>\n",
       "      <td>8.0</td>\n",
       "      <td>-22,4733</td>\n",
       "      <td>-46,6314</td>\n",
       "      <td>9</td>\n",
       "    </tr>\n",
       "  </tbody>\n",
       "</table>\n",
       "<p>5 rows × 26 columns</p>\n",
       "</div>"
      ],
      "text/plain": [
       "         nome_munic  codigo_ibge  dia  mes    datahora  casos  casos_novos  \\\n",
       "0        Adamantina      3500105   25    2  2020-02-25      0            0   \n",
       "1            Adolfo      3500204   25    2  2020-02-25      0            0   \n",
       "2             Aguaí      3500303   25    2  2020-02-25      0            0   \n",
       "3    Águas da Prata      3500402   25    2  2020-02-25      0            0   \n",
       "4  Águas de Lindóia      3500501   25    2  2020-02-25      0            0   \n",
       "\n",
       "               casos_pc         casos_mm7d  obitos  ...  \\\n",
       "0  0,00000000000000e+00  0,000000000000000       0  ...   \n",
       "1  0,00000000000000e+00  0,000000000000000       0  ...   \n",
       "2  0,00000000000000e+00  0,000000000000000       0  ...   \n",
       "3  0,00000000000000e+00  0,000000000000000       0  ...   \n",
       "4  0,00000000000000e+00  0,000000000000000       0  ...   \n",
       "\n",
       "                nome_drs cod_drs    pop pop_60   area  map_leg map_leg_s  \\\n",
       "0                Marília       5  33894   7398  41199        0       8.0   \n",
       "1  São José do Rio Preto      15   3447    761  21106        0       8.0   \n",
       "2  São João da Boa Vista      14  35608   5245  47455        0       8.0   \n",
       "3  São João da Boa Vista      14   7797   1729  14267        0       8.0   \n",
       "4               Campinas       3  18374   3275   6013        0       8.0   \n",
       "\n",
       "   latitude  longitude  semana_epidem  \n",
       "0  -21,6820   -51,0737              9  \n",
       "1  -21,2325   -49,6451              9  \n",
       "2  -22,0572   -46,9735              9  \n",
       "3  -21,9319   -46,7176              9  \n",
       "4  -22,4733   -46,6314              9  \n",
       "\n",
       "[5 rows x 26 columns]"
      ]
     },
     "execution_count": 5,
     "metadata": {},
     "output_type": "execute_result"
    }
   ],
   "source": [
    "covid.head()"
   ]
  },
  {
   "cell_type": "code",
   "execution_count": 6,
   "metadata": {},
   "outputs": [
    {
     "data": {
      "text/plain": [
       "(374034, 26)"
      ]
     },
     "execution_count": 6,
     "metadata": {},
     "output_type": "execute_result"
    }
   ],
   "source": [
    "covid.shape"
   ]
  },
  {
   "cell_type": "code",
   "execution_count": 7,
   "metadata": {},
   "outputs": [],
   "source": [
    "covid = covid.rename(columns={\"nome_munic\": \"municipio\", \"datahora\": \"data\"})\n",
    "covid.area = covid.area / 100"
   ]
  },
  {
   "cell_type": "code",
   "execution_count": 8,
   "metadata": {},
   "outputs": [
    {
     "data": {
      "text/plain": [
       "municipio         object\n",
       "codigo_ibge        int64\n",
       "dia                int64\n",
       "mes                int64\n",
       "data              object\n",
       "casos              int64\n",
       "casos_novos        int64\n",
       "casos_pc          object\n",
       "casos_mm7d        object\n",
       "obitos             int64\n",
       "obitos_novos       int64\n",
       "obitos_pc         object\n",
       "obitos_mm7d       object\n",
       "letalidade        object\n",
       "nome_ra           object\n",
       "cod_ra             int64\n",
       "nome_drs          object\n",
       "cod_drs            int64\n",
       "pop                int64\n",
       "pop_60             int64\n",
       "area             float64\n",
       "map_leg           object\n",
       "map_leg_s        float64\n",
       "latitude          object\n",
       "longitude         object\n",
       "semana_epidem      int64\n",
       "dtype: object"
      ]
     },
     "execution_count": 8,
     "metadata": {},
     "output_type": "execute_result"
    }
   ],
   "source": [
    "# Análise dos atributos\n",
    "covid.dtypes"
   ]
  },
  {
   "cell_type": "markdown",
   "metadata": {},
   "source": [
    "### Filtrando duas cidade: Campinas e Guarulhos"
   ]
  },
  {
   "cell_type": "code",
   "execution_count": 9,
   "metadata": {},
   "outputs": [
    {
     "data": {
      "text/html": [
       "<div>\n",
       "<style scoped>\n",
       "    .dataframe tbody tr th:only-of-type {\n",
       "        vertical-align: middle;\n",
       "    }\n",
       "\n",
       "    .dataframe tbody tr th {\n",
       "        vertical-align: top;\n",
       "    }\n",
       "\n",
       "    .dataframe thead th {\n",
       "        text-align: right;\n",
       "    }\n",
       "</style>\n",
       "<table border=\"1\" class=\"dataframe\">\n",
       "  <thead>\n",
       "    <tr style=\"text-align: right;\">\n",
       "      <th></th>\n",
       "      <th>municipio</th>\n",
       "      <th>codigo_ibge</th>\n",
       "      <th>dia</th>\n",
       "      <th>mes</th>\n",
       "      <th>data</th>\n",
       "      <th>casos</th>\n",
       "      <th>casos_novos</th>\n",
       "      <th>casos_pc</th>\n",
       "      <th>casos_mm7d</th>\n",
       "      <th>obitos</th>\n",
       "      <th>...</th>\n",
       "      <th>nome_drs</th>\n",
       "      <th>cod_drs</th>\n",
       "      <th>pop</th>\n",
       "      <th>pop_60</th>\n",
       "      <th>area</th>\n",
       "      <th>map_leg</th>\n",
       "      <th>map_leg_s</th>\n",
       "      <th>latitude</th>\n",
       "      <th>longitude</th>\n",
       "      <th>semana_epidem</th>\n",
       "    </tr>\n",
       "  </thead>\n",
       "  <tbody>\n",
       "    <tr>\n",
       "      <th>108</th>\n",
       "      <td>Campinas</td>\n",
       "      <td>3509502</td>\n",
       "      <td>25</td>\n",
       "      <td>2</td>\n",
       "      <td>2020-02-25</td>\n",
       "      <td>0</td>\n",
       "      <td>0</td>\n",
       "      <td>0,00000000000000e+00</td>\n",
       "      <td>0,000000000000000</td>\n",
       "      <td>0</td>\n",
       "      <td>...</td>\n",
       "      <td>Campinas</td>\n",
       "      <td>3</td>\n",
       "      <td>1175501</td>\n",
       "      <td>192796</td>\n",
       "      <td>794.57</td>\n",
       "      <td>0</td>\n",
       "      <td>8.0</td>\n",
       "      <td>-22,9053</td>\n",
       "      <td>-47,0659</td>\n",
       "      <td>9</td>\n",
       "    </tr>\n",
       "    <tr>\n",
       "      <th>753</th>\n",
       "      <td>Campinas</td>\n",
       "      <td>3509502</td>\n",
       "      <td>26</td>\n",
       "      <td>2</td>\n",
       "      <td>2020-02-26</td>\n",
       "      <td>0</td>\n",
       "      <td>0</td>\n",
       "      <td>0,00000000000000e+00</td>\n",
       "      <td>0,000000000000000</td>\n",
       "      <td>0</td>\n",
       "      <td>...</td>\n",
       "      <td>Campinas</td>\n",
       "      <td>3</td>\n",
       "      <td>1175501</td>\n",
       "      <td>192796</td>\n",
       "      <td>794.57</td>\n",
       "      <td>0</td>\n",
       "      <td>8.0</td>\n",
       "      <td>-22,9053</td>\n",
       "      <td>-47,0659</td>\n",
       "      <td>9</td>\n",
       "    </tr>\n",
       "    <tr>\n",
       "      <th>1398</th>\n",
       "      <td>Campinas</td>\n",
       "      <td>3509502</td>\n",
       "      <td>27</td>\n",
       "      <td>2</td>\n",
       "      <td>2020-02-27</td>\n",
       "      <td>0</td>\n",
       "      <td>0</td>\n",
       "      <td>0,00000000000000e+00</td>\n",
       "      <td>0,000000000000000</td>\n",
       "      <td>0</td>\n",
       "      <td>...</td>\n",
       "      <td>Campinas</td>\n",
       "      <td>3</td>\n",
       "      <td>1175501</td>\n",
       "      <td>192796</td>\n",
       "      <td>794.57</td>\n",
       "      <td>0</td>\n",
       "      <td>8.0</td>\n",
       "      <td>-22,9053</td>\n",
       "      <td>-47,0659</td>\n",
       "      <td>9</td>\n",
       "    </tr>\n",
       "  </tbody>\n",
       "</table>\n",
       "<p>3 rows × 26 columns</p>\n",
       "</div>"
      ],
      "text/plain": [
       "     municipio  codigo_ibge  dia  mes        data  casos  casos_novos  \\\n",
       "108   Campinas      3509502   25    2  2020-02-25      0            0   \n",
       "753   Campinas      3509502   26    2  2020-02-26      0            0   \n",
       "1398  Campinas      3509502   27    2  2020-02-27      0            0   \n",
       "\n",
       "                  casos_pc         casos_mm7d  obitos  ...  nome_drs cod_drs  \\\n",
       "108   0,00000000000000e+00  0,000000000000000       0  ...  Campinas       3   \n",
       "753   0,00000000000000e+00  0,000000000000000       0  ...  Campinas       3   \n",
       "1398  0,00000000000000e+00  0,000000000000000       0  ...  Campinas       3   \n",
       "\n",
       "          pop  pop_60    area  map_leg map_leg_s  latitude  longitude  \\\n",
       "108   1175501  192796  794.57        0       8.0  -22,9053   -47,0659   \n",
       "753   1175501  192796  794.57        0       8.0  -22,9053   -47,0659   \n",
       "1398  1175501  192796  794.57        0       8.0  -22,9053   -47,0659   \n",
       "\n",
       "      semana_epidem  \n",
       "108               9  \n",
       "753               9  \n",
       "1398              9  \n",
       "\n",
       "[3 rows x 26 columns]"
      ]
     },
     "execution_count": 9,
     "metadata": {},
     "output_type": "execute_result"
    }
   ],
   "source": [
    "covid_campinas = covid.loc[covid.municipio == \"Campinas\"]\n",
    "covid_campinas.head(3)"
   ]
  },
  {
   "cell_type": "code",
   "execution_count": 10,
   "metadata": {},
   "outputs": [
    {
     "name": "stderr",
     "output_type": "stream",
     "text": [
      "C:\\Users\\vitor\\AppData\\Local\\Temp\\ipykernel_3472\\1938864690.py:2: SettingWithCopyWarning: \n",
      "A value is trying to be set on a copy of a slice from a DataFrame.\n",
      "Try using .loc[row_indexer,col_indexer] = value instead\n",
      "\n",
      "See the caveats in the documentation: https://pandas.pydata.org/pandas-docs/stable/user_guide/indexing.html#returning-a-view-versus-a-copy\n",
      "  covid_campinas[\"porcentagem_idosos\"] = 100 * covid_campinas[\"pop_60\"] / covid_campinas[\"pop\"]\n"
     ]
    },
    {
     "data": {
      "text/html": [
       "<div>\n",
       "<style scoped>\n",
       "    .dataframe tbody tr th:only-of-type {\n",
       "        vertical-align: middle;\n",
       "    }\n",
       "\n",
       "    .dataframe tbody tr th {\n",
       "        vertical-align: top;\n",
       "    }\n",
       "\n",
       "    .dataframe thead th {\n",
       "        text-align: right;\n",
       "    }\n",
       "</style>\n",
       "<table border=\"1\" class=\"dataframe\">\n",
       "  <thead>\n",
       "    <tr style=\"text-align: right;\">\n",
       "      <th></th>\n",
       "      <th>municipio</th>\n",
       "      <th>codigo_ibge</th>\n",
       "      <th>dia</th>\n",
       "      <th>mes</th>\n",
       "      <th>data</th>\n",
       "      <th>casos</th>\n",
       "      <th>casos_novos</th>\n",
       "      <th>casos_pc</th>\n",
       "      <th>casos_mm7d</th>\n",
       "      <th>obitos</th>\n",
       "      <th>...</th>\n",
       "      <th>cod_drs</th>\n",
       "      <th>pop</th>\n",
       "      <th>pop_60</th>\n",
       "      <th>area</th>\n",
       "      <th>map_leg</th>\n",
       "      <th>map_leg_s</th>\n",
       "      <th>latitude</th>\n",
       "      <th>longitude</th>\n",
       "      <th>semana_epidem</th>\n",
       "      <th>porcentagem_idosos</th>\n",
       "    </tr>\n",
       "  </thead>\n",
       "  <tbody>\n",
       "    <tr>\n",
       "      <th>108</th>\n",
       "      <td>Campinas</td>\n",
       "      <td>3509502</td>\n",
       "      <td>25</td>\n",
       "      <td>2</td>\n",
       "      <td>2020-02-25</td>\n",
       "      <td>0</td>\n",
       "      <td>0</td>\n",
       "      <td>0,00000000000000e+00</td>\n",
       "      <td>0,000000000000000</td>\n",
       "      <td>0</td>\n",
       "      <td>...</td>\n",
       "      <td>3</td>\n",
       "      <td>1175501</td>\n",
       "      <td>192796</td>\n",
       "      <td>794.57</td>\n",
       "      <td>0</td>\n",
       "      <td>8.0</td>\n",
       "      <td>-22,9053</td>\n",
       "      <td>-47,0659</td>\n",
       "      <td>9</td>\n",
       "      <td>16.401177</td>\n",
       "    </tr>\n",
       "    <tr>\n",
       "      <th>753</th>\n",
       "      <td>Campinas</td>\n",
       "      <td>3509502</td>\n",
       "      <td>26</td>\n",
       "      <td>2</td>\n",
       "      <td>2020-02-26</td>\n",
       "      <td>0</td>\n",
       "      <td>0</td>\n",
       "      <td>0,00000000000000e+00</td>\n",
       "      <td>0,000000000000000</td>\n",
       "      <td>0</td>\n",
       "      <td>...</td>\n",
       "      <td>3</td>\n",
       "      <td>1175501</td>\n",
       "      <td>192796</td>\n",
       "      <td>794.57</td>\n",
       "      <td>0</td>\n",
       "      <td>8.0</td>\n",
       "      <td>-22,9053</td>\n",
       "      <td>-47,0659</td>\n",
       "      <td>9</td>\n",
       "      <td>16.401177</td>\n",
       "    </tr>\n",
       "    <tr>\n",
       "      <th>1398</th>\n",
       "      <td>Campinas</td>\n",
       "      <td>3509502</td>\n",
       "      <td>27</td>\n",
       "      <td>2</td>\n",
       "      <td>2020-02-27</td>\n",
       "      <td>0</td>\n",
       "      <td>0</td>\n",
       "      <td>0,00000000000000e+00</td>\n",
       "      <td>0,000000000000000</td>\n",
       "      <td>0</td>\n",
       "      <td>...</td>\n",
       "      <td>3</td>\n",
       "      <td>1175501</td>\n",
       "      <td>192796</td>\n",
       "      <td>794.57</td>\n",
       "      <td>0</td>\n",
       "      <td>8.0</td>\n",
       "      <td>-22,9053</td>\n",
       "      <td>-47,0659</td>\n",
       "      <td>9</td>\n",
       "      <td>16.401177</td>\n",
       "    </tr>\n",
       "  </tbody>\n",
       "</table>\n",
       "<p>3 rows × 27 columns</p>\n",
       "</div>"
      ],
      "text/plain": [
       "     municipio  codigo_ibge  dia  mes        data  casos  casos_novos  \\\n",
       "108   Campinas      3509502   25    2  2020-02-25      0            0   \n",
       "753   Campinas      3509502   26    2  2020-02-26      0            0   \n",
       "1398  Campinas      3509502   27    2  2020-02-27      0            0   \n",
       "\n",
       "                  casos_pc         casos_mm7d  obitos  ...  cod_drs      pop  \\\n",
       "108   0,00000000000000e+00  0,000000000000000       0  ...        3  1175501   \n",
       "753   0,00000000000000e+00  0,000000000000000       0  ...        3  1175501   \n",
       "1398  0,00000000000000e+00  0,000000000000000       0  ...        3  1175501   \n",
       "\n",
       "      pop_60    area map_leg  map_leg_s  latitude  longitude  semana_epidem  \\\n",
       "108   192796  794.57       0        8.0  -22,9053   -47,0659              9   \n",
       "753   192796  794.57       0        8.0  -22,9053   -47,0659              9   \n",
       "1398  192796  794.57       0        8.0  -22,9053   -47,0659              9   \n",
       "\n",
       "      porcentagem_idosos  \n",
       "108            16.401177  \n",
       "753            16.401177  \n",
       "1398           16.401177  \n",
       "\n",
       "[3 rows x 27 columns]"
      ]
     },
     "execution_count": 10,
     "metadata": {},
     "output_type": "execute_result"
    }
   ],
   "source": [
    "# Criação de uma coluna com a porcentagem de idosos\n",
    "covid_campinas[\"porcentagem_idosos\"] = 100 * covid_campinas[\"pop_60\"] / covid_campinas[\"pop\"]\n",
    "covid_campinas.head(3)"
   ]
  },
  {
   "cell_type": "code",
   "execution_count": 11,
   "metadata": {},
   "outputs": [
    {
     "data": {
      "text/html": [
       "<div>\n",
       "<style scoped>\n",
       "    .dataframe tbody tr th:only-of-type {\n",
       "        vertical-align: middle;\n",
       "    }\n",
       "\n",
       "    .dataframe tbody tr th {\n",
       "        vertical-align: top;\n",
       "    }\n",
       "\n",
       "    .dataframe thead th {\n",
       "        text-align: right;\n",
       "    }\n",
       "</style>\n",
       "<table border=\"1\" class=\"dataframe\">\n",
       "  <thead>\n",
       "    <tr style=\"text-align: right;\">\n",
       "      <th></th>\n",
       "      <th>municipio</th>\n",
       "      <th>codigo_ibge</th>\n",
       "      <th>dia</th>\n",
       "      <th>mes</th>\n",
       "      <th>data</th>\n",
       "      <th>casos</th>\n",
       "      <th>casos_novos</th>\n",
       "      <th>casos_pc</th>\n",
       "      <th>casos_mm7d</th>\n",
       "      <th>obitos</th>\n",
       "      <th>...</th>\n",
       "      <th>nome_drs</th>\n",
       "      <th>cod_drs</th>\n",
       "      <th>pop</th>\n",
       "      <th>pop_60</th>\n",
       "      <th>area</th>\n",
       "      <th>map_leg</th>\n",
       "      <th>map_leg_s</th>\n",
       "      <th>latitude</th>\n",
       "      <th>longitude</th>\n",
       "      <th>semana_epidem</th>\n",
       "    </tr>\n",
       "  </thead>\n",
       "  <tbody>\n",
       "    <tr>\n",
       "      <th>212</th>\n",
       "      <td>Guarulhos</td>\n",
       "      <td>3518800</td>\n",
       "      <td>25</td>\n",
       "      <td>2</td>\n",
       "      <td>2020-02-25</td>\n",
       "      <td>0</td>\n",
       "      <td>0</td>\n",
       "      <td>0,00000000000000e+00</td>\n",
       "      <td>0,000000000000000</td>\n",
       "      <td>0</td>\n",
       "      <td>...</td>\n",
       "      <td>Grande São Paulo</td>\n",
       "      <td>10</td>\n",
       "      <td>1351275</td>\n",
       "      <td>162662</td>\n",
       "      <td>318.68</td>\n",
       "      <td>0</td>\n",
       "      <td>8.0</td>\n",
       "      <td>-23,4538</td>\n",
       "      <td>-46,5333</td>\n",
       "      <td>9</td>\n",
       "    </tr>\n",
       "    <tr>\n",
       "      <th>857</th>\n",
       "      <td>Guarulhos</td>\n",
       "      <td>3518800</td>\n",
       "      <td>26</td>\n",
       "      <td>2</td>\n",
       "      <td>2020-02-26</td>\n",
       "      <td>0</td>\n",
       "      <td>0</td>\n",
       "      <td>0,00000000000000e+00</td>\n",
       "      <td>0,000000000000000</td>\n",
       "      <td>0</td>\n",
       "      <td>...</td>\n",
       "      <td>Grande São Paulo</td>\n",
       "      <td>10</td>\n",
       "      <td>1351275</td>\n",
       "      <td>162662</td>\n",
       "      <td>318.68</td>\n",
       "      <td>0</td>\n",
       "      <td>8.0</td>\n",
       "      <td>-23,4538</td>\n",
       "      <td>-46,5333</td>\n",
       "      <td>9</td>\n",
       "    </tr>\n",
       "    <tr>\n",
       "      <th>1502</th>\n",
       "      <td>Guarulhos</td>\n",
       "      <td>3518800</td>\n",
       "      <td>27</td>\n",
       "      <td>2</td>\n",
       "      <td>2020-02-27</td>\n",
       "      <td>0</td>\n",
       "      <td>0</td>\n",
       "      <td>0,00000000000000e+00</td>\n",
       "      <td>0,000000000000000</td>\n",
       "      <td>0</td>\n",
       "      <td>...</td>\n",
       "      <td>Grande São Paulo</td>\n",
       "      <td>10</td>\n",
       "      <td>1351275</td>\n",
       "      <td>162662</td>\n",
       "      <td>318.68</td>\n",
       "      <td>0</td>\n",
       "      <td>8.0</td>\n",
       "      <td>-23,4538</td>\n",
       "      <td>-46,5333</td>\n",
       "      <td>9</td>\n",
       "    </tr>\n",
       "  </tbody>\n",
       "</table>\n",
       "<p>3 rows × 26 columns</p>\n",
       "</div>"
      ],
      "text/plain": [
       "      municipio  codigo_ibge  dia  mes        data  casos  casos_novos  \\\n",
       "212   Guarulhos      3518800   25    2  2020-02-25      0            0   \n",
       "857   Guarulhos      3518800   26    2  2020-02-26      0            0   \n",
       "1502  Guarulhos      3518800   27    2  2020-02-27      0            0   \n",
       "\n",
       "                  casos_pc         casos_mm7d  obitos  ...          nome_drs  \\\n",
       "212   0,00000000000000e+00  0,000000000000000       0  ...  Grande São Paulo   \n",
       "857   0,00000000000000e+00  0,000000000000000       0  ...  Grande São Paulo   \n",
       "1502  0,00000000000000e+00  0,000000000000000       0  ...  Grande São Paulo   \n",
       "\n",
       "     cod_drs      pop  pop_60    area  map_leg map_leg_s  latitude  longitude  \\\n",
       "212       10  1351275  162662  318.68        0       8.0  -23,4538   -46,5333   \n",
       "857       10  1351275  162662  318.68        0       8.0  -23,4538   -46,5333   \n",
       "1502      10  1351275  162662  318.68        0       8.0  -23,4538   -46,5333   \n",
       "\n",
       "      semana_epidem  \n",
       "212               9  \n",
       "857               9  \n",
       "1502              9  \n",
       "\n",
       "[3 rows x 26 columns]"
      ]
     },
     "execution_count": 11,
     "metadata": {},
     "output_type": "execute_result"
    }
   ],
   "source": [
    "covid_guarulhos = covid.loc[covid.municipio == \"Guarulhos\"]\n",
    "covid_guarulhos.head(3)"
   ]
  },
  {
   "cell_type": "code",
   "execution_count": 12,
   "metadata": {},
   "outputs": [
    {
     "name": "stderr",
     "output_type": "stream",
     "text": [
      "C:\\Users\\vitor\\AppData\\Local\\Temp\\ipykernel_3472\\61854847.py:2: SettingWithCopyWarning: \n",
      "A value is trying to be set on a copy of a slice from a DataFrame.\n",
      "Try using .loc[row_indexer,col_indexer] = value instead\n",
      "\n",
      "See the caveats in the documentation: https://pandas.pydata.org/pandas-docs/stable/user_guide/indexing.html#returning-a-view-versus-a-copy\n",
      "  covid_guarulhos[\"porcentagem_idosos\"] = 100 * covid_guarulhos[\"pop_60\"] / covid_guarulhos[\"pop\"]\n"
     ]
    },
    {
     "data": {
      "text/html": [
       "<div>\n",
       "<style scoped>\n",
       "    .dataframe tbody tr th:only-of-type {\n",
       "        vertical-align: middle;\n",
       "    }\n",
       "\n",
       "    .dataframe tbody tr th {\n",
       "        vertical-align: top;\n",
       "    }\n",
       "\n",
       "    .dataframe thead th {\n",
       "        text-align: right;\n",
       "    }\n",
       "</style>\n",
       "<table border=\"1\" class=\"dataframe\">\n",
       "  <thead>\n",
       "    <tr style=\"text-align: right;\">\n",
       "      <th></th>\n",
       "      <th>municipio</th>\n",
       "      <th>codigo_ibge</th>\n",
       "      <th>dia</th>\n",
       "      <th>mes</th>\n",
       "      <th>data</th>\n",
       "      <th>casos</th>\n",
       "      <th>casos_novos</th>\n",
       "      <th>casos_pc</th>\n",
       "      <th>casos_mm7d</th>\n",
       "      <th>obitos</th>\n",
       "      <th>...</th>\n",
       "      <th>cod_drs</th>\n",
       "      <th>pop</th>\n",
       "      <th>pop_60</th>\n",
       "      <th>area</th>\n",
       "      <th>map_leg</th>\n",
       "      <th>map_leg_s</th>\n",
       "      <th>latitude</th>\n",
       "      <th>longitude</th>\n",
       "      <th>semana_epidem</th>\n",
       "      <th>porcentagem_idosos</th>\n",
       "    </tr>\n",
       "  </thead>\n",
       "  <tbody>\n",
       "    <tr>\n",
       "      <th>212</th>\n",
       "      <td>Guarulhos</td>\n",
       "      <td>3518800</td>\n",
       "      <td>25</td>\n",
       "      <td>2</td>\n",
       "      <td>2020-02-25</td>\n",
       "      <td>0</td>\n",
       "      <td>0</td>\n",
       "      <td>0,00000000000000e+00</td>\n",
       "      <td>0,000000000000000</td>\n",
       "      <td>0</td>\n",
       "      <td>...</td>\n",
       "      <td>10</td>\n",
       "      <td>1351275</td>\n",
       "      <td>162662</td>\n",
       "      <td>318.68</td>\n",
       "      <td>0</td>\n",
       "      <td>8.0</td>\n",
       "      <td>-23,4538</td>\n",
       "      <td>-46,5333</td>\n",
       "      <td>9</td>\n",
       "      <td>12.037668</td>\n",
       "    </tr>\n",
       "    <tr>\n",
       "      <th>857</th>\n",
       "      <td>Guarulhos</td>\n",
       "      <td>3518800</td>\n",
       "      <td>26</td>\n",
       "      <td>2</td>\n",
       "      <td>2020-02-26</td>\n",
       "      <td>0</td>\n",
       "      <td>0</td>\n",
       "      <td>0,00000000000000e+00</td>\n",
       "      <td>0,000000000000000</td>\n",
       "      <td>0</td>\n",
       "      <td>...</td>\n",
       "      <td>10</td>\n",
       "      <td>1351275</td>\n",
       "      <td>162662</td>\n",
       "      <td>318.68</td>\n",
       "      <td>0</td>\n",
       "      <td>8.0</td>\n",
       "      <td>-23,4538</td>\n",
       "      <td>-46,5333</td>\n",
       "      <td>9</td>\n",
       "      <td>12.037668</td>\n",
       "    </tr>\n",
       "    <tr>\n",
       "      <th>1502</th>\n",
       "      <td>Guarulhos</td>\n",
       "      <td>3518800</td>\n",
       "      <td>27</td>\n",
       "      <td>2</td>\n",
       "      <td>2020-02-27</td>\n",
       "      <td>0</td>\n",
       "      <td>0</td>\n",
       "      <td>0,00000000000000e+00</td>\n",
       "      <td>0,000000000000000</td>\n",
       "      <td>0</td>\n",
       "      <td>...</td>\n",
       "      <td>10</td>\n",
       "      <td>1351275</td>\n",
       "      <td>162662</td>\n",
       "      <td>318.68</td>\n",
       "      <td>0</td>\n",
       "      <td>8.0</td>\n",
       "      <td>-23,4538</td>\n",
       "      <td>-46,5333</td>\n",
       "      <td>9</td>\n",
       "      <td>12.037668</td>\n",
       "    </tr>\n",
       "  </tbody>\n",
       "</table>\n",
       "<p>3 rows × 27 columns</p>\n",
       "</div>"
      ],
      "text/plain": [
       "      municipio  codigo_ibge  dia  mes        data  casos  casos_novos  \\\n",
       "212   Guarulhos      3518800   25    2  2020-02-25      0            0   \n",
       "857   Guarulhos      3518800   26    2  2020-02-26      0            0   \n",
       "1502  Guarulhos      3518800   27    2  2020-02-27      0            0   \n",
       "\n",
       "                  casos_pc         casos_mm7d  obitos  ...  cod_drs      pop  \\\n",
       "212   0,00000000000000e+00  0,000000000000000       0  ...       10  1351275   \n",
       "857   0,00000000000000e+00  0,000000000000000       0  ...       10  1351275   \n",
       "1502  0,00000000000000e+00  0,000000000000000       0  ...       10  1351275   \n",
       "\n",
       "      pop_60    area map_leg  map_leg_s  latitude  longitude  semana_epidem  \\\n",
       "212   162662  318.68       0        8.0  -23,4538   -46,5333              9   \n",
       "857   162662  318.68       0        8.0  -23,4538   -46,5333              9   \n",
       "1502  162662  318.68       0        8.0  -23,4538   -46,5333              9   \n",
       "\n",
       "      porcentagem_idosos  \n",
       "212            12.037668  \n",
       "857            12.037668  \n",
       "1502           12.037668  \n",
       "\n",
       "[3 rows x 27 columns]"
      ]
     },
     "execution_count": 12,
     "metadata": {},
     "output_type": "execute_result"
    }
   ],
   "source": [
    "# Criação de uma coluna com a porcentagem de idosos\n",
    "covid_guarulhos[\"porcentagem_idosos\"] = 100 * covid_guarulhos[\"pop_60\"] / covid_guarulhos[\"pop\"]\n",
    "covid_guarulhos.head(3)"
   ]
  },
  {
   "cell_type": "markdown",
   "metadata": {},
   "source": [
    "### Medidas de Centralidade"
   ]
  },
  {
   "cell_type": "markdown",
   "metadata": {},
   "source": [
    "#### Média"
   ]
  },
  {
   "cell_type": "markdown",
   "metadata": {},
   "source": [
    "##### Campinas"
   ]
  },
  {
   "cell_type": "code",
   "execution_count": 13,
   "metadata": {},
   "outputs": [
    {
     "data": {
      "text/plain": [
       "7.721934369602764"
      ]
     },
     "execution_count": 13,
     "metadata": {},
     "output_type": "execute_result"
    }
   ],
   "source": [
    "# \".mean()\" trará a média\n",
    "covid_campinas[\"obitos_novos\"].mean()"
   ]
  },
  {
   "cell_type": "code",
   "execution_count": 14,
   "metadata": {},
   "outputs": [
    {
     "data": {
      "text/plain": [
       "194.88946459412782"
      ]
     },
     "execution_count": 14,
     "metadata": {},
     "output_type": "execute_result"
    }
   ],
   "source": [
    "covid_campinas.casos_novos.mean()"
   ]
  },
  {
   "cell_type": "markdown",
   "metadata": {},
   "source": [
    "##### Guarulhos"
   ]
  },
  {
   "cell_type": "code",
   "execution_count": 15,
   "metadata": {},
   "outputs": [
    {
     "data": {
      "text/plain": [
       "8.404145077720207"
      ]
     },
     "execution_count": 15,
     "metadata": {},
     "output_type": "execute_result"
    }
   ],
   "source": [
    "covid_guarulhos[\"obitos_novos\"].mean()"
   ]
  },
  {
   "cell_type": "code",
   "execution_count": 16,
   "metadata": {},
   "outputs": [
    {
     "data": {
      "text/plain": [
       "109.49568221070811"
      ]
     },
     "execution_count": 16,
     "metadata": {},
     "output_type": "execute_result"
    }
   ],
   "source": [
    "covid_guarulhos.casos_novos.mean()"
   ]
  },
  {
   "cell_type": "markdown",
   "metadata": {},
   "source": [
    "#### Mediana"
   ]
  },
  {
   "cell_type": "markdown",
   "metadata": {},
   "source": [
    "##### Campinas"
   ]
  },
  {
   "cell_type": "code",
   "execution_count": 17,
   "metadata": {},
   "outputs": [
    {
     "data": {
      "text/plain": [
       "5.0"
      ]
     },
     "execution_count": 17,
     "metadata": {},
     "output_type": "execute_result"
    }
   ],
   "source": [
    "covid_campinas[\"obitos_novos\"].median()"
   ]
  },
  {
   "cell_type": "code",
   "execution_count": 18,
   "metadata": {},
   "outputs": [
    {
     "data": {
      "text/plain": [
       "148.0"
      ]
     },
     "execution_count": 18,
     "metadata": {},
     "output_type": "execute_result"
    }
   ],
   "source": [
    "covid_campinas.casos_novos.median()"
   ]
  },
  {
   "cell_type": "markdown",
   "metadata": {},
   "source": [
    "##### Guarulhos"
   ]
  },
  {
   "cell_type": "code",
   "execution_count": 19,
   "metadata": {},
   "outputs": [
    {
     "data": {
      "text/plain": [
       "4.0"
      ]
     },
     "execution_count": 19,
     "metadata": {},
     "output_type": "execute_result"
    }
   ],
   "source": [
    "covid_guarulhos[\"obitos_novos\"].median()"
   ]
  },
  {
   "cell_type": "code",
   "execution_count": 20,
   "metadata": {},
   "outputs": [
    {
     "data": {
      "text/plain": [
       "87.0"
      ]
     },
     "execution_count": 20,
     "metadata": {},
     "output_type": "execute_result"
    }
   ],
   "source": [
    "covid_guarulhos.casos_novos.median()"
   ]
  },
  {
   "cell_type": "markdown",
   "metadata": {},
   "source": [
    "#### Moda"
   ]
  },
  {
   "cell_type": "markdown",
   "metadata": {},
   "source": [
    "##### Campinas"
   ]
  },
  {
   "cell_type": "code",
   "execution_count": 21,
   "metadata": {},
   "outputs": [
    {
     "data": {
      "text/plain": [
       "0    0\n",
       "Name: obitos_novos, dtype: int64"
      ]
     },
     "execution_count": 21,
     "metadata": {},
     "output_type": "execute_result"
    }
   ],
   "source": [
    "covid_campinas[\"obitos_novos\"].mode()"
   ]
  },
  {
   "cell_type": "code",
   "execution_count": 22,
   "metadata": {},
   "outputs": [
    {
     "data": {
      "text/plain": [
       "0    25\n",
       "Name: dia, dtype: int64"
      ]
     },
     "execution_count": 22,
     "metadata": {},
     "output_type": "execute_result"
    }
   ],
   "source": [
    "covid_campinas[\"dia\"].mode()"
   ]
  },
  {
   "cell_type": "markdown",
   "metadata": {},
   "source": [
    "##### Guarulhos"
   ]
  },
  {
   "cell_type": "code",
   "execution_count": 23,
   "metadata": {},
   "outputs": [
    {
     "data": {
      "text/plain": [
       "0    0\n",
       "Name: obitos_novos, dtype: int64"
      ]
     },
     "execution_count": 23,
     "metadata": {},
     "output_type": "execute_result"
    }
   ],
   "source": [
    "covid_guarulhos[\"obitos_novos\"].mode()"
   ]
  },
  {
   "cell_type": "code",
   "execution_count": 24,
   "metadata": {},
   "outputs": [
    {
     "data": {
      "text/plain": [
       "0    25\n",
       "Name: dia, dtype: int64"
      ]
     },
     "execution_count": 24,
     "metadata": {},
     "output_type": "execute_result"
    }
   ],
   "source": [
    "covid_guarulhos[\"dia\"].mode()"
   ]
  },
  {
   "cell_type": "markdown",
   "metadata": {},
   "source": [
    "#### Descrição geral"
   ]
  },
  {
   "cell_type": "code",
   "execution_count": 25,
   "metadata": {},
   "outputs": [
    {
     "data": {
      "text/html": [
       "<div>\n",
       "<style scoped>\n",
       "    .dataframe tbody tr th:only-of-type {\n",
       "        vertical-align: middle;\n",
       "    }\n",
       "\n",
       "    .dataframe tbody tr th {\n",
       "        vertical-align: top;\n",
       "    }\n",
       "\n",
       "    .dataframe thead th {\n",
       "        text-align: right;\n",
       "    }\n",
       "</style>\n",
       "<table border=\"1\" class=\"dataframe\">\n",
       "  <thead>\n",
       "    <tr style=\"text-align: right;\">\n",
       "      <th></th>\n",
       "      <th>codigo_ibge</th>\n",
       "      <th>dia</th>\n",
       "      <th>mes</th>\n",
       "      <th>casos</th>\n",
       "      <th>casos_novos</th>\n",
       "      <th>obitos</th>\n",
       "      <th>obitos_novos</th>\n",
       "      <th>cod_ra</th>\n",
       "      <th>cod_drs</th>\n",
       "      <th>pop</th>\n",
       "      <th>pop_60</th>\n",
       "      <th>area</th>\n",
       "      <th>map_leg_s</th>\n",
       "      <th>semana_epidem</th>\n",
       "      <th>porcentagem_idosos</th>\n",
       "    </tr>\n",
       "  </thead>\n",
       "  <tbody>\n",
       "    <tr>\n",
       "      <th>count</th>\n",
       "      <td>579.0</td>\n",
       "      <td>579.000000</td>\n",
       "      <td>579.000000</td>\n",
       "      <td>579.000000</td>\n",
       "      <td>579.000000</td>\n",
       "      <td>579.000000</td>\n",
       "      <td>579.000000</td>\n",
       "      <td>579.0</td>\n",
       "      <td>579.0</td>\n",
       "      <td>579.0</td>\n",
       "      <td>579.0</td>\n",
       "      <td>5.790000e+02</td>\n",
       "      <td>579.000000</td>\n",
       "      <td>579.000000</td>\n",
       "      <td>5.790000e+02</td>\n",
       "    </tr>\n",
       "    <tr>\n",
       "      <th>mean</th>\n",
       "      <td>3509502.0</td>\n",
       "      <td>15.737478</td>\n",
       "      <td>6.269430</td>\n",
       "      <td>46549.331606</td>\n",
       "      <td>194.889465</td>\n",
       "      <td>1763.333333</td>\n",
       "      <td>7.721934</td>\n",
       "      <td>4.0</td>\n",
       "      <td>3.0</td>\n",
       "      <td>1175501.0</td>\n",
       "      <td>192796.0</td>\n",
       "      <td>7.945700e+02</td>\n",
       "      <td>1.787565</td>\n",
       "      <td>25.792746</td>\n",
       "      <td>1.640118e+01</td>\n",
       "    </tr>\n",
       "    <tr>\n",
       "      <th>std</th>\n",
       "      <td>0.0</td>\n",
       "      <td>8.803909</td>\n",
       "      <td>3.024688</td>\n",
       "      <td>36212.354082</td>\n",
       "      <td>173.933661</td>\n",
       "      <td>1427.149566</td>\n",
       "      <td>8.957631</td>\n",
       "      <td>0.0</td>\n",
       "      <td>0.0</td>\n",
       "      <td>0.0</td>\n",
       "      <td>0.0</td>\n",
       "      <td>5.803042e-12</td>\n",
       "      <td>1.882753</td>\n",
       "      <td>13.389761</td>\n",
       "      <td>8.533886e-14</td>\n",
       "    </tr>\n",
       "    <tr>\n",
       "      <th>min</th>\n",
       "      <td>3509502.0</td>\n",
       "      <td>1.000000</td>\n",
       "      <td>1.000000</td>\n",
       "      <td>0.000000</td>\n",
       "      <td>0.000000</td>\n",
       "      <td>0.000000</td>\n",
       "      <td>0.000000</td>\n",
       "      <td>4.0</td>\n",
       "      <td>3.0</td>\n",
       "      <td>1175501.0</td>\n",
       "      <td>192796.0</td>\n",
       "      <td>7.945700e+02</td>\n",
       "      <td>1.000000</td>\n",
       "      <td>1.000000</td>\n",
       "      <td>1.640118e+01</td>\n",
       "    </tr>\n",
       "    <tr>\n",
       "      <th>25%</th>\n",
       "      <td>3509502.0</td>\n",
       "      <td>8.000000</td>\n",
       "      <td>4.000000</td>\n",
       "      <td>12926.000000</td>\n",
       "      <td>39.000000</td>\n",
       "      <td>540.500000</td>\n",
       "      <td>1.000000</td>\n",
       "      <td>4.0</td>\n",
       "      <td>3.0</td>\n",
       "      <td>1175501.0</td>\n",
       "      <td>192796.0</td>\n",
       "      <td>7.945700e+02</td>\n",
       "      <td>1.000000</td>\n",
       "      <td>15.000000</td>\n",
       "      <td>1.640118e+01</td>\n",
       "    </tr>\n",
       "    <tr>\n",
       "      <th>50%</th>\n",
       "      <td>3509502.0</td>\n",
       "      <td>16.000000</td>\n",
       "      <td>6.000000</td>\n",
       "      <td>39112.000000</td>\n",
       "      <td>148.000000</td>\n",
       "      <td>1407.000000</td>\n",
       "      <td>5.000000</td>\n",
       "      <td>4.0</td>\n",
       "      <td>3.0</td>\n",
       "      <td>1175501.0</td>\n",
       "      <td>192796.0</td>\n",
       "      <td>7.945700e+02</td>\n",
       "      <td>1.000000</td>\n",
       "      <td>25.000000</td>\n",
       "      <td>1.640118e+01</td>\n",
       "    </tr>\n",
       "    <tr>\n",
       "      <th>75%</th>\n",
       "      <td>3509502.0</td>\n",
       "      <td>23.000000</td>\n",
       "      <td>9.000000</td>\n",
       "      <td>77445.500000</td>\n",
       "      <td>326.000000</td>\n",
       "      <td>3048.500000</td>\n",
       "      <td>12.000000</td>\n",
       "      <td>4.0</td>\n",
       "      <td>3.0</td>\n",
       "      <td>1175501.0</td>\n",
       "      <td>192796.0</td>\n",
       "      <td>7.945700e+02</td>\n",
       "      <td>1.000000</td>\n",
       "      <td>36.000000</td>\n",
       "      <td>1.640118e+01</td>\n",
       "    </tr>\n",
       "    <tr>\n",
       "      <th>max</th>\n",
       "      <td>3509502.0</td>\n",
       "      <td>31.000000</td>\n",
       "      <td>12.000000</td>\n",
       "      <td>112841.000000</td>\n",
       "      <td>1080.000000</td>\n",
       "      <td>4471.000000</td>\n",
       "      <td>67.000000</td>\n",
       "      <td>4.0</td>\n",
       "      <td>3.0</td>\n",
       "      <td>1175501.0</td>\n",
       "      <td>192796.0</td>\n",
       "      <td>7.945700e+02</td>\n",
       "      <td>8.000000</td>\n",
       "      <td>53.000000</td>\n",
       "      <td>1.640118e+01</td>\n",
       "    </tr>\n",
       "  </tbody>\n",
       "</table>\n",
       "</div>"
      ],
      "text/plain": [
       "       codigo_ibge         dia         mes          casos  casos_novos  \\\n",
       "count        579.0  579.000000  579.000000     579.000000   579.000000   \n",
       "mean     3509502.0   15.737478    6.269430   46549.331606   194.889465   \n",
       "std            0.0    8.803909    3.024688   36212.354082   173.933661   \n",
       "min      3509502.0    1.000000    1.000000       0.000000     0.000000   \n",
       "25%      3509502.0    8.000000    4.000000   12926.000000    39.000000   \n",
       "50%      3509502.0   16.000000    6.000000   39112.000000   148.000000   \n",
       "75%      3509502.0   23.000000    9.000000   77445.500000   326.000000   \n",
       "max      3509502.0   31.000000   12.000000  112841.000000  1080.000000   \n",
       "\n",
       "            obitos  obitos_novos  cod_ra  cod_drs        pop    pop_60  \\\n",
       "count   579.000000    579.000000   579.0    579.0      579.0     579.0   \n",
       "mean   1763.333333      7.721934     4.0      3.0  1175501.0  192796.0   \n",
       "std    1427.149566      8.957631     0.0      0.0        0.0       0.0   \n",
       "min       0.000000      0.000000     4.0      3.0  1175501.0  192796.0   \n",
       "25%     540.500000      1.000000     4.0      3.0  1175501.0  192796.0   \n",
       "50%    1407.000000      5.000000     4.0      3.0  1175501.0  192796.0   \n",
       "75%    3048.500000     12.000000     4.0      3.0  1175501.0  192796.0   \n",
       "max    4471.000000     67.000000     4.0      3.0  1175501.0  192796.0   \n",
       "\n",
       "               area   map_leg_s  semana_epidem  porcentagem_idosos  \n",
       "count  5.790000e+02  579.000000     579.000000        5.790000e+02  \n",
       "mean   7.945700e+02    1.787565      25.792746        1.640118e+01  \n",
       "std    5.803042e-12    1.882753      13.389761        8.533886e-14  \n",
       "min    7.945700e+02    1.000000       1.000000        1.640118e+01  \n",
       "25%    7.945700e+02    1.000000      15.000000        1.640118e+01  \n",
       "50%    7.945700e+02    1.000000      25.000000        1.640118e+01  \n",
       "75%    7.945700e+02    1.000000      36.000000        1.640118e+01  \n",
       "max    7.945700e+02    8.000000      53.000000        1.640118e+01  "
      ]
     },
     "execution_count": 25,
     "metadata": {},
     "output_type": "execute_result"
    }
   ],
   "source": [
    "covid_campinas.describe()"
   ]
  },
  {
   "cell_type": "code",
   "execution_count": 26,
   "metadata": {},
   "outputs": [
    {
     "data": {
      "text/plain": [
       "count    579.000000\n",
       "mean     109.495682\n",
       "std      100.261861\n",
       "min        0.000000\n",
       "25%       27.500000\n",
       "50%       87.000000\n",
       "75%      161.000000\n",
       "max      698.000000\n",
       "Name: casos_novos, dtype: float64"
      ]
     },
     "execution_count": 26,
     "metadata": {},
     "output_type": "execute_result"
    }
   ],
   "source": [
    "covid_guarulhos[\"casos_novos\"].describe()"
   ]
  },
  {
   "cell_type": "markdown",
   "metadata": {},
   "source": [
    "#### Distribuição de Frequências: Histograma"
   ]
  },
  {
   "cell_type": "code",
   "execution_count": 27,
   "metadata": {},
   "outputs": [],
   "source": [
    "covid_campinas2021 = covid_campinas.loc[covid_campinas.data > \"2020-12-31\"]\n",
    "covid_guarulhos2021 = covid_guarulhos.loc[covid_guarulhos.data > \"2020-12-31\"]"
   ]
  },
  {
   "cell_type": "code",
   "execution_count": 28,
   "metadata": {},
   "outputs": [
    {
     "data": {
      "text/html": [
       "<div>\n",
       "<style scoped>\n",
       "    .dataframe tbody tr th:only-of-type {\n",
       "        vertical-align: middle;\n",
       "    }\n",
       "\n",
       "    .dataframe tbody tr th {\n",
       "        vertical-align: top;\n",
       "    }\n",
       "\n",
       "    .dataframe thead th {\n",
       "        text-align: right;\n",
       "    }\n",
       "</style>\n",
       "<table border=\"1\" class=\"dataframe\">\n",
       "  <thead>\n",
       "    <tr style=\"text-align: right;\">\n",
       "      <th></th>\n",
       "      <th>municipio</th>\n",
       "      <th>codigo_ibge</th>\n",
       "      <th>dia</th>\n",
       "      <th>mes</th>\n",
       "      <th>data</th>\n",
       "      <th>casos</th>\n",
       "      <th>casos_novos</th>\n",
       "      <th>casos_pc</th>\n",
       "      <th>casos_mm7d</th>\n",
       "      <th>obitos</th>\n",
       "      <th>...</th>\n",
       "      <th>cod_drs</th>\n",
       "      <th>pop</th>\n",
       "      <th>pop_60</th>\n",
       "      <th>area</th>\n",
       "      <th>map_leg</th>\n",
       "      <th>map_leg_s</th>\n",
       "      <th>latitude</th>\n",
       "      <th>longitude</th>\n",
       "      <th>semana_epidem</th>\n",
       "      <th>porcentagem_idosos</th>\n",
       "    </tr>\n",
       "  </thead>\n",
       "  <tbody>\n",
       "    <tr>\n",
       "      <th>200703</th>\n",
       "      <td>Campinas</td>\n",
       "      <td>3509502</td>\n",
       "      <td>1</td>\n",
       "      <td>1</td>\n",
       "      <td>2021-01-01</td>\n",
       "      <td>43502</td>\n",
       "      <td>92</td>\n",
       "      <td>3,70071994834543e+03</td>\n",
       "      <td>205,285714285714278</td>\n",
       "      <td>1474</td>\n",
       "      <td>...</td>\n",
       "      <td>3</td>\n",
       "      <td>1175501</td>\n",
       "      <td>192796</td>\n",
       "      <td>794.57</td>\n",
       "      <td>&gt;5000</td>\n",
       "      <td>1.0</td>\n",
       "      <td>-22,9053</td>\n",
       "      <td>-47,0659</td>\n",
       "      <td>53</td>\n",
       "      <td>16.401177</td>\n",
       "    </tr>\n",
       "    <tr>\n",
       "      <th>201348</th>\n",
       "      <td>Campinas</td>\n",
       "      <td>3509502</td>\n",
       "      <td>2</td>\n",
       "      <td>1</td>\n",
       "      <td>2021-01-02</td>\n",
       "      <td>43508</td>\n",
       "      <td>6</td>\n",
       "      <td>3,70123036900862e+03</td>\n",
       "      <td>203,857142857142861</td>\n",
       "      <td>1475</td>\n",
       "      <td>...</td>\n",
       "      <td>3</td>\n",
       "      <td>1175501</td>\n",
       "      <td>192796</td>\n",
       "      <td>794.57</td>\n",
       "      <td>&gt;5000</td>\n",
       "      <td>1.0</td>\n",
       "      <td>-22,9053</td>\n",
       "      <td>-47,0659</td>\n",
       "      <td>53</td>\n",
       "      <td>16.401177</td>\n",
       "    </tr>\n",
       "    <tr>\n",
       "      <th>201993</th>\n",
       "      <td>Campinas</td>\n",
       "      <td>3509502</td>\n",
       "      <td>3</td>\n",
       "      <td>1</td>\n",
       "      <td>2021-01-03</td>\n",
       "      <td>43561</td>\n",
       "      <td>53</td>\n",
       "      <td>3,70573908486679e+03</td>\n",
       "      <td>207,428571428571416</td>\n",
       "      <td>1476</td>\n",
       "      <td>...</td>\n",
       "      <td>3</td>\n",
       "      <td>1175501</td>\n",
       "      <td>192796</td>\n",
       "      <td>794.57</td>\n",
       "      <td>&gt;5000</td>\n",
       "      <td>1.0</td>\n",
       "      <td>-22,9053</td>\n",
       "      <td>-47,0659</td>\n",
       "      <td>1</td>\n",
       "      <td>16.401177</td>\n",
       "    </tr>\n",
       "  </tbody>\n",
       "</table>\n",
       "<p>3 rows × 27 columns</p>\n",
       "</div>"
      ],
      "text/plain": [
       "       municipio  codigo_ibge  dia  mes        data  casos  casos_novos  \\\n",
       "200703  Campinas      3509502    1    1  2021-01-01  43502           92   \n",
       "201348  Campinas      3509502    2    1  2021-01-02  43508            6   \n",
       "201993  Campinas      3509502    3    1  2021-01-03  43561           53   \n",
       "\n",
       "                    casos_pc           casos_mm7d  obitos  ...  cod_drs  \\\n",
       "200703  3,70071994834543e+03  205,285714285714278    1474  ...        3   \n",
       "201348  3,70123036900862e+03  203,857142857142861    1475  ...        3   \n",
       "201993  3,70573908486679e+03  207,428571428571416    1476  ...        3   \n",
       "\n",
       "            pop  pop_60    area map_leg  map_leg_s  latitude  longitude  \\\n",
       "200703  1175501  192796  794.57   >5000        1.0  -22,9053   -47,0659   \n",
       "201348  1175501  192796  794.57   >5000        1.0  -22,9053   -47,0659   \n",
       "201993  1175501  192796  794.57   >5000        1.0  -22,9053   -47,0659   \n",
       "\n",
       "        semana_epidem  porcentagem_idosos  \n",
       "200703             53           16.401177  \n",
       "201348             53           16.401177  \n",
       "201993              1           16.401177  \n",
       "\n",
       "[3 rows x 27 columns]"
      ]
     },
     "execution_count": 28,
     "metadata": {},
     "output_type": "execute_result"
    }
   ],
   "source": [
    "covid_campinas2021.head(3)"
   ]
  },
  {
   "cell_type": "code",
   "execution_count": 29,
   "metadata": {},
   "outputs": [
    {
     "data": {
      "text/plain": [
       "7.721934369602764"
      ]
     },
     "execution_count": 29,
     "metadata": {},
     "output_type": "execute_result"
    }
   ],
   "source": [
    "# Média de obitos de todo o período na cidade de Campinas\n",
    "covid_campinas[\"obitos_novos\"].mean()"
   ]
  },
  {
   "cell_type": "code",
   "execution_count": 30,
   "metadata": {},
   "outputs": [
    {
     "data": {
      "text/plain": [
       "11.182835820895523"
      ]
     },
     "execution_count": 30,
     "metadata": {},
     "output_type": "execute_result"
    }
   ],
   "source": [
    "# Média de obitos no ano de 2021 na cidade de Campinas\n",
    "covid_campinas2021[\"obitos_novos\"].mean()"
   ]
  },
  {
   "cell_type": "code",
   "execution_count": 31,
   "metadata": {},
   "outputs": [],
   "source": [
    "import plotly.express as px"
   ]
  },
  {
   "cell_type": "code",
   "execution_count": 32,
   "metadata": {},
   "outputs": [
    {
     "data": {
      "application/vnd.plotly.v1+json": {
       "config": {
        "plotlyServerURL": "https://plot.ly"
       },
       "data": [
        {
         "alignmentgroup": "True",
         "bingroup": "x",
         "hovertemplate": "obitos_novos=%{x}<br>count=%{y}<extra></extra>",
         "legendgroup": "",
         "marker": {
          "color": "#636efa",
          "pattern": {
           "shape": ""
          }
         },
         "name": "",
         "nbinsx": 30,
         "offsetgroup": "",
         "orientation": "v",
         "showlegend": false,
         "type": "histogram",
         "x": [
          0,
          1,
          1,
          0,
          11,
          6,
          8,
          4,
          8,
          2,
          1,
          13,
          6,
          4,
          13,
          3,
          4,
          1,
          7,
          12,
          9,
          8,
          6,
          0,
          1,
          9,
          9,
          12,
          7,
          6,
          0,
          0,
          12,
          11,
          14,
          9,
          7,
          0,
          0,
          14,
          21,
          12,
          4,
          9,
          1,
          0,
          15,
          11,
          9,
          6,
          7,
          3,
          0,
          17,
          7,
          18,
          7,
          8,
          1,
          2,
          12,
          20,
          9,
          13,
          18,
          0,
          0,
          18,
          12,
          10,
          12,
          16,
          5,
          2,
          24,
          25,
          29,
          23,
          24,
          8,
          1,
          33,
          14,
          27,
          26,
          49,
          8,
          4,
          49,
          30,
          39,
          20,
          7,
          0,
          6,
          67,
          28,
          43,
          24,
          24,
          10,
          3,
          43,
          34,
          28,
          15,
          35,
          5,
          2,
          19,
          27,
          9,
          17,
          23,
          0,
          7,
          37,
          22,
          26,
          6,
          16,
          5,
          1,
          17,
          19,
          22,
          12,
          19,
          0,
          0,
          31,
          14,
          10,
          9,
          8,
          0,
          0,
          17,
          13,
          10,
          11,
          11,
          2,
          1,
          25,
          17,
          4,
          3,
          12,
          0,
          2,
          23,
          8,
          13,
          0,
          8,
          4,
          0,
          23,
          20,
          24,
          20,
          9,
          2,
          0,
          20,
          18,
          22,
          17,
          27,
          4,
          2,
          22,
          21,
          15,
          21,
          16,
          2,
          2,
          19,
          26,
          23,
          20,
          8,
          1,
          2,
          27,
          20,
          15,
          13,
          3,
          1,
          0,
          40,
          13,
          13,
          6,
          22,
          0,
          4,
          27,
          9,
          17,
          6,
          15,
          0,
          0,
          10,
          12,
          16,
          8,
          9,
          2,
          0,
          14,
          18,
          9,
          6,
          8,
          0,
          0,
          16,
          12,
          13,
          3,
          21,
          5,
          0,
          18,
          7,
          6,
          6,
          11,
          0,
          2,
          7,
          20,
          10,
          8,
          7,
          1,
          0,
          9,
          10,
          6,
          20,
          6,
          0,
          0,
          2,
          0,
          11,
          12,
          10,
          0,
          3,
          9,
          12,
          2,
          4,
          3,
          0,
          0,
          3,
          12,
          3,
          3,
          4
         ],
         "xaxis": "x",
         "yaxis": "y"
        }
       ],
       "layout": {
        "barmode": "relative",
        "height": 400,
        "legend": {
         "tracegroupgap": 0
        },
        "margin": {
         "t": 60
        },
        "template": {
         "data": {
          "bar": [
           {
            "error_x": {
             "color": "#2a3f5f"
            },
            "error_y": {
             "color": "#2a3f5f"
            },
            "marker": {
             "line": {
              "color": "#E5ECF6",
              "width": 0.5
             },
             "pattern": {
              "fillmode": "overlay",
              "size": 10,
              "solidity": 0.2
             }
            },
            "type": "bar"
           }
          ],
          "barpolar": [
           {
            "marker": {
             "line": {
              "color": "#E5ECF6",
              "width": 0.5
             },
             "pattern": {
              "fillmode": "overlay",
              "size": 10,
              "solidity": 0.2
             }
            },
            "type": "barpolar"
           }
          ],
          "carpet": [
           {
            "aaxis": {
             "endlinecolor": "#2a3f5f",
             "gridcolor": "white",
             "linecolor": "white",
             "minorgridcolor": "white",
             "startlinecolor": "#2a3f5f"
            },
            "baxis": {
             "endlinecolor": "#2a3f5f",
             "gridcolor": "white",
             "linecolor": "white",
             "minorgridcolor": "white",
             "startlinecolor": "#2a3f5f"
            },
            "type": "carpet"
           }
          ],
          "choropleth": [
           {
            "colorbar": {
             "outlinewidth": 0,
             "ticks": ""
            },
            "type": "choropleth"
           }
          ],
          "contour": [
           {
            "colorbar": {
             "outlinewidth": 0,
             "ticks": ""
            },
            "colorscale": [
             [
              0,
              "#0d0887"
             ],
             [
              0.1111111111111111,
              "#46039f"
             ],
             [
              0.2222222222222222,
              "#7201a8"
             ],
             [
              0.3333333333333333,
              "#9c179e"
             ],
             [
              0.4444444444444444,
              "#bd3786"
             ],
             [
              0.5555555555555556,
              "#d8576b"
             ],
             [
              0.6666666666666666,
              "#ed7953"
             ],
             [
              0.7777777777777778,
              "#fb9f3a"
             ],
             [
              0.8888888888888888,
              "#fdca26"
             ],
             [
              1,
              "#f0f921"
             ]
            ],
            "type": "contour"
           }
          ],
          "contourcarpet": [
           {
            "colorbar": {
             "outlinewidth": 0,
             "ticks": ""
            },
            "type": "contourcarpet"
           }
          ],
          "heatmap": [
           {
            "colorbar": {
             "outlinewidth": 0,
             "ticks": ""
            },
            "colorscale": [
             [
              0,
              "#0d0887"
             ],
             [
              0.1111111111111111,
              "#46039f"
             ],
             [
              0.2222222222222222,
              "#7201a8"
             ],
             [
              0.3333333333333333,
              "#9c179e"
             ],
             [
              0.4444444444444444,
              "#bd3786"
             ],
             [
              0.5555555555555556,
              "#d8576b"
             ],
             [
              0.6666666666666666,
              "#ed7953"
             ],
             [
              0.7777777777777778,
              "#fb9f3a"
             ],
             [
              0.8888888888888888,
              "#fdca26"
             ],
             [
              1,
              "#f0f921"
             ]
            ],
            "type": "heatmap"
           }
          ],
          "heatmapgl": [
           {
            "colorbar": {
             "outlinewidth": 0,
             "ticks": ""
            },
            "colorscale": [
             [
              0,
              "#0d0887"
             ],
             [
              0.1111111111111111,
              "#46039f"
             ],
             [
              0.2222222222222222,
              "#7201a8"
             ],
             [
              0.3333333333333333,
              "#9c179e"
             ],
             [
              0.4444444444444444,
              "#bd3786"
             ],
             [
              0.5555555555555556,
              "#d8576b"
             ],
             [
              0.6666666666666666,
              "#ed7953"
             ],
             [
              0.7777777777777778,
              "#fb9f3a"
             ],
             [
              0.8888888888888888,
              "#fdca26"
             ],
             [
              1,
              "#f0f921"
             ]
            ],
            "type": "heatmapgl"
           }
          ],
          "histogram": [
           {
            "marker": {
             "pattern": {
              "fillmode": "overlay",
              "size": 10,
              "solidity": 0.2
             }
            },
            "type": "histogram"
           }
          ],
          "histogram2d": [
           {
            "colorbar": {
             "outlinewidth": 0,
             "ticks": ""
            },
            "colorscale": [
             [
              0,
              "#0d0887"
             ],
             [
              0.1111111111111111,
              "#46039f"
             ],
             [
              0.2222222222222222,
              "#7201a8"
             ],
             [
              0.3333333333333333,
              "#9c179e"
             ],
             [
              0.4444444444444444,
              "#bd3786"
             ],
             [
              0.5555555555555556,
              "#d8576b"
             ],
             [
              0.6666666666666666,
              "#ed7953"
             ],
             [
              0.7777777777777778,
              "#fb9f3a"
             ],
             [
              0.8888888888888888,
              "#fdca26"
             ],
             [
              1,
              "#f0f921"
             ]
            ],
            "type": "histogram2d"
           }
          ],
          "histogram2dcontour": [
           {
            "colorbar": {
             "outlinewidth": 0,
             "ticks": ""
            },
            "colorscale": [
             [
              0,
              "#0d0887"
             ],
             [
              0.1111111111111111,
              "#46039f"
             ],
             [
              0.2222222222222222,
              "#7201a8"
             ],
             [
              0.3333333333333333,
              "#9c179e"
             ],
             [
              0.4444444444444444,
              "#bd3786"
             ],
             [
              0.5555555555555556,
              "#d8576b"
             ],
             [
              0.6666666666666666,
              "#ed7953"
             ],
             [
              0.7777777777777778,
              "#fb9f3a"
             ],
             [
              0.8888888888888888,
              "#fdca26"
             ],
             [
              1,
              "#f0f921"
             ]
            ],
            "type": "histogram2dcontour"
           }
          ],
          "mesh3d": [
           {
            "colorbar": {
             "outlinewidth": 0,
             "ticks": ""
            },
            "type": "mesh3d"
           }
          ],
          "parcoords": [
           {
            "line": {
             "colorbar": {
              "outlinewidth": 0,
              "ticks": ""
             }
            },
            "type": "parcoords"
           }
          ],
          "pie": [
           {
            "automargin": true,
            "type": "pie"
           }
          ],
          "scatter": [
           {
            "fillpattern": {
             "fillmode": "overlay",
             "size": 10,
             "solidity": 0.2
            },
            "type": "scatter"
           }
          ],
          "scatter3d": [
           {
            "line": {
             "colorbar": {
              "outlinewidth": 0,
              "ticks": ""
             }
            },
            "marker": {
             "colorbar": {
              "outlinewidth": 0,
              "ticks": ""
             }
            },
            "type": "scatter3d"
           }
          ],
          "scattercarpet": [
           {
            "marker": {
             "colorbar": {
              "outlinewidth": 0,
              "ticks": ""
             }
            },
            "type": "scattercarpet"
           }
          ],
          "scattergeo": [
           {
            "marker": {
             "colorbar": {
              "outlinewidth": 0,
              "ticks": ""
             }
            },
            "type": "scattergeo"
           }
          ],
          "scattergl": [
           {
            "marker": {
             "colorbar": {
              "outlinewidth": 0,
              "ticks": ""
             }
            },
            "type": "scattergl"
           }
          ],
          "scattermapbox": [
           {
            "marker": {
             "colorbar": {
              "outlinewidth": 0,
              "ticks": ""
             }
            },
            "type": "scattermapbox"
           }
          ],
          "scatterpolar": [
           {
            "marker": {
             "colorbar": {
              "outlinewidth": 0,
              "ticks": ""
             }
            },
            "type": "scatterpolar"
           }
          ],
          "scatterpolargl": [
           {
            "marker": {
             "colorbar": {
              "outlinewidth": 0,
              "ticks": ""
             }
            },
            "type": "scatterpolargl"
           }
          ],
          "scatterternary": [
           {
            "marker": {
             "colorbar": {
              "outlinewidth": 0,
              "ticks": ""
             }
            },
            "type": "scatterternary"
           }
          ],
          "surface": [
           {
            "colorbar": {
             "outlinewidth": 0,
             "ticks": ""
            },
            "colorscale": [
             [
              0,
              "#0d0887"
             ],
             [
              0.1111111111111111,
              "#46039f"
             ],
             [
              0.2222222222222222,
              "#7201a8"
             ],
             [
              0.3333333333333333,
              "#9c179e"
             ],
             [
              0.4444444444444444,
              "#bd3786"
             ],
             [
              0.5555555555555556,
              "#d8576b"
             ],
             [
              0.6666666666666666,
              "#ed7953"
             ],
             [
              0.7777777777777778,
              "#fb9f3a"
             ],
             [
              0.8888888888888888,
              "#fdca26"
             ],
             [
              1,
              "#f0f921"
             ]
            ],
            "type": "surface"
           }
          ],
          "table": [
           {
            "cells": {
             "fill": {
              "color": "#EBF0F8"
             },
             "line": {
              "color": "white"
             }
            },
            "header": {
             "fill": {
              "color": "#C8D4E3"
             },
             "line": {
              "color": "white"
             }
            },
            "type": "table"
           }
          ]
         },
         "layout": {
          "annotationdefaults": {
           "arrowcolor": "#2a3f5f",
           "arrowhead": 0,
           "arrowwidth": 1
          },
          "autotypenumbers": "strict",
          "coloraxis": {
           "colorbar": {
            "outlinewidth": 0,
            "ticks": ""
           }
          },
          "colorscale": {
           "diverging": [
            [
             0,
             "#8e0152"
            ],
            [
             0.1,
             "#c51b7d"
            ],
            [
             0.2,
             "#de77ae"
            ],
            [
             0.3,
             "#f1b6da"
            ],
            [
             0.4,
             "#fde0ef"
            ],
            [
             0.5,
             "#f7f7f7"
            ],
            [
             0.6,
             "#e6f5d0"
            ],
            [
             0.7,
             "#b8e186"
            ],
            [
             0.8,
             "#7fbc41"
            ],
            [
             0.9,
             "#4d9221"
            ],
            [
             1,
             "#276419"
            ]
           ],
           "sequential": [
            [
             0,
             "#0d0887"
            ],
            [
             0.1111111111111111,
             "#46039f"
            ],
            [
             0.2222222222222222,
             "#7201a8"
            ],
            [
             0.3333333333333333,
             "#9c179e"
            ],
            [
             0.4444444444444444,
             "#bd3786"
            ],
            [
             0.5555555555555556,
             "#d8576b"
            ],
            [
             0.6666666666666666,
             "#ed7953"
            ],
            [
             0.7777777777777778,
             "#fb9f3a"
            ],
            [
             0.8888888888888888,
             "#fdca26"
            ],
            [
             1,
             "#f0f921"
            ]
           ],
           "sequentialminus": [
            [
             0,
             "#0d0887"
            ],
            [
             0.1111111111111111,
             "#46039f"
            ],
            [
             0.2222222222222222,
             "#7201a8"
            ],
            [
             0.3333333333333333,
             "#9c179e"
            ],
            [
             0.4444444444444444,
             "#bd3786"
            ],
            [
             0.5555555555555556,
             "#d8576b"
            ],
            [
             0.6666666666666666,
             "#ed7953"
            ],
            [
             0.7777777777777778,
             "#fb9f3a"
            ],
            [
             0.8888888888888888,
             "#fdca26"
            ],
            [
             1,
             "#f0f921"
            ]
           ]
          },
          "colorway": [
           "#636efa",
           "#EF553B",
           "#00cc96",
           "#ab63fa",
           "#FFA15A",
           "#19d3f3",
           "#FF6692",
           "#B6E880",
           "#FF97FF",
           "#FECB52"
          ],
          "font": {
           "color": "#2a3f5f"
          },
          "geo": {
           "bgcolor": "white",
           "lakecolor": "white",
           "landcolor": "#E5ECF6",
           "showlakes": true,
           "showland": true,
           "subunitcolor": "white"
          },
          "hoverlabel": {
           "align": "left"
          },
          "hovermode": "closest",
          "mapbox": {
           "style": "light"
          },
          "paper_bgcolor": "white",
          "plot_bgcolor": "#E5ECF6",
          "polar": {
           "angularaxis": {
            "gridcolor": "white",
            "linecolor": "white",
            "ticks": ""
           },
           "bgcolor": "#E5ECF6",
           "radialaxis": {
            "gridcolor": "white",
            "linecolor": "white",
            "ticks": ""
           }
          },
          "scene": {
           "xaxis": {
            "backgroundcolor": "#E5ECF6",
            "gridcolor": "white",
            "gridwidth": 2,
            "linecolor": "white",
            "showbackground": true,
            "ticks": "",
            "zerolinecolor": "white"
           },
           "yaxis": {
            "backgroundcolor": "#E5ECF6",
            "gridcolor": "white",
            "gridwidth": 2,
            "linecolor": "white",
            "showbackground": true,
            "ticks": "",
            "zerolinecolor": "white"
           },
           "zaxis": {
            "backgroundcolor": "#E5ECF6",
            "gridcolor": "white",
            "gridwidth": 2,
            "linecolor": "white",
            "showbackground": true,
            "ticks": "",
            "zerolinecolor": "white"
           }
          },
          "shapedefaults": {
           "line": {
            "color": "#2a3f5f"
           }
          },
          "ternary": {
           "aaxis": {
            "gridcolor": "white",
            "linecolor": "white",
            "ticks": ""
           },
           "baxis": {
            "gridcolor": "white",
            "linecolor": "white",
            "ticks": ""
           },
           "bgcolor": "#E5ECF6",
           "caxis": {
            "gridcolor": "white",
            "linecolor": "white",
            "ticks": ""
           }
          },
          "title": {
           "x": 0.05
          },
          "xaxis": {
           "automargin": true,
           "gridcolor": "white",
           "linecolor": "white",
           "ticks": "",
           "title": {
            "standoff": 15
           },
           "zerolinecolor": "white",
           "zerolinewidth": 2
          },
          "yaxis": {
           "automargin": true,
           "gridcolor": "white",
           "linecolor": "white",
           "ticks": "",
           "title": {
            "standoff": 15
           },
           "zerolinecolor": "white",
           "zerolinewidth": 2
          }
         }
        },
        "title": {
         "text": "Óbitos novos em Campinas em 2021"
        },
        "width": 400,
        "xaxis": {
         "anchor": "y",
         "domain": [
          0,
          1
         ],
         "title": {
          "text": "obitos_novos"
         }
        },
        "yaxis": {
         "anchor": "x",
         "domain": [
          0,
          1
         ],
         "title": {
          "text": "count"
         }
        }
       }
      }
     },
     "metadata": {},
     "output_type": "display_data"
    }
   ],
   "source": [
    "# \"x\" Representa o eixo X do gráfico, recebe a variável que será analisada\n",
    "# \"nbins\" É a largura das faixas de distribuição de frequência\n",
    "grafico = px.histogram(covid_campinas2021, x=\"obitos_novos\", nbins=30)\n",
    "grafico.update_layout(width=400, height=400, title_text=\"Óbitos novos em Campinas em 2021\")\n",
    "grafico.show()"
   ]
  },
  {
   "cell_type": "code",
   "execution_count": 33,
   "metadata": {},
   "outputs": [
    {
     "data": {
      "application/vnd.plotly.v1+json": {
       "config": {
        "plotlyServerURL": "https://plot.ly"
       },
       "data": [
        {
         "alignmentgroup": "True",
         "bingroup": "x",
         "hovertemplate": "obitos_novos=%{x}<br>count=%{y}<extra></extra>",
         "legendgroup": "",
         "marker": {
          "color": "#636efa",
          "pattern": {
           "shape": ""
          }
         },
         "name": "",
         "nbinsx": 30,
         "offsetgroup": "",
         "orientation": "v",
         "showlegend": false,
         "type": "histogram",
         "x": [
          3,
          0,
          0,
          1,
          11,
          4,
          2,
          3,
          4,
          0,
          1,
          4,
          13,
          9,
          12,
          7,
          0,
          1,
          12,
          4,
          10,
          7,
          13,
          0,
          1,
          9,
          11,
          8,
          4,
          9,
          0,
          1,
          2,
          1,
          27,
          18,
          5,
          0,
          9,
          13,
          5,
          5,
          3,
          2,
          1,
          2,
          18,
          14,
          10,
          13,
          11,
          0,
          0,
          12,
          10,
          7,
          6,
          4,
          0,
          1,
          22,
          18,
          8,
          11,
          6,
          0,
          0,
          11,
          15,
          18,
          16,
          11,
          7,
          0,
          28,
          17,
          40,
          24,
          34,
          6,
          2,
          53,
          11,
          20,
          54,
          25,
          2,
          5,
          46,
          33,
          77,
          26,
          0,
          0,
          3,
          61,
          47,
          46,
          26,
          65,
          13,
          3,
          59,
          53,
          40,
          25,
          34,
          0,
          2,
          48,
          37,
          2,
          44,
          54,
          2,
          3,
          54,
          25,
          25,
          19,
          23,
          0,
          0,
          25,
          45,
          18,
          18,
          16,
          0,
          0,
          20,
          13,
          16,
          25,
          14,
          1,
          0,
          23,
          35,
          26,
          17,
          12,
          0,
          0,
          12,
          23,
          7,
          9,
          5,
          0,
          1,
          44,
          26,
          27,
          0,
          10,
          0,
          2,
          17,
          18,
          19,
          12,
          9,
          1,
          0,
          22,
          17,
          11,
          14,
          15,
          0,
          0,
          22,
          21,
          39,
          49,
          13,
          0,
          1,
          15,
          12,
          6,
          13,
          14,
          1,
          0,
          21,
          6,
          12,
          7,
          0,
          0,
          1,
          23,
          24,
          34,
          17,
          17,
          0,
          22,
          13,
          25,
          12,
          8,
          12,
          0,
          1,
          10,
          23,
          3,
          11,
          5,
          0,
          0,
          10,
          12,
          1,
          3,
          5,
          0,
          0,
          5,
          7,
          1,
          20,
          6,
          1,
          0,
          8,
          4,
          1,
          2,
          0,
          0,
          0,
          3,
          7,
          11,
          4,
          1,
          0,
          0,
          15,
          2,
          5,
          2,
          1,
          0,
          0,
          1,
          0,
          6,
          4,
          1,
          0,
          0,
          2,
          5,
          4,
          0,
          6,
          0,
          0,
          3,
          4,
          1,
          1,
          3
         ],
         "xaxis": "x",
         "yaxis": "y"
        }
       ],
       "layout": {
        "barmode": "relative",
        "height": 400,
        "legend": {
         "tracegroupgap": 0
        },
        "margin": {
         "t": 60
        },
        "template": {
         "data": {
          "bar": [
           {
            "error_x": {
             "color": "#2a3f5f"
            },
            "error_y": {
             "color": "#2a3f5f"
            },
            "marker": {
             "line": {
              "color": "#E5ECF6",
              "width": 0.5
             },
             "pattern": {
              "fillmode": "overlay",
              "size": 10,
              "solidity": 0.2
             }
            },
            "type": "bar"
           }
          ],
          "barpolar": [
           {
            "marker": {
             "line": {
              "color": "#E5ECF6",
              "width": 0.5
             },
             "pattern": {
              "fillmode": "overlay",
              "size": 10,
              "solidity": 0.2
             }
            },
            "type": "barpolar"
           }
          ],
          "carpet": [
           {
            "aaxis": {
             "endlinecolor": "#2a3f5f",
             "gridcolor": "white",
             "linecolor": "white",
             "minorgridcolor": "white",
             "startlinecolor": "#2a3f5f"
            },
            "baxis": {
             "endlinecolor": "#2a3f5f",
             "gridcolor": "white",
             "linecolor": "white",
             "minorgridcolor": "white",
             "startlinecolor": "#2a3f5f"
            },
            "type": "carpet"
           }
          ],
          "choropleth": [
           {
            "colorbar": {
             "outlinewidth": 0,
             "ticks": ""
            },
            "type": "choropleth"
           }
          ],
          "contour": [
           {
            "colorbar": {
             "outlinewidth": 0,
             "ticks": ""
            },
            "colorscale": [
             [
              0,
              "#0d0887"
             ],
             [
              0.1111111111111111,
              "#46039f"
             ],
             [
              0.2222222222222222,
              "#7201a8"
             ],
             [
              0.3333333333333333,
              "#9c179e"
             ],
             [
              0.4444444444444444,
              "#bd3786"
             ],
             [
              0.5555555555555556,
              "#d8576b"
             ],
             [
              0.6666666666666666,
              "#ed7953"
             ],
             [
              0.7777777777777778,
              "#fb9f3a"
             ],
             [
              0.8888888888888888,
              "#fdca26"
             ],
             [
              1,
              "#f0f921"
             ]
            ],
            "type": "contour"
           }
          ],
          "contourcarpet": [
           {
            "colorbar": {
             "outlinewidth": 0,
             "ticks": ""
            },
            "type": "contourcarpet"
           }
          ],
          "heatmap": [
           {
            "colorbar": {
             "outlinewidth": 0,
             "ticks": ""
            },
            "colorscale": [
             [
              0,
              "#0d0887"
             ],
             [
              0.1111111111111111,
              "#46039f"
             ],
             [
              0.2222222222222222,
              "#7201a8"
             ],
             [
              0.3333333333333333,
              "#9c179e"
             ],
             [
              0.4444444444444444,
              "#bd3786"
             ],
             [
              0.5555555555555556,
              "#d8576b"
             ],
             [
              0.6666666666666666,
              "#ed7953"
             ],
             [
              0.7777777777777778,
              "#fb9f3a"
             ],
             [
              0.8888888888888888,
              "#fdca26"
             ],
             [
              1,
              "#f0f921"
             ]
            ],
            "type": "heatmap"
           }
          ],
          "heatmapgl": [
           {
            "colorbar": {
             "outlinewidth": 0,
             "ticks": ""
            },
            "colorscale": [
             [
              0,
              "#0d0887"
             ],
             [
              0.1111111111111111,
              "#46039f"
             ],
             [
              0.2222222222222222,
              "#7201a8"
             ],
             [
              0.3333333333333333,
              "#9c179e"
             ],
             [
              0.4444444444444444,
              "#bd3786"
             ],
             [
              0.5555555555555556,
              "#d8576b"
             ],
             [
              0.6666666666666666,
              "#ed7953"
             ],
             [
              0.7777777777777778,
              "#fb9f3a"
             ],
             [
              0.8888888888888888,
              "#fdca26"
             ],
             [
              1,
              "#f0f921"
             ]
            ],
            "type": "heatmapgl"
           }
          ],
          "histogram": [
           {
            "marker": {
             "pattern": {
              "fillmode": "overlay",
              "size": 10,
              "solidity": 0.2
             }
            },
            "type": "histogram"
           }
          ],
          "histogram2d": [
           {
            "colorbar": {
             "outlinewidth": 0,
             "ticks": ""
            },
            "colorscale": [
             [
              0,
              "#0d0887"
             ],
             [
              0.1111111111111111,
              "#46039f"
             ],
             [
              0.2222222222222222,
              "#7201a8"
             ],
             [
              0.3333333333333333,
              "#9c179e"
             ],
             [
              0.4444444444444444,
              "#bd3786"
             ],
             [
              0.5555555555555556,
              "#d8576b"
             ],
             [
              0.6666666666666666,
              "#ed7953"
             ],
             [
              0.7777777777777778,
              "#fb9f3a"
             ],
             [
              0.8888888888888888,
              "#fdca26"
             ],
             [
              1,
              "#f0f921"
             ]
            ],
            "type": "histogram2d"
           }
          ],
          "histogram2dcontour": [
           {
            "colorbar": {
             "outlinewidth": 0,
             "ticks": ""
            },
            "colorscale": [
             [
              0,
              "#0d0887"
             ],
             [
              0.1111111111111111,
              "#46039f"
             ],
             [
              0.2222222222222222,
              "#7201a8"
             ],
             [
              0.3333333333333333,
              "#9c179e"
             ],
             [
              0.4444444444444444,
              "#bd3786"
             ],
             [
              0.5555555555555556,
              "#d8576b"
             ],
             [
              0.6666666666666666,
              "#ed7953"
             ],
             [
              0.7777777777777778,
              "#fb9f3a"
             ],
             [
              0.8888888888888888,
              "#fdca26"
             ],
             [
              1,
              "#f0f921"
             ]
            ],
            "type": "histogram2dcontour"
           }
          ],
          "mesh3d": [
           {
            "colorbar": {
             "outlinewidth": 0,
             "ticks": ""
            },
            "type": "mesh3d"
           }
          ],
          "parcoords": [
           {
            "line": {
             "colorbar": {
              "outlinewidth": 0,
              "ticks": ""
             }
            },
            "type": "parcoords"
           }
          ],
          "pie": [
           {
            "automargin": true,
            "type": "pie"
           }
          ],
          "scatter": [
           {
            "fillpattern": {
             "fillmode": "overlay",
             "size": 10,
             "solidity": 0.2
            },
            "type": "scatter"
           }
          ],
          "scatter3d": [
           {
            "line": {
             "colorbar": {
              "outlinewidth": 0,
              "ticks": ""
             }
            },
            "marker": {
             "colorbar": {
              "outlinewidth": 0,
              "ticks": ""
             }
            },
            "type": "scatter3d"
           }
          ],
          "scattercarpet": [
           {
            "marker": {
             "colorbar": {
              "outlinewidth": 0,
              "ticks": ""
             }
            },
            "type": "scattercarpet"
           }
          ],
          "scattergeo": [
           {
            "marker": {
             "colorbar": {
              "outlinewidth": 0,
              "ticks": ""
             }
            },
            "type": "scattergeo"
           }
          ],
          "scattergl": [
           {
            "marker": {
             "colorbar": {
              "outlinewidth": 0,
              "ticks": ""
             }
            },
            "type": "scattergl"
           }
          ],
          "scattermapbox": [
           {
            "marker": {
             "colorbar": {
              "outlinewidth": 0,
              "ticks": ""
             }
            },
            "type": "scattermapbox"
           }
          ],
          "scatterpolar": [
           {
            "marker": {
             "colorbar": {
              "outlinewidth": 0,
              "ticks": ""
             }
            },
            "type": "scatterpolar"
           }
          ],
          "scatterpolargl": [
           {
            "marker": {
             "colorbar": {
              "outlinewidth": 0,
              "ticks": ""
             }
            },
            "type": "scatterpolargl"
           }
          ],
          "scatterternary": [
           {
            "marker": {
             "colorbar": {
              "outlinewidth": 0,
              "ticks": ""
             }
            },
            "type": "scatterternary"
           }
          ],
          "surface": [
           {
            "colorbar": {
             "outlinewidth": 0,
             "ticks": ""
            },
            "colorscale": [
             [
              0,
              "#0d0887"
             ],
             [
              0.1111111111111111,
              "#46039f"
             ],
             [
              0.2222222222222222,
              "#7201a8"
             ],
             [
              0.3333333333333333,
              "#9c179e"
             ],
             [
              0.4444444444444444,
              "#bd3786"
             ],
             [
              0.5555555555555556,
              "#d8576b"
             ],
             [
              0.6666666666666666,
              "#ed7953"
             ],
             [
              0.7777777777777778,
              "#fb9f3a"
             ],
             [
              0.8888888888888888,
              "#fdca26"
             ],
             [
              1,
              "#f0f921"
             ]
            ],
            "type": "surface"
           }
          ],
          "table": [
           {
            "cells": {
             "fill": {
              "color": "#EBF0F8"
             },
             "line": {
              "color": "white"
             }
            },
            "header": {
             "fill": {
              "color": "#C8D4E3"
             },
             "line": {
              "color": "white"
             }
            },
            "type": "table"
           }
          ]
         },
         "layout": {
          "annotationdefaults": {
           "arrowcolor": "#2a3f5f",
           "arrowhead": 0,
           "arrowwidth": 1
          },
          "autotypenumbers": "strict",
          "coloraxis": {
           "colorbar": {
            "outlinewidth": 0,
            "ticks": ""
           }
          },
          "colorscale": {
           "diverging": [
            [
             0,
             "#8e0152"
            ],
            [
             0.1,
             "#c51b7d"
            ],
            [
             0.2,
             "#de77ae"
            ],
            [
             0.3,
             "#f1b6da"
            ],
            [
             0.4,
             "#fde0ef"
            ],
            [
             0.5,
             "#f7f7f7"
            ],
            [
             0.6,
             "#e6f5d0"
            ],
            [
             0.7,
             "#b8e186"
            ],
            [
             0.8,
             "#7fbc41"
            ],
            [
             0.9,
             "#4d9221"
            ],
            [
             1,
             "#276419"
            ]
           ],
           "sequential": [
            [
             0,
             "#0d0887"
            ],
            [
             0.1111111111111111,
             "#46039f"
            ],
            [
             0.2222222222222222,
             "#7201a8"
            ],
            [
             0.3333333333333333,
             "#9c179e"
            ],
            [
             0.4444444444444444,
             "#bd3786"
            ],
            [
             0.5555555555555556,
             "#d8576b"
            ],
            [
             0.6666666666666666,
             "#ed7953"
            ],
            [
             0.7777777777777778,
             "#fb9f3a"
            ],
            [
             0.8888888888888888,
             "#fdca26"
            ],
            [
             1,
             "#f0f921"
            ]
           ],
           "sequentialminus": [
            [
             0,
             "#0d0887"
            ],
            [
             0.1111111111111111,
             "#46039f"
            ],
            [
             0.2222222222222222,
             "#7201a8"
            ],
            [
             0.3333333333333333,
             "#9c179e"
            ],
            [
             0.4444444444444444,
             "#bd3786"
            ],
            [
             0.5555555555555556,
             "#d8576b"
            ],
            [
             0.6666666666666666,
             "#ed7953"
            ],
            [
             0.7777777777777778,
             "#fb9f3a"
            ],
            [
             0.8888888888888888,
             "#fdca26"
            ],
            [
             1,
             "#f0f921"
            ]
           ]
          },
          "colorway": [
           "#636efa",
           "#EF553B",
           "#00cc96",
           "#ab63fa",
           "#FFA15A",
           "#19d3f3",
           "#FF6692",
           "#B6E880",
           "#FF97FF",
           "#FECB52"
          ],
          "font": {
           "color": "#2a3f5f"
          },
          "geo": {
           "bgcolor": "white",
           "lakecolor": "white",
           "landcolor": "#E5ECF6",
           "showlakes": true,
           "showland": true,
           "subunitcolor": "white"
          },
          "hoverlabel": {
           "align": "left"
          },
          "hovermode": "closest",
          "mapbox": {
           "style": "light"
          },
          "paper_bgcolor": "white",
          "plot_bgcolor": "#E5ECF6",
          "polar": {
           "angularaxis": {
            "gridcolor": "white",
            "linecolor": "white",
            "ticks": ""
           },
           "bgcolor": "#E5ECF6",
           "radialaxis": {
            "gridcolor": "white",
            "linecolor": "white",
            "ticks": ""
           }
          },
          "scene": {
           "xaxis": {
            "backgroundcolor": "#E5ECF6",
            "gridcolor": "white",
            "gridwidth": 2,
            "linecolor": "white",
            "showbackground": true,
            "ticks": "",
            "zerolinecolor": "white"
           },
           "yaxis": {
            "backgroundcolor": "#E5ECF6",
            "gridcolor": "white",
            "gridwidth": 2,
            "linecolor": "white",
            "showbackground": true,
            "ticks": "",
            "zerolinecolor": "white"
           },
           "zaxis": {
            "backgroundcolor": "#E5ECF6",
            "gridcolor": "white",
            "gridwidth": 2,
            "linecolor": "white",
            "showbackground": true,
            "ticks": "",
            "zerolinecolor": "white"
           }
          },
          "shapedefaults": {
           "line": {
            "color": "#2a3f5f"
           }
          },
          "ternary": {
           "aaxis": {
            "gridcolor": "white",
            "linecolor": "white",
            "ticks": ""
           },
           "baxis": {
            "gridcolor": "white",
            "linecolor": "white",
            "ticks": ""
           },
           "bgcolor": "#E5ECF6",
           "caxis": {
            "gridcolor": "white",
            "linecolor": "white",
            "ticks": ""
           }
          },
          "title": {
           "x": 0.05
          },
          "xaxis": {
           "automargin": true,
           "gridcolor": "white",
           "linecolor": "white",
           "ticks": "",
           "title": {
            "standoff": 15
           },
           "zerolinecolor": "white",
           "zerolinewidth": 2
          },
          "yaxis": {
           "automargin": true,
           "gridcolor": "white",
           "linecolor": "white",
           "ticks": "",
           "title": {
            "standoff": 15
           },
           "zerolinecolor": "white",
           "zerolinewidth": 2
          }
         }
        },
        "title": {
         "text": "Óbitos novos em Guarulhos em 2021"
        },
        "width": 400,
        "xaxis": {
         "anchor": "y",
         "domain": [
          0,
          1
         ],
         "title": {
          "text": "obitos_novos"
         }
        },
        "yaxis": {
         "anchor": "x",
         "domain": [
          0,
          1
         ],
         "title": {
          "text": "count"
         }
        }
       }
      }
     },
     "metadata": {},
     "output_type": "display_data"
    }
   ],
   "source": [
    "grafico = px.histogram(covid_guarulhos2021, x=\"obitos_novos\", nbins=30)\n",
    "grafico.update_layout(width=400, height=400, title_text=\"Óbitos novos em Guarulhos em 2021\")\n",
    "grafico.show()"
   ]
  },
  {
   "cell_type": "markdown",
   "metadata": {},
   "source": [
    "### Medidas de Posição"
   ]
  },
  {
   "cell_type": "code",
   "execution_count": 34,
   "metadata": {},
   "outputs": [
    {
     "name": "stdout",
     "output_type": "stream",
     "text": [
      "Mínimo de casos em Campinas:  0\n",
      "Mínimo de casos em Guarulhos:  0\n"
     ]
    }
   ],
   "source": [
    "# Mínimo de casos\n",
    "print(\"Mínimo de casos em Campinas:  \" + str(covid_campinas[\"casos_novos\"].min()))\n",
    "print(\"Mínimo de casos em Guarulhos:  \" + str(covid_guarulhos[\"casos_novos\"].min()))"
   ]
  },
  {
   "cell_type": "code",
   "execution_count": 35,
   "metadata": {},
   "outputs": [
    {
     "name": "stdout",
     "output_type": "stream",
     "text": [
      "Máximo de casos em Campinas:  1080\n",
      "Máximo de casos em Guarulhos:  698\n"
     ]
    }
   ],
   "source": [
    "# Máximo de casos\n",
    "print(\"Máximo de casos em Campinas:  \" + str(covid_campinas[\"casos_novos\"].max()))\n",
    "print(\"Máximo de casos em Guarulhos:  \" + str(covid_guarulhos[\"casos_novos\"].max()))"
   ]
  },
  {
   "cell_type": "code",
   "execution_count": 36,
   "metadata": {},
   "outputs": [
    {
     "name": "stdout",
     "output_type": "stream",
     "text": [
      "Mínimo de óbitos em Campinas:  0\n",
      "Mínimo de óbitos em Guarulhos:  0\n"
     ]
    }
   ],
   "source": [
    "# Mínimo de óbitos\n",
    "print(\"Mínimo de óbitos em Campinas:  \" + str(covid_campinas[\"obitos_novos\"].min()))\n",
    "print(\"Mínimo de óbitos em Guarulhos:  \" + str(covid_guarulhos[\"obitos_novos\"].min()))"
   ]
  },
  {
   "cell_type": "code",
   "execution_count": 37,
   "metadata": {},
   "outputs": [
    {
     "name": "stdout",
     "output_type": "stream",
     "text": [
      "Máximo de óbitos em Campinas:  67\n",
      "Máximo de óbitos em Guarulhos:  77\n"
     ]
    }
   ],
   "source": [
    "# Máximo de óbitos\n",
    "print(\"Máximo de óbitos em Campinas:  \" + str(covid_campinas[\"obitos_novos\"].max()))\n",
    "print(\"Máximo de óbitos em Guarulhos:  \" + str(covid_guarulhos[\"obitos_novos\"].max()))"
   ]
  },
  {
   "cell_type": "code",
   "execution_count": 38,
   "metadata": {},
   "outputs": [
    {
     "data": {
      "text/plain": [
       "39.0"
      ]
     },
     "execution_count": 38,
     "metadata": {},
     "output_type": "execute_result"
    }
   ],
   "source": [
    "# Primeiro quartil\n",
    "covid_campinas[\"casos_novos\"].quantile(q=0.25)"
   ]
  },
  {
   "cell_type": "code",
   "execution_count": 39,
   "metadata": {},
   "outputs": [
    {
     "data": {
      "text/plain": [
       "148.0"
      ]
     },
     "execution_count": 39,
     "metadata": {},
     "output_type": "execute_result"
    }
   ],
   "source": [
    "covid_campinas[\"casos_novos\"].quantile(q=0.5)"
   ]
  },
  {
   "cell_type": "code",
   "execution_count": 40,
   "metadata": {},
   "outputs": [
    {
     "data": {
      "text/plain": [
       "326.0"
      ]
     },
     "execution_count": 40,
     "metadata": {},
     "output_type": "execute_result"
    }
   ],
   "source": [
    "covid_campinas[\"casos_novos\"].quantile(q=0.75)"
   ]
  },
  {
   "cell_type": "code",
   "execution_count": 41,
   "metadata": {},
   "outputs": [
    {
     "data": {
      "text/plain": [
       "625.98"
      ]
     },
     "execution_count": 41,
     "metadata": {},
     "output_type": "execute_result"
    }
   ],
   "source": [
    "round(covid_campinas[\"casos_novos\"].quantile(q=0.99),2)"
   ]
  },
  {
   "cell_type": "markdown",
   "metadata": {},
   "source": [
    "### Gráfico BoxPlot e Outliers"
   ]
  },
  {
   "cell_type": "code",
   "execution_count": 42,
   "metadata": {},
   "outputs": [],
   "source": [
    "import plotly.express as px"
   ]
  },
  {
   "cell_type": "markdown",
   "metadata": {},
   "source": [
    "##### Campinas"
   ]
  },
  {
   "cell_type": "code",
   "execution_count": 43,
   "metadata": {},
   "outputs": [
    {
     "data": {
      "application/vnd.plotly.v1+json": {
       "config": {
        "plotlyServerURL": "https://plot.ly"
       },
       "data": [
        {
         "alignmentgroup": "True",
         "hovertemplate": "casos_novos=%{y}<extra></extra>",
         "legendgroup": "",
         "marker": {
          "color": "#636efa"
         },
         "name": "",
         "notched": false,
         "offsetgroup": "",
         "orientation": "v",
         "showlegend": false,
         "type": "box",
         "x0": " ",
         "xaxis": "x",
         "y": [
          0,
          0,
          0,
          0,
          0,
          0,
          0,
          0,
          0,
          0,
          0,
          0,
          0,
          0,
          0,
          0,
          0,
          0,
          0,
          0,
          0,
          0,
          1,
          0,
          0,
          0,
          0,
          0,
          0,
          3,
          0,
          1,
          0,
          0,
          6,
          4,
          7,
          1,
          1,
          2,
          0,
          2,
          22,
          22,
          11,
          17,
          0,
          6,
          1,
          5,
          30,
          7,
          15,
          20,
          0,
          8,
          7,
          3,
          9,
          18,
          27,
          6,
          17,
          41,
          24,
          25,
          3,
          8,
          22,
          1,
          27,
          32,
          33,
          32,
          68,
          14,
          6,
          28,
          87,
          39,
          71,
          106,
          41,
          19,
          67,
          59,
          60,
          55,
          59,
          29,
          47,
          33,
          39,
          66,
          107,
          106,
          20,
          69,
          106,
          171,
          148,
          167,
          190,
          113,
          35,
          162,
          207,
          170,
          199,
          192,
          170,
          32,
          373,
          45,
          28,
          797,
          190,
          142,
          179,
          252,
          434,
          280,
          340,
          330,
          352,
          117,
          277,
          404,
          349,
          278,
          79,
          303,
          191,
          430,
          406,
          316,
          303,
          288,
          146,
          138,
          314,
          292,
          300,
          200,
          127,
          84,
          245,
          153,
          701,
          475,
          624,
          510,
          133,
          172,
          482,
          483,
          355,
          441,
          291,
          356,
          179,
          449,
          361,
          414,
          357,
          450,
          157,
          133,
          524,
          579,
          660,
          370,
          509,
          89,
          205,
          223,
          208,
          450,
          137,
          405,
          184,
          85,
          488,
          223,
          258,
          267,
          170,
          79,
          11,
          205,
          383,
          400,
          161,
          294,
          79,
          39,
          60,
          108,
          237,
          198,
          97,
          17,
          75,
          216,
          210,
          183,
          141,
          161,
          138,
          11,
          119,
          124,
          136,
          108,
          202,
          12,
          21,
          108,
          121,
          75,
          86,
          94,
          3,
          32,
          122,
          154,
          131,
          107,
          118,
          60,
          7,
          22,
          114,
          128,
          128,
          93,
          6,
          4,
          174,
          107,
          68,
          83,
          126,
          42,
          11,
          136,
          141,
          73,
          100,
          36,
          10,
          11,
          5,
          116,
          73,
          0,
          0,
          0,
          0,
          426,
          47,
          90,
          113,
          88,
          7,
          13,
          196,
          213,
          138,
          182,
          215,
          65,
          12,
          123,
          218,
          126,
          116,
          124,
          27,
          23,
          366,
          334,
          328,
          270,
          212,
          45,
          2,
          287,
          114,
          419,
          228,
          204,
          3,
          27,
          197,
          0,
          420,
          386,
          359,
          0,
          106,
          395,
          252,
          353,
          23,
          16,
          28,
          53,
          569,
          396,
          283,
          92,
          6,
          53,
          42,
          432,
          394,
          393,
          333,
          447,
          69,
          77,
          417,
          341,
          376,
          376,
          339,
          134,
          36,
          455,
          517,
          285,
          193,
          460,
          148,
          69,
          478,
          498,
          307,
          299,
          271,
          48,
          78,
          267,
          196,
          389,
          330,
          336,
          98,
          26,
          320,
          352,
          259,
          353,
          236,
          77,
          59,
          278,
          316,
          300,
          246,
          218,
          143,
          69,
          328,
          348,
          188,
          297,
          265,
          83,
          29,
          316,
          390,
          241,
          278,
          403,
          81,
          36,
          452,
          367,
          347,
          309,
          478,
          176,
          37,
          382,
          434,
          380,
          319,
          423,
          212,
          59,
          409,
          487,
          364,
          394,
          432,
          210,
          89,
          496,
          416,
          503,
          277,
          88,
          75,
          63,
          520,
          377,
          388,
          407,
          384,
          95,
          140,
          454,
          396,
          506,
          360,
          406,
          52,
          45,
          412,
          457,
          135,
          523,
          449,
          89,
          35,
          618,
          276,
          303,
          313,
          319,
          44,
          24,
          433,
          443,
          305,
          414,
          277,
          45,
          20,
          302,
          185,
          186,
          327,
          530,
          38,
          33,
          448,
          311,
          336,
          256,
          569,
          192,
          76,
          387,
          221,
          242,
          24,
          282,
          85,
          40,
          432,
          446,
          286,
          75,
          285,
          45,
          71,
          218,
          69,
          518,
          425,
          417,
          105,
          78,
          634,
          504,
          379,
          633,
          583,
          153,
          142,
          541,
          507,
          476,
          481,
          521,
          168,
          63,
          550,
          222,
          395,
          588,
          413,
          57,
          77,
          527,
          365,
          306,
          408,
          108,
          64,
          65,
          239,
          408,
          278,
          404,
          581,
          57,
          37,
          102,
          451,
          407,
          380,
          261,
          56,
          38,
          335,
          526,
          298,
          239,
          309,
          63,
          57,
          480,
          515,
          258,
          214,
          272,
          70,
          43,
          335,
          253,
          325,
          299,
          300,
          191,
          14,
          272,
          181,
          241,
          204,
          195,
          153,
          23,
          282,
          180,
          228,
          407,
          193,
          70,
          38,
          230,
          181,
          234,
          232,
          281,
          120,
          60,
          164,
          133,
          41,
          22,
          19,
          18,
          5,
          5,
          4,
          5,
          1080,
          26,
          27,
          0,
          207,
          132,
          121,
          28,
          68
         ],
         "y0": " ",
         "yaxis": "y"
        }
       ],
       "layout": {
        "boxmode": "group",
        "legend": {
         "tracegroupgap": 0
        },
        "margin": {
         "t": 60
        },
        "template": {
         "data": {
          "bar": [
           {
            "error_x": {
             "color": "#2a3f5f"
            },
            "error_y": {
             "color": "#2a3f5f"
            },
            "marker": {
             "line": {
              "color": "#E5ECF6",
              "width": 0.5
             },
             "pattern": {
              "fillmode": "overlay",
              "size": 10,
              "solidity": 0.2
             }
            },
            "type": "bar"
           }
          ],
          "barpolar": [
           {
            "marker": {
             "line": {
              "color": "#E5ECF6",
              "width": 0.5
             },
             "pattern": {
              "fillmode": "overlay",
              "size": 10,
              "solidity": 0.2
             }
            },
            "type": "barpolar"
           }
          ],
          "carpet": [
           {
            "aaxis": {
             "endlinecolor": "#2a3f5f",
             "gridcolor": "white",
             "linecolor": "white",
             "minorgridcolor": "white",
             "startlinecolor": "#2a3f5f"
            },
            "baxis": {
             "endlinecolor": "#2a3f5f",
             "gridcolor": "white",
             "linecolor": "white",
             "minorgridcolor": "white",
             "startlinecolor": "#2a3f5f"
            },
            "type": "carpet"
           }
          ],
          "choropleth": [
           {
            "colorbar": {
             "outlinewidth": 0,
             "ticks": ""
            },
            "type": "choropleth"
           }
          ],
          "contour": [
           {
            "colorbar": {
             "outlinewidth": 0,
             "ticks": ""
            },
            "colorscale": [
             [
              0,
              "#0d0887"
             ],
             [
              0.1111111111111111,
              "#46039f"
             ],
             [
              0.2222222222222222,
              "#7201a8"
             ],
             [
              0.3333333333333333,
              "#9c179e"
             ],
             [
              0.4444444444444444,
              "#bd3786"
             ],
             [
              0.5555555555555556,
              "#d8576b"
             ],
             [
              0.6666666666666666,
              "#ed7953"
             ],
             [
              0.7777777777777778,
              "#fb9f3a"
             ],
             [
              0.8888888888888888,
              "#fdca26"
             ],
             [
              1,
              "#f0f921"
             ]
            ],
            "type": "contour"
           }
          ],
          "contourcarpet": [
           {
            "colorbar": {
             "outlinewidth": 0,
             "ticks": ""
            },
            "type": "contourcarpet"
           }
          ],
          "heatmap": [
           {
            "colorbar": {
             "outlinewidth": 0,
             "ticks": ""
            },
            "colorscale": [
             [
              0,
              "#0d0887"
             ],
             [
              0.1111111111111111,
              "#46039f"
             ],
             [
              0.2222222222222222,
              "#7201a8"
             ],
             [
              0.3333333333333333,
              "#9c179e"
             ],
             [
              0.4444444444444444,
              "#bd3786"
             ],
             [
              0.5555555555555556,
              "#d8576b"
             ],
             [
              0.6666666666666666,
              "#ed7953"
             ],
             [
              0.7777777777777778,
              "#fb9f3a"
             ],
             [
              0.8888888888888888,
              "#fdca26"
             ],
             [
              1,
              "#f0f921"
             ]
            ],
            "type": "heatmap"
           }
          ],
          "heatmapgl": [
           {
            "colorbar": {
             "outlinewidth": 0,
             "ticks": ""
            },
            "colorscale": [
             [
              0,
              "#0d0887"
             ],
             [
              0.1111111111111111,
              "#46039f"
             ],
             [
              0.2222222222222222,
              "#7201a8"
             ],
             [
              0.3333333333333333,
              "#9c179e"
             ],
             [
              0.4444444444444444,
              "#bd3786"
             ],
             [
              0.5555555555555556,
              "#d8576b"
             ],
             [
              0.6666666666666666,
              "#ed7953"
             ],
             [
              0.7777777777777778,
              "#fb9f3a"
             ],
             [
              0.8888888888888888,
              "#fdca26"
             ],
             [
              1,
              "#f0f921"
             ]
            ],
            "type": "heatmapgl"
           }
          ],
          "histogram": [
           {
            "marker": {
             "pattern": {
              "fillmode": "overlay",
              "size": 10,
              "solidity": 0.2
             }
            },
            "type": "histogram"
           }
          ],
          "histogram2d": [
           {
            "colorbar": {
             "outlinewidth": 0,
             "ticks": ""
            },
            "colorscale": [
             [
              0,
              "#0d0887"
             ],
             [
              0.1111111111111111,
              "#46039f"
             ],
             [
              0.2222222222222222,
              "#7201a8"
             ],
             [
              0.3333333333333333,
              "#9c179e"
             ],
             [
              0.4444444444444444,
              "#bd3786"
             ],
             [
              0.5555555555555556,
              "#d8576b"
             ],
             [
              0.6666666666666666,
              "#ed7953"
             ],
             [
              0.7777777777777778,
              "#fb9f3a"
             ],
             [
              0.8888888888888888,
              "#fdca26"
             ],
             [
              1,
              "#f0f921"
             ]
            ],
            "type": "histogram2d"
           }
          ],
          "histogram2dcontour": [
           {
            "colorbar": {
             "outlinewidth": 0,
             "ticks": ""
            },
            "colorscale": [
             [
              0,
              "#0d0887"
             ],
             [
              0.1111111111111111,
              "#46039f"
             ],
             [
              0.2222222222222222,
              "#7201a8"
             ],
             [
              0.3333333333333333,
              "#9c179e"
             ],
             [
              0.4444444444444444,
              "#bd3786"
             ],
             [
              0.5555555555555556,
              "#d8576b"
             ],
             [
              0.6666666666666666,
              "#ed7953"
             ],
             [
              0.7777777777777778,
              "#fb9f3a"
             ],
             [
              0.8888888888888888,
              "#fdca26"
             ],
             [
              1,
              "#f0f921"
             ]
            ],
            "type": "histogram2dcontour"
           }
          ],
          "mesh3d": [
           {
            "colorbar": {
             "outlinewidth": 0,
             "ticks": ""
            },
            "type": "mesh3d"
           }
          ],
          "parcoords": [
           {
            "line": {
             "colorbar": {
              "outlinewidth": 0,
              "ticks": ""
             }
            },
            "type": "parcoords"
           }
          ],
          "pie": [
           {
            "automargin": true,
            "type": "pie"
           }
          ],
          "scatter": [
           {
            "fillpattern": {
             "fillmode": "overlay",
             "size": 10,
             "solidity": 0.2
            },
            "type": "scatter"
           }
          ],
          "scatter3d": [
           {
            "line": {
             "colorbar": {
              "outlinewidth": 0,
              "ticks": ""
             }
            },
            "marker": {
             "colorbar": {
              "outlinewidth": 0,
              "ticks": ""
             }
            },
            "type": "scatter3d"
           }
          ],
          "scattercarpet": [
           {
            "marker": {
             "colorbar": {
              "outlinewidth": 0,
              "ticks": ""
             }
            },
            "type": "scattercarpet"
           }
          ],
          "scattergeo": [
           {
            "marker": {
             "colorbar": {
              "outlinewidth": 0,
              "ticks": ""
             }
            },
            "type": "scattergeo"
           }
          ],
          "scattergl": [
           {
            "marker": {
             "colorbar": {
              "outlinewidth": 0,
              "ticks": ""
             }
            },
            "type": "scattergl"
           }
          ],
          "scattermapbox": [
           {
            "marker": {
             "colorbar": {
              "outlinewidth": 0,
              "ticks": ""
             }
            },
            "type": "scattermapbox"
           }
          ],
          "scatterpolar": [
           {
            "marker": {
             "colorbar": {
              "outlinewidth": 0,
              "ticks": ""
             }
            },
            "type": "scatterpolar"
           }
          ],
          "scatterpolargl": [
           {
            "marker": {
             "colorbar": {
              "outlinewidth": 0,
              "ticks": ""
             }
            },
            "type": "scatterpolargl"
           }
          ],
          "scatterternary": [
           {
            "marker": {
             "colorbar": {
              "outlinewidth": 0,
              "ticks": ""
             }
            },
            "type": "scatterternary"
           }
          ],
          "surface": [
           {
            "colorbar": {
             "outlinewidth": 0,
             "ticks": ""
            },
            "colorscale": [
             [
              0,
              "#0d0887"
             ],
             [
              0.1111111111111111,
              "#46039f"
             ],
             [
              0.2222222222222222,
              "#7201a8"
             ],
             [
              0.3333333333333333,
              "#9c179e"
             ],
             [
              0.4444444444444444,
              "#bd3786"
             ],
             [
              0.5555555555555556,
              "#d8576b"
             ],
             [
              0.6666666666666666,
              "#ed7953"
             ],
             [
              0.7777777777777778,
              "#fb9f3a"
             ],
             [
              0.8888888888888888,
              "#fdca26"
             ],
             [
              1,
              "#f0f921"
             ]
            ],
            "type": "surface"
           }
          ],
          "table": [
           {
            "cells": {
             "fill": {
              "color": "#EBF0F8"
             },
             "line": {
              "color": "white"
             }
            },
            "header": {
             "fill": {
              "color": "#C8D4E3"
             },
             "line": {
              "color": "white"
             }
            },
            "type": "table"
           }
          ]
         },
         "layout": {
          "annotationdefaults": {
           "arrowcolor": "#2a3f5f",
           "arrowhead": 0,
           "arrowwidth": 1
          },
          "autotypenumbers": "strict",
          "coloraxis": {
           "colorbar": {
            "outlinewidth": 0,
            "ticks": ""
           }
          },
          "colorscale": {
           "diverging": [
            [
             0,
             "#8e0152"
            ],
            [
             0.1,
             "#c51b7d"
            ],
            [
             0.2,
             "#de77ae"
            ],
            [
             0.3,
             "#f1b6da"
            ],
            [
             0.4,
             "#fde0ef"
            ],
            [
             0.5,
             "#f7f7f7"
            ],
            [
             0.6,
             "#e6f5d0"
            ],
            [
             0.7,
             "#b8e186"
            ],
            [
             0.8,
             "#7fbc41"
            ],
            [
             0.9,
             "#4d9221"
            ],
            [
             1,
             "#276419"
            ]
           ],
           "sequential": [
            [
             0,
             "#0d0887"
            ],
            [
             0.1111111111111111,
             "#46039f"
            ],
            [
             0.2222222222222222,
             "#7201a8"
            ],
            [
             0.3333333333333333,
             "#9c179e"
            ],
            [
             0.4444444444444444,
             "#bd3786"
            ],
            [
             0.5555555555555556,
             "#d8576b"
            ],
            [
             0.6666666666666666,
             "#ed7953"
            ],
            [
             0.7777777777777778,
             "#fb9f3a"
            ],
            [
             0.8888888888888888,
             "#fdca26"
            ],
            [
             1,
             "#f0f921"
            ]
           ],
           "sequentialminus": [
            [
             0,
             "#0d0887"
            ],
            [
             0.1111111111111111,
             "#46039f"
            ],
            [
             0.2222222222222222,
             "#7201a8"
            ],
            [
             0.3333333333333333,
             "#9c179e"
            ],
            [
             0.4444444444444444,
             "#bd3786"
            ],
            [
             0.5555555555555556,
             "#d8576b"
            ],
            [
             0.6666666666666666,
             "#ed7953"
            ],
            [
             0.7777777777777778,
             "#fb9f3a"
            ],
            [
             0.8888888888888888,
             "#fdca26"
            ],
            [
             1,
             "#f0f921"
            ]
           ]
          },
          "colorway": [
           "#636efa",
           "#EF553B",
           "#00cc96",
           "#ab63fa",
           "#FFA15A",
           "#19d3f3",
           "#FF6692",
           "#B6E880",
           "#FF97FF",
           "#FECB52"
          ],
          "font": {
           "color": "#2a3f5f"
          },
          "geo": {
           "bgcolor": "white",
           "lakecolor": "white",
           "landcolor": "#E5ECF6",
           "showlakes": true,
           "showland": true,
           "subunitcolor": "white"
          },
          "hoverlabel": {
           "align": "left"
          },
          "hovermode": "closest",
          "mapbox": {
           "style": "light"
          },
          "paper_bgcolor": "white",
          "plot_bgcolor": "#E5ECF6",
          "polar": {
           "angularaxis": {
            "gridcolor": "white",
            "linecolor": "white",
            "ticks": ""
           },
           "bgcolor": "#E5ECF6",
           "radialaxis": {
            "gridcolor": "white",
            "linecolor": "white",
            "ticks": ""
           }
          },
          "scene": {
           "xaxis": {
            "backgroundcolor": "#E5ECF6",
            "gridcolor": "white",
            "gridwidth": 2,
            "linecolor": "white",
            "showbackground": true,
            "ticks": "",
            "zerolinecolor": "white"
           },
           "yaxis": {
            "backgroundcolor": "#E5ECF6",
            "gridcolor": "white",
            "gridwidth": 2,
            "linecolor": "white",
            "showbackground": true,
            "ticks": "",
            "zerolinecolor": "white"
           },
           "zaxis": {
            "backgroundcolor": "#E5ECF6",
            "gridcolor": "white",
            "gridwidth": 2,
            "linecolor": "white",
            "showbackground": true,
            "ticks": "",
            "zerolinecolor": "white"
           }
          },
          "shapedefaults": {
           "line": {
            "color": "#2a3f5f"
           }
          },
          "ternary": {
           "aaxis": {
            "gridcolor": "white",
            "linecolor": "white",
            "ticks": ""
           },
           "baxis": {
            "gridcolor": "white",
            "linecolor": "white",
            "ticks": ""
           },
           "bgcolor": "#E5ECF6",
           "caxis": {
            "gridcolor": "white",
            "linecolor": "white",
            "ticks": ""
           }
          },
          "title": {
           "x": 0.05
          },
          "xaxis": {
           "automargin": true,
           "gridcolor": "white",
           "linecolor": "white",
           "ticks": "",
           "title": {
            "standoff": 15
           },
           "zerolinecolor": "white",
           "zerolinewidth": 2
          },
          "yaxis": {
           "automargin": true,
           "gridcolor": "white",
           "linecolor": "white",
           "ticks": "",
           "title": {
            "standoff": 15
           },
           "zerolinecolor": "white",
           "zerolinewidth": 2
          }
         }
        },
        "xaxis": {
         "anchor": "y",
         "domain": [
          0,
          1
         ]
        },
        "yaxis": {
         "anchor": "x",
         "domain": [
          0,
          1
         ],
         "title": {
          "text": "casos_novos"
         }
        }
       }
      }
     },
     "metadata": {},
     "output_type": "display_data"
    }
   ],
   "source": [
    "# \"y\" Vai representar uma variável\n",
    "grafico = px.box(covid_campinas, y=\"casos_novos\")\n",
    "grafico.show()"
   ]
  },
  {
   "cell_type": "code",
   "execution_count": 44,
   "metadata": {},
   "outputs": [
    {
     "data": {
      "text/plain": [
       "756.5"
      ]
     },
     "execution_count": 44,
     "metadata": {},
     "output_type": "execute_result"
    }
   ],
   "source": [
    "outlier_sup = covid_campinas.casos_novos.quantile(q=0.75) + 1.5 * (covid_campinas.casos_novos.quantile(q=0.75) - covid_campinas.casos_novos.quantile(q=0.25))\n",
    "outlier_sup"
   ]
  },
  {
   "cell_type": "code",
   "execution_count": 45,
   "metadata": {},
   "outputs": [
    {
     "data": {
      "text/plain": [
       "-391.5"
      ]
     },
     "execution_count": 45,
     "metadata": {},
     "output_type": "execute_result"
    }
   ],
   "source": [
    "outlier_inf = covid_campinas.casos_novos.quantile(q=0.25) - 1.5 * (covid_campinas.casos_novos.quantile(q=0.75) - covid_campinas.casos_novos.quantile(q=0.25))\n",
    "outlier_inf"
   ]
  },
  {
   "cell_type": "code",
   "execution_count": 46,
   "metadata": {},
   "outputs": [
    {
     "data": {
      "text/html": [
       "<div>\n",
       "<style scoped>\n",
       "    .dataframe tbody tr th:only-of-type {\n",
       "        vertical-align: middle;\n",
       "    }\n",
       "\n",
       "    .dataframe tbody tr th {\n",
       "        vertical-align: top;\n",
       "    }\n",
       "\n",
       "    .dataframe thead th {\n",
       "        text-align: right;\n",
       "    }\n",
       "</style>\n",
       "<table border=\"1\" class=\"dataframe\">\n",
       "  <thead>\n",
       "    <tr style=\"text-align: right;\">\n",
       "      <th></th>\n",
       "      <th>municipio</th>\n",
       "      <th>codigo_ibge</th>\n",
       "      <th>dia</th>\n",
       "      <th>mes</th>\n",
       "      <th>data</th>\n",
       "      <th>casos</th>\n",
       "      <th>casos_novos</th>\n",
       "      <th>casos_pc</th>\n",
       "      <th>casos_mm7d</th>\n",
       "      <th>obitos</th>\n",
       "      <th>...</th>\n",
       "      <th>cod_drs</th>\n",
       "      <th>pop</th>\n",
       "      <th>pop_60</th>\n",
       "      <th>area</th>\n",
       "      <th>map_leg</th>\n",
       "      <th>map_leg_s</th>\n",
       "      <th>latitude</th>\n",
       "      <th>longitude</th>\n",
       "      <th>semana_epidem</th>\n",
       "      <th>porcentagem_idosos</th>\n",
       "    </tr>\n",
       "  </thead>\n",
       "  <tbody>\n",
       "    <tr>\n",
       "      <th>108</th>\n",
       "      <td>Campinas</td>\n",
       "      <td>3509502</td>\n",
       "      <td>25</td>\n",
       "      <td>2</td>\n",
       "      <td>2020-02-25</td>\n",
       "      <td>0</td>\n",
       "      <td>0</td>\n",
       "      <td>0,00000000000000e+00</td>\n",
       "      <td>0,000000000000000</td>\n",
       "      <td>0</td>\n",
       "      <td>...</td>\n",
       "      <td>3</td>\n",
       "      <td>1175501</td>\n",
       "      <td>192796</td>\n",
       "      <td>794.57</td>\n",
       "      <td>0</td>\n",
       "      <td>8.0</td>\n",
       "      <td>-22,9053</td>\n",
       "      <td>-47,0659</td>\n",
       "      <td>9</td>\n",
       "      <td>16.401177</td>\n",
       "    </tr>\n",
       "    <tr>\n",
       "      <th>753</th>\n",
       "      <td>Campinas</td>\n",
       "      <td>3509502</td>\n",
       "      <td>26</td>\n",
       "      <td>2</td>\n",
       "      <td>2020-02-26</td>\n",
       "      <td>0</td>\n",
       "      <td>0</td>\n",
       "      <td>0,00000000000000e+00</td>\n",
       "      <td>0,000000000000000</td>\n",
       "      <td>0</td>\n",
       "      <td>...</td>\n",
       "      <td>3</td>\n",
       "      <td>1175501</td>\n",
       "      <td>192796</td>\n",
       "      <td>794.57</td>\n",
       "      <td>0</td>\n",
       "      <td>8.0</td>\n",
       "      <td>-22,9053</td>\n",
       "      <td>-47,0659</td>\n",
       "      <td>9</td>\n",
       "      <td>16.401177</td>\n",
       "    </tr>\n",
       "    <tr>\n",
       "      <th>1398</th>\n",
       "      <td>Campinas</td>\n",
       "      <td>3509502</td>\n",
       "      <td>27</td>\n",
       "      <td>2</td>\n",
       "      <td>2020-02-27</td>\n",
       "      <td>0</td>\n",
       "      <td>0</td>\n",
       "      <td>0,00000000000000e+00</td>\n",
       "      <td>0,000000000000000</td>\n",
       "      <td>0</td>\n",
       "      <td>...</td>\n",
       "      <td>3</td>\n",
       "      <td>1175501</td>\n",
       "      <td>192796</td>\n",
       "      <td>794.57</td>\n",
       "      <td>0</td>\n",
       "      <td>8.0</td>\n",
       "      <td>-22,9053</td>\n",
       "      <td>-47,0659</td>\n",
       "      <td>9</td>\n",
       "      <td>16.401177</td>\n",
       "    </tr>\n",
       "  </tbody>\n",
       "</table>\n",
       "<p>3 rows × 27 columns</p>\n",
       "</div>"
      ],
      "text/plain": [
       "     municipio  codigo_ibge  dia  mes        data  casos  casos_novos  \\\n",
       "108   Campinas      3509502   25    2  2020-02-25      0            0   \n",
       "753   Campinas      3509502   26    2  2020-02-26      0            0   \n",
       "1398  Campinas      3509502   27    2  2020-02-27      0            0   \n",
       "\n",
       "                  casos_pc         casos_mm7d  obitos  ...  cod_drs      pop  \\\n",
       "108   0,00000000000000e+00  0,000000000000000       0  ...        3  1175501   \n",
       "753   0,00000000000000e+00  0,000000000000000       0  ...        3  1175501   \n",
       "1398  0,00000000000000e+00  0,000000000000000       0  ...        3  1175501   \n",
       "\n",
       "      pop_60    area map_leg  map_leg_s  latitude  longitude  semana_epidem  \\\n",
       "108   192796  794.57       0        8.0  -22,9053   -47,0659              9   \n",
       "753   192796  794.57       0        8.0  -22,9053   -47,0659              9   \n",
       "1398  192796  794.57       0        8.0  -22,9053   -47,0659              9   \n",
       "\n",
       "      porcentagem_idosos  \n",
       "108            16.401177  \n",
       "753            16.401177  \n",
       "1398           16.401177  \n",
       "\n",
       "[3 rows x 27 columns]"
      ]
     },
     "execution_count": 46,
     "metadata": {},
     "output_type": "execute_result"
    }
   ],
   "source": [
    "sem_outliers = covid_campinas.loc[covid_campinas.casos_novos <= outlier_sup]\n",
    "sem_outliers.head(3)"
   ]
  },
  {
   "cell_type": "code",
   "execution_count": 47,
   "metadata": {},
   "outputs": [
    {
     "data": {
      "application/vnd.plotly.v1+json": {
       "config": {
        "plotlyServerURL": "https://plot.ly"
       },
       "data": [
        {
         "alignmentgroup": "True",
         "hovertemplate": "casos_novos=%{y}<extra></extra>",
         "legendgroup": "",
         "marker": {
          "color": "#636efa"
         },
         "name": "",
         "notched": false,
         "offsetgroup": "",
         "orientation": "v",
         "showlegend": false,
         "type": "box",
         "x0": " ",
         "xaxis": "x",
         "y": [
          0,
          0,
          0,
          0,
          0,
          0,
          0,
          0,
          0,
          0,
          0,
          0,
          0,
          0,
          0,
          0,
          0,
          0,
          0,
          0,
          0,
          0,
          1,
          0,
          0,
          0,
          0,
          0,
          0,
          3,
          0,
          1,
          0,
          0,
          6,
          4,
          7,
          1,
          1,
          2,
          0,
          2,
          22,
          22,
          11,
          17,
          0,
          6,
          1,
          5,
          30,
          7,
          15,
          20,
          0,
          8,
          7,
          3,
          9,
          18,
          27,
          6,
          17,
          41,
          24,
          25,
          3,
          8,
          22,
          1,
          27,
          32,
          33,
          32,
          68,
          14,
          6,
          28,
          87,
          39,
          71,
          106,
          41,
          19,
          67,
          59,
          60,
          55,
          59,
          29,
          47,
          33,
          39,
          66,
          107,
          106,
          20,
          69,
          106,
          171,
          148,
          167,
          190,
          113,
          35,
          162,
          207,
          170,
          199,
          192,
          170,
          32,
          373,
          45,
          28,
          190,
          142,
          179,
          252,
          434,
          280,
          340,
          330,
          352,
          117,
          277,
          404,
          349,
          278,
          79,
          303,
          191,
          430,
          406,
          316,
          303,
          288,
          146,
          138,
          314,
          292,
          300,
          200,
          127,
          84,
          245,
          153,
          701,
          475,
          624,
          510,
          133,
          172,
          482,
          483,
          355,
          441,
          291,
          356,
          179,
          449,
          361,
          414,
          357,
          450,
          157,
          133,
          524,
          579,
          660,
          370,
          509,
          89,
          205,
          223,
          208,
          450,
          137,
          405,
          184,
          85,
          488,
          223,
          258,
          267,
          170,
          79,
          11,
          205,
          383,
          400,
          161,
          294,
          79,
          39,
          60,
          108,
          237,
          198,
          97,
          17,
          75,
          216,
          210,
          183,
          141,
          161,
          138,
          11,
          119,
          124,
          136,
          108,
          202,
          12,
          21,
          108,
          121,
          75,
          86,
          94,
          3,
          32,
          122,
          154,
          131,
          107,
          118,
          60,
          7,
          22,
          114,
          128,
          128,
          93,
          6,
          4,
          174,
          107,
          68,
          83,
          126,
          42,
          11,
          136,
          141,
          73,
          100,
          36,
          10,
          11,
          5,
          116,
          73,
          0,
          0,
          0,
          0,
          426,
          47,
          90,
          113,
          88,
          7,
          13,
          196,
          213,
          138,
          182,
          215,
          65,
          12,
          123,
          218,
          126,
          116,
          124,
          27,
          23,
          366,
          334,
          328,
          270,
          212,
          45,
          2,
          287,
          114,
          419,
          228,
          204,
          3,
          27,
          197,
          0,
          420,
          386,
          359,
          0,
          106,
          395,
          252,
          353,
          23,
          16,
          28,
          53,
          569,
          396,
          283,
          92,
          6,
          53,
          42,
          432,
          394,
          393,
          333,
          447,
          69,
          77,
          417,
          341,
          376,
          376,
          339,
          134,
          36,
          455,
          517,
          285,
          193,
          460,
          148,
          69,
          478,
          498,
          307,
          299,
          271,
          48,
          78,
          267,
          196,
          389,
          330,
          336,
          98,
          26,
          320,
          352,
          259,
          353,
          236,
          77,
          59,
          278,
          316,
          300,
          246,
          218,
          143,
          69,
          328,
          348,
          188,
          297,
          265,
          83,
          29,
          316,
          390,
          241,
          278,
          403,
          81,
          36,
          452,
          367,
          347,
          309,
          478,
          176,
          37,
          382,
          434,
          380,
          319,
          423,
          212,
          59,
          409,
          487,
          364,
          394,
          432,
          210,
          89,
          496,
          416,
          503,
          277,
          88,
          75,
          63,
          520,
          377,
          388,
          407,
          384,
          95,
          140,
          454,
          396,
          506,
          360,
          406,
          52,
          45,
          412,
          457,
          135,
          523,
          449,
          89,
          35,
          618,
          276,
          303,
          313,
          319,
          44,
          24,
          433,
          443,
          305,
          414,
          277,
          45,
          20,
          302,
          185,
          186,
          327,
          530,
          38,
          33,
          448,
          311,
          336,
          256,
          569,
          192,
          76,
          387,
          221,
          242,
          24,
          282,
          85,
          40,
          432,
          446,
          286,
          75,
          285,
          45,
          71,
          218,
          69,
          518,
          425,
          417,
          105,
          78,
          634,
          504,
          379,
          633,
          583,
          153,
          142,
          541,
          507,
          476,
          481,
          521,
          168,
          63,
          550,
          222,
          395,
          588,
          413,
          57,
          77,
          527,
          365,
          306,
          408,
          108,
          64,
          65,
          239,
          408,
          278,
          404,
          581,
          57,
          37,
          102,
          451,
          407,
          380,
          261,
          56,
          38,
          335,
          526,
          298,
          239,
          309,
          63,
          57,
          480,
          515,
          258,
          214,
          272,
          70,
          43,
          335,
          253,
          325,
          299,
          300,
          191,
          14,
          272,
          181,
          241,
          204,
          195,
          153,
          23,
          282,
          180,
          228,
          407,
          193,
          70,
          38,
          230,
          181,
          234,
          232,
          281,
          120,
          60,
          164,
          133,
          41,
          22,
          19,
          18,
          5,
          5,
          4,
          5,
          26,
          27,
          0,
          207,
          132,
          121,
          28,
          68
         ],
         "y0": " ",
         "yaxis": "y"
        }
       ],
       "layout": {
        "boxmode": "group",
        "legend": {
         "tracegroupgap": 0
        },
        "margin": {
         "t": 60
        },
        "template": {
         "data": {
          "bar": [
           {
            "error_x": {
             "color": "#2a3f5f"
            },
            "error_y": {
             "color": "#2a3f5f"
            },
            "marker": {
             "line": {
              "color": "#E5ECF6",
              "width": 0.5
             },
             "pattern": {
              "fillmode": "overlay",
              "size": 10,
              "solidity": 0.2
             }
            },
            "type": "bar"
           }
          ],
          "barpolar": [
           {
            "marker": {
             "line": {
              "color": "#E5ECF6",
              "width": 0.5
             },
             "pattern": {
              "fillmode": "overlay",
              "size": 10,
              "solidity": 0.2
             }
            },
            "type": "barpolar"
           }
          ],
          "carpet": [
           {
            "aaxis": {
             "endlinecolor": "#2a3f5f",
             "gridcolor": "white",
             "linecolor": "white",
             "minorgridcolor": "white",
             "startlinecolor": "#2a3f5f"
            },
            "baxis": {
             "endlinecolor": "#2a3f5f",
             "gridcolor": "white",
             "linecolor": "white",
             "minorgridcolor": "white",
             "startlinecolor": "#2a3f5f"
            },
            "type": "carpet"
           }
          ],
          "choropleth": [
           {
            "colorbar": {
             "outlinewidth": 0,
             "ticks": ""
            },
            "type": "choropleth"
           }
          ],
          "contour": [
           {
            "colorbar": {
             "outlinewidth": 0,
             "ticks": ""
            },
            "colorscale": [
             [
              0,
              "#0d0887"
             ],
             [
              0.1111111111111111,
              "#46039f"
             ],
             [
              0.2222222222222222,
              "#7201a8"
             ],
             [
              0.3333333333333333,
              "#9c179e"
             ],
             [
              0.4444444444444444,
              "#bd3786"
             ],
             [
              0.5555555555555556,
              "#d8576b"
             ],
             [
              0.6666666666666666,
              "#ed7953"
             ],
             [
              0.7777777777777778,
              "#fb9f3a"
             ],
             [
              0.8888888888888888,
              "#fdca26"
             ],
             [
              1,
              "#f0f921"
             ]
            ],
            "type": "contour"
           }
          ],
          "contourcarpet": [
           {
            "colorbar": {
             "outlinewidth": 0,
             "ticks": ""
            },
            "type": "contourcarpet"
           }
          ],
          "heatmap": [
           {
            "colorbar": {
             "outlinewidth": 0,
             "ticks": ""
            },
            "colorscale": [
             [
              0,
              "#0d0887"
             ],
             [
              0.1111111111111111,
              "#46039f"
             ],
             [
              0.2222222222222222,
              "#7201a8"
             ],
             [
              0.3333333333333333,
              "#9c179e"
             ],
             [
              0.4444444444444444,
              "#bd3786"
             ],
             [
              0.5555555555555556,
              "#d8576b"
             ],
             [
              0.6666666666666666,
              "#ed7953"
             ],
             [
              0.7777777777777778,
              "#fb9f3a"
             ],
             [
              0.8888888888888888,
              "#fdca26"
             ],
             [
              1,
              "#f0f921"
             ]
            ],
            "type": "heatmap"
           }
          ],
          "heatmapgl": [
           {
            "colorbar": {
             "outlinewidth": 0,
             "ticks": ""
            },
            "colorscale": [
             [
              0,
              "#0d0887"
             ],
             [
              0.1111111111111111,
              "#46039f"
             ],
             [
              0.2222222222222222,
              "#7201a8"
             ],
             [
              0.3333333333333333,
              "#9c179e"
             ],
             [
              0.4444444444444444,
              "#bd3786"
             ],
             [
              0.5555555555555556,
              "#d8576b"
             ],
             [
              0.6666666666666666,
              "#ed7953"
             ],
             [
              0.7777777777777778,
              "#fb9f3a"
             ],
             [
              0.8888888888888888,
              "#fdca26"
             ],
             [
              1,
              "#f0f921"
             ]
            ],
            "type": "heatmapgl"
           }
          ],
          "histogram": [
           {
            "marker": {
             "pattern": {
              "fillmode": "overlay",
              "size": 10,
              "solidity": 0.2
             }
            },
            "type": "histogram"
           }
          ],
          "histogram2d": [
           {
            "colorbar": {
             "outlinewidth": 0,
             "ticks": ""
            },
            "colorscale": [
             [
              0,
              "#0d0887"
             ],
             [
              0.1111111111111111,
              "#46039f"
             ],
             [
              0.2222222222222222,
              "#7201a8"
             ],
             [
              0.3333333333333333,
              "#9c179e"
             ],
             [
              0.4444444444444444,
              "#bd3786"
             ],
             [
              0.5555555555555556,
              "#d8576b"
             ],
             [
              0.6666666666666666,
              "#ed7953"
             ],
             [
              0.7777777777777778,
              "#fb9f3a"
             ],
             [
              0.8888888888888888,
              "#fdca26"
             ],
             [
              1,
              "#f0f921"
             ]
            ],
            "type": "histogram2d"
           }
          ],
          "histogram2dcontour": [
           {
            "colorbar": {
             "outlinewidth": 0,
             "ticks": ""
            },
            "colorscale": [
             [
              0,
              "#0d0887"
             ],
             [
              0.1111111111111111,
              "#46039f"
             ],
             [
              0.2222222222222222,
              "#7201a8"
             ],
             [
              0.3333333333333333,
              "#9c179e"
             ],
             [
              0.4444444444444444,
              "#bd3786"
             ],
             [
              0.5555555555555556,
              "#d8576b"
             ],
             [
              0.6666666666666666,
              "#ed7953"
             ],
             [
              0.7777777777777778,
              "#fb9f3a"
             ],
             [
              0.8888888888888888,
              "#fdca26"
             ],
             [
              1,
              "#f0f921"
             ]
            ],
            "type": "histogram2dcontour"
           }
          ],
          "mesh3d": [
           {
            "colorbar": {
             "outlinewidth": 0,
             "ticks": ""
            },
            "type": "mesh3d"
           }
          ],
          "parcoords": [
           {
            "line": {
             "colorbar": {
              "outlinewidth": 0,
              "ticks": ""
             }
            },
            "type": "parcoords"
           }
          ],
          "pie": [
           {
            "automargin": true,
            "type": "pie"
           }
          ],
          "scatter": [
           {
            "fillpattern": {
             "fillmode": "overlay",
             "size": 10,
             "solidity": 0.2
            },
            "type": "scatter"
           }
          ],
          "scatter3d": [
           {
            "line": {
             "colorbar": {
              "outlinewidth": 0,
              "ticks": ""
             }
            },
            "marker": {
             "colorbar": {
              "outlinewidth": 0,
              "ticks": ""
             }
            },
            "type": "scatter3d"
           }
          ],
          "scattercarpet": [
           {
            "marker": {
             "colorbar": {
              "outlinewidth": 0,
              "ticks": ""
             }
            },
            "type": "scattercarpet"
           }
          ],
          "scattergeo": [
           {
            "marker": {
             "colorbar": {
              "outlinewidth": 0,
              "ticks": ""
             }
            },
            "type": "scattergeo"
           }
          ],
          "scattergl": [
           {
            "marker": {
             "colorbar": {
              "outlinewidth": 0,
              "ticks": ""
             }
            },
            "type": "scattergl"
           }
          ],
          "scattermapbox": [
           {
            "marker": {
             "colorbar": {
              "outlinewidth": 0,
              "ticks": ""
             }
            },
            "type": "scattermapbox"
           }
          ],
          "scatterpolar": [
           {
            "marker": {
             "colorbar": {
              "outlinewidth": 0,
              "ticks": ""
             }
            },
            "type": "scatterpolar"
           }
          ],
          "scatterpolargl": [
           {
            "marker": {
             "colorbar": {
              "outlinewidth": 0,
              "ticks": ""
             }
            },
            "type": "scatterpolargl"
           }
          ],
          "scatterternary": [
           {
            "marker": {
             "colorbar": {
              "outlinewidth": 0,
              "ticks": ""
             }
            },
            "type": "scatterternary"
           }
          ],
          "surface": [
           {
            "colorbar": {
             "outlinewidth": 0,
             "ticks": ""
            },
            "colorscale": [
             [
              0,
              "#0d0887"
             ],
             [
              0.1111111111111111,
              "#46039f"
             ],
             [
              0.2222222222222222,
              "#7201a8"
             ],
             [
              0.3333333333333333,
              "#9c179e"
             ],
             [
              0.4444444444444444,
              "#bd3786"
             ],
             [
              0.5555555555555556,
              "#d8576b"
             ],
             [
              0.6666666666666666,
              "#ed7953"
             ],
             [
              0.7777777777777778,
              "#fb9f3a"
             ],
             [
              0.8888888888888888,
              "#fdca26"
             ],
             [
              1,
              "#f0f921"
             ]
            ],
            "type": "surface"
           }
          ],
          "table": [
           {
            "cells": {
             "fill": {
              "color": "#EBF0F8"
             },
             "line": {
              "color": "white"
             }
            },
            "header": {
             "fill": {
              "color": "#C8D4E3"
             },
             "line": {
              "color": "white"
             }
            },
            "type": "table"
           }
          ]
         },
         "layout": {
          "annotationdefaults": {
           "arrowcolor": "#2a3f5f",
           "arrowhead": 0,
           "arrowwidth": 1
          },
          "autotypenumbers": "strict",
          "coloraxis": {
           "colorbar": {
            "outlinewidth": 0,
            "ticks": ""
           }
          },
          "colorscale": {
           "diverging": [
            [
             0,
             "#8e0152"
            ],
            [
             0.1,
             "#c51b7d"
            ],
            [
             0.2,
             "#de77ae"
            ],
            [
             0.3,
             "#f1b6da"
            ],
            [
             0.4,
             "#fde0ef"
            ],
            [
             0.5,
             "#f7f7f7"
            ],
            [
             0.6,
             "#e6f5d0"
            ],
            [
             0.7,
             "#b8e186"
            ],
            [
             0.8,
             "#7fbc41"
            ],
            [
             0.9,
             "#4d9221"
            ],
            [
             1,
             "#276419"
            ]
           ],
           "sequential": [
            [
             0,
             "#0d0887"
            ],
            [
             0.1111111111111111,
             "#46039f"
            ],
            [
             0.2222222222222222,
             "#7201a8"
            ],
            [
             0.3333333333333333,
             "#9c179e"
            ],
            [
             0.4444444444444444,
             "#bd3786"
            ],
            [
             0.5555555555555556,
             "#d8576b"
            ],
            [
             0.6666666666666666,
             "#ed7953"
            ],
            [
             0.7777777777777778,
             "#fb9f3a"
            ],
            [
             0.8888888888888888,
             "#fdca26"
            ],
            [
             1,
             "#f0f921"
            ]
           ],
           "sequentialminus": [
            [
             0,
             "#0d0887"
            ],
            [
             0.1111111111111111,
             "#46039f"
            ],
            [
             0.2222222222222222,
             "#7201a8"
            ],
            [
             0.3333333333333333,
             "#9c179e"
            ],
            [
             0.4444444444444444,
             "#bd3786"
            ],
            [
             0.5555555555555556,
             "#d8576b"
            ],
            [
             0.6666666666666666,
             "#ed7953"
            ],
            [
             0.7777777777777778,
             "#fb9f3a"
            ],
            [
             0.8888888888888888,
             "#fdca26"
            ],
            [
             1,
             "#f0f921"
            ]
           ]
          },
          "colorway": [
           "#636efa",
           "#EF553B",
           "#00cc96",
           "#ab63fa",
           "#FFA15A",
           "#19d3f3",
           "#FF6692",
           "#B6E880",
           "#FF97FF",
           "#FECB52"
          ],
          "font": {
           "color": "#2a3f5f"
          },
          "geo": {
           "bgcolor": "white",
           "lakecolor": "white",
           "landcolor": "#E5ECF6",
           "showlakes": true,
           "showland": true,
           "subunitcolor": "white"
          },
          "hoverlabel": {
           "align": "left"
          },
          "hovermode": "closest",
          "mapbox": {
           "style": "light"
          },
          "paper_bgcolor": "white",
          "plot_bgcolor": "#E5ECF6",
          "polar": {
           "angularaxis": {
            "gridcolor": "white",
            "linecolor": "white",
            "ticks": ""
           },
           "bgcolor": "#E5ECF6",
           "radialaxis": {
            "gridcolor": "white",
            "linecolor": "white",
            "ticks": ""
           }
          },
          "scene": {
           "xaxis": {
            "backgroundcolor": "#E5ECF6",
            "gridcolor": "white",
            "gridwidth": 2,
            "linecolor": "white",
            "showbackground": true,
            "ticks": "",
            "zerolinecolor": "white"
           },
           "yaxis": {
            "backgroundcolor": "#E5ECF6",
            "gridcolor": "white",
            "gridwidth": 2,
            "linecolor": "white",
            "showbackground": true,
            "ticks": "",
            "zerolinecolor": "white"
           },
           "zaxis": {
            "backgroundcolor": "#E5ECF6",
            "gridcolor": "white",
            "gridwidth": 2,
            "linecolor": "white",
            "showbackground": true,
            "ticks": "",
            "zerolinecolor": "white"
           }
          },
          "shapedefaults": {
           "line": {
            "color": "#2a3f5f"
           }
          },
          "ternary": {
           "aaxis": {
            "gridcolor": "white",
            "linecolor": "white",
            "ticks": ""
           },
           "baxis": {
            "gridcolor": "white",
            "linecolor": "white",
            "ticks": ""
           },
           "bgcolor": "#E5ECF6",
           "caxis": {
            "gridcolor": "white",
            "linecolor": "white",
            "ticks": ""
           }
          },
          "title": {
           "x": 0.05
          },
          "xaxis": {
           "automargin": true,
           "gridcolor": "white",
           "linecolor": "white",
           "ticks": "",
           "title": {
            "standoff": 15
           },
           "zerolinecolor": "white",
           "zerolinewidth": 2
          },
          "yaxis": {
           "automargin": true,
           "gridcolor": "white",
           "linecolor": "white",
           "ticks": "",
           "title": {
            "standoff": 15
           },
           "zerolinecolor": "white",
           "zerolinewidth": 2
          }
         }
        },
        "xaxis": {
         "anchor": "y",
         "domain": [
          0,
          1
         ]
        },
        "yaxis": {
         "anchor": "x",
         "domain": [
          0,
          1
         ],
         "title": {
          "text": "casos_novos"
         }
        }
       }
      }
     },
     "metadata": {},
     "output_type": "display_data"
    }
   ],
   "source": [
    "grafico = px.box(sem_outliers, y=\"casos_novos\")\n",
    "grafico.show()"
   ]
  },
  {
   "cell_type": "markdown",
   "metadata": {},
   "source": [
    "### Medidas de Dispersão"
   ]
  },
  {
   "cell_type": "code",
   "execution_count": 48,
   "metadata": {},
   "outputs": [
    {
     "data": {
      "text/plain": [
       "('Guarulhos:  132.51', 'Campinas:  80.24')"
      ]
     },
     "execution_count": 48,
     "metadata": {},
     "output_type": "execute_result"
    }
   ],
   "source": [
    "# Variância de óbitos novos\n",
    "var_gr = round(covid_guarulhos[\"obitos_novos\"].var(), 2)\n",
    "var_camp = round(covid_campinas[\"obitos_novos\"].var(), 2)\n",
    "f\"Guarulhos:  {var_gr}\",f\"Campinas:  {var_camp}\""
   ]
  },
  {
   "cell_type": "code",
   "execution_count": 49,
   "metadata": {},
   "outputs": [
    {
     "data": {
      "text/plain": [
       "('Guarulhos:  11.51', 'Campinas:  8.96')"
      ]
     },
     "execution_count": 49,
     "metadata": {},
     "output_type": "execute_result"
    }
   ],
   "source": [
    "# Desvio padrão de óbitos novos\n",
    "dsv_gr = round(covid_guarulhos[\"obitos_novos\"].std(), 2)\n",
    "dsv_camp = round(covid_campinas[\"obitos_novos\"].std(), 2)\n",
    "f\"Guarulhos:  {dsv_gr}\", f\"Campinas:  {dsv_camp}\""
   ]
  },
  {
   "cell_type": "code",
   "execution_count": 50,
   "metadata": {},
   "outputs": [
    {
     "data": {
      "text/plain": [
       "('Guarulhos:  10052.44', 'Campinas:  30252.92')"
      ]
     },
     "execution_count": 50,
     "metadata": {},
     "output_type": "execute_result"
    }
   ],
   "source": [
    "# Variância de casos novos\n",
    "var_gr_casos = round(covid_guarulhos[\"casos_novos\"].var(), 2)\n",
    "var_camp_casos = round(covid_campinas[\"casos_novos\"].var(), 2)\n",
    "f\"Guarulhos:  {var_gr_casos}\",f\"Campinas:  {var_camp_casos}\""
   ]
  },
  {
   "cell_type": "code",
   "execution_count": 51,
   "metadata": {},
   "outputs": [
    {
     "data": {
      "text/plain": [
       "('Guarulhos:  100.26', 'Campinas:  173.93')"
      ]
     },
     "execution_count": 51,
     "metadata": {},
     "output_type": "execute_result"
    }
   ],
   "source": [
    "# Desvio padrão de casos novos\n",
    "dsv_gr_casos = round(covid_guarulhos[\"casos_novos\"].std(), 2)\n",
    "dsv_camp_casos = round(covid_campinas[\"casos_novos\"].std(), 2)\n",
    "f\"Guarulhos:  {dsv_gr_casos}\", f\"Campinas:  {dsv_camp_casos}\""
   ]
  },
  {
   "cell_type": "markdown",
   "metadata": {},
   "source": [
    "### Testes de normalidade"
   ]
  },
  {
   "cell_type": "markdown",
   "metadata": {},
   "source": [
    "##### Existem tester de normalidade numéricos e testes gráficos:\n",
    "- Shapiro-Wilk (limite de 5000 amostras)\n",
    "- Kolmogorov-Smirnov\n",
    "- Histograma\n",
    "- QQplot"
   ]
  },
  {
   "cell_type": "markdown",
   "metadata": {},
   "source": [
    "##### Histograma"
   ]
  },
  {
   "cell_type": "code",
   "execution_count": 52,
   "metadata": {},
   "outputs": [
    {
     "data": {
      "text/plain": [
       "<Axes: xlabel='casos_novos', ylabel='Probability'>"
      ]
     },
     "execution_count": 52,
     "metadata": {},
     "output_type": "execute_result"
    },
    {
     "data": {
      "image/png": "[encoded data removed]",
      "text/plain": [
       "<Figure size 640x480 with 1 Axes>"
      ]
     },
     "metadata": {},
     "output_type": "display_data"
    }
   ],
   "source": [
    "import seaborn as sns\n",
    "\n",
    "# \"kde\" vai traçar uma linha de tendência\n",
    "# \"stat\" vai colocar no eixo Y vários pontos de referência\n",
    "sns.histplot(covid_campinas, x=\"casos_novos\", bins=32, color=\"orange\", kde=True, stat=\"probability\")"
   ]
  },
  {
   "cell_type": "markdown",
   "metadata": {},
   "source": [
    "##### QQPLOT"
   ]
  },
  {
   "cell_type": "code",
   "execution_count": 53,
   "metadata": {},
   "outputs": [],
   "source": [
    "import scipy.stats as stats\n",
    "import matplotlib.pyplot as plt"
   ]
  },
  {
   "cell_type": "code",
   "execution_count": 55,
   "metadata": {},
   "outputs": [
    {
     "data": {
      "image/png": "[encoded data removed]",
      "text/plain": [
       "<Figure size 640x480 with 1 Axes>"
      ]
     },
     "metadata": {},
     "output_type": "display_data"
    }
   ],
   "source": [
    "# \"probplot\" é usado para plotar um gráfico, usa uma coluna da base de dados \"covid_campinas\",\n",
    "# em \"dist\" será análisada a distribuição (nesse caso \"norm\" que é a distribuição normal),\n",
    "# e \"plot\" recebe o matplotlib.pyplot\n",
    "stats.probplot(covid_campinas.casos_novos, dist=\"norm\", plot=plt)\n",
    "plt.title(\"Análise de normalidade\")\n",
    "plt.show()"
   ]
  },
  {
   "cell_type": "markdown",
   "metadata": {},
   "source": [
    "##### Teste de Shapiro-Wilk"
   ]
  },
  {
   "cell_type": "markdown",
   "metadata": {},
   "source": [
    "CRITÉRIOS:\n",
    "- Nível de significância de 0,05% ou 5% (mais utilizado)\n",
    "- Quando p > 0,05% (distribuição normal)"
   ]
  },
  {
   "cell_type": "code",
   "execution_count": 56,
   "metadata": {},
   "outputs": [
    {
     "data": {
      "text/plain": [
       "ShapiroResult(statistic=0.9063183069229126, pvalue=2.1796114015001836e-18)"
      ]
     },
     "execution_count": 56,
     "metadata": {},
     "output_type": "execute_result"
    }
   ],
   "source": [
    "stats.shapiro(covid_campinas.casos_novos)"
   ]
  },
  {
   "cell_type": "code",
   "execution_count": 57,
   "metadata": {},
   "outputs": [],
   "source": [
    "estatistica, p = stats.shapiro(covid_campinas.casos_novos)"
   ]
  },
  {
   "cell_type": "code",
   "execution_count": 59,
   "metadata": {},
   "outputs": [
    {
     "name": "stdout",
     "output_type": "stream",
     "text": [
      "Estatística do teste (W) =  0.91\n"
     ]
    }
   ],
   "source": [
    "print(\"Estatística do teste (W) = \", round(estatistica,2))"
   ]
  },
  {
   "cell_type": "code",
   "execution_count": 60,
   "metadata": {},
   "outputs": [
    {
     "name": "stdout",
     "output_type": "stream",
     "text": [
      "p_valor =  2.1796114015001836e-18\n"
     ]
    }
   ],
   "source": [
    "print(\"p_valor = \", p)"
   ]
  },
  {
   "cell_type": "markdown",
   "metadata": {},
   "source": [
    "##### Teste Lilliefors (Kolmogorov-Smirnov)"
   ]
  },
  {
   "cell_type": "code",
   "execution_count": 62,
   "metadata": {},
   "outputs": [],
   "source": [
    "from statsmodels.stats.diagnostic import lilliefors\n",
    "import statsmodels"
   ]
  },
  {
   "cell_type": "code",
   "execution_count": 65,
   "metadata": {},
   "outputs": [
    {
     "name": "stdout",
     "output_type": "stream",
     "text": [
      "Estatística do teste (D) =  0.13\n",
      "p_valor =  0.0009999999999998899\n"
     ]
    }
   ],
   "source": [
    "estatistica, p = statsmodels.stats.diagnostic.lilliefors(covid_campinas.casos_novos, dist=\"norm\")\n",
    "print(\"Estatística do teste (D) = \", round(estatistica, 2))\n",
    "print(\"p_valor = \", p)"
   ]
  }
 ],
 "metadata": {
  "kernelspec": {
   "display_name": "base",
   "language": "python",
   "name": "python3"
  },
  "language_info": {
   "codemirror_mode": {
    "name": "ipython",
    "version": 3
   },
   "file_extension": ".py",
   "mimetype": "text/x-python",
   "name": "python",
   "nbconvert_exporter": "python",
   "pygments_lexer": "ipython3",
   "version": "3.11.4"
  }
 },
 "nbformat": 4,
 "nbformat_minor": 2
}
